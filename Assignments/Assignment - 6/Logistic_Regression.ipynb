{
 "cells": [
  {
   "cell_type": "markdown",
   "metadata": {
    "colab_type": "text",
    "id": "MMWp3bQP-bhU"
   },
   "source": [
    "# Logistic Regression"
   ]
  },
  {
   "cell_type": "markdown",
   "metadata": {
    "colab_type": "text",
    "id": "ZFan3puzCFNW"
   },
   "source": [
    "\n",
    "Use the given data (X_logistic.txt and y_logistic.txt) for this exercise. Perform random shuffle and train-validation-test split(80:10:10). The y value to which class 0 belongs to can be taken as 0 and the y value to which class 1 belongs to can be taken as 1."
   ]
  },
  {
   "cell_type": "markdown",
   "metadata": {},
   "source": [
    "Split the dataset here below"
   ]
  },
  {
   "cell_type": "code",
   "execution_count": 24,
   "metadata": {},
   "outputs": [
    {
     "name": "stdout",
     "output_type": "stream",
     "text": [
      "(10, 2)\n",
      "(10, 1)\n"
     ]
    }
   ],
   "source": [
    "from numpy import loadtxt\n",
    "import numpy as np\n",
    "from sklearn.model_selection import train_test_split\n",
    "X = loadtxt(\"X_logistic.txt\", comments=\"#\", delimiter=\" \", unpack=False)\n",
    "y = loadtxt(\"y_logistic.txt\", comments=\"#\", delimiter=\" \", unpack=False)\n",
    "\n",
    "X_dash, X_test, y_dash, y_test = train_test_split(X, y, test_size=0.10, random_state=10)\n",
    "X_train, X_valid, y_train, y_valid = train_test_split(X_dash, y_dash, test_size=0.10, random_state=10)\n",
    "y_test = y_test.reshape(-1,1)\n",
    "print(np.shape(X_test))\n",
    "print(np.shape(y_test.reshape(-1,1)))"
   ]
  },
  {
   "cell_type": "markdown",
   "metadata": {
    "colab_type": "text",
    "id": "Z-oG9kF-uZ3Z"
   },
   "source": [
    "(a) Logistic Regression uses the sigmoid function for binary classification. \n",
    "\n",
    "<br> (i) Plot the sigmoid function for the range x : [-20,20]. This exercise will help you understand the shape of the sigmoid function and show its suitability in binary classification problems.\n",
    "\n"
   ]
  },
  {
   "cell_type": "code",
   "execution_count": 97,
   "metadata": {
    "colab": {},
    "colab_type": "code",
    "id": "JaMkbIHwu0c4"
   },
   "outputs": [
    {
     "data": {
      "image/png": "[encoded data removed]",
      "text/plain": [
       "<Figure size 576x432 with 1 Axes>"
      ]
     },
     "metadata": {},
     "output_type": "display_data"
    }
   ],
   "source": [
    "import matplotlib.pyplot as plt\n",
    "import numpy as np\n",
    "\n",
    "x = np.linspace(-20,20,100)\n",
    "\n",
    "y = (1/(1+np.exp(-x)))\n",
    "\n",
    "# setting the axes at the centre\n",
    "fig = plt.figure(figsize=(8, 6))\n",
    "ax = fig.add_subplot(1, 1, 1)\n",
    "ax.spines['left'].set_position('center')\n",
    "ax.spines['bottom'].set_position('zero')\n",
    "ax.spines['right'].set_color('none')\n",
    "ax.spines['top'].set_color('none')\n",
    "ax.xaxis.set_ticks_position('bottom')\n",
    "ax.yaxis.set_ticks_position('left')\n",
    "\n",
    "# plot the function\n",
    "plt.plot(x,y, 'r')\n",
    "\n",
    "# show the plot\n",
    "plt.show()\n"
   ]
  },
  {
   "cell_type": "markdown",
   "metadata": {
    "colab_type": "text",
    "id": "choEHZXYu1z3"
   },
   "source": [
    "(ii) Comment on the nature of the sigmoid function graph (specifically : domain,range,behaviour in extreme inputs). This task will give you further insight on the sigmoid function, which will help you while implementing logistic regression."
   ]
  },
  {
   "cell_type": "markdown",
   "metadata": {},
   "source": [
    "Domain: [-inf,+inf]\n",
    "<br>Range: [0,1]\n",
    "<br>Beyond [-5,5] the sigmoid function tends to flatten."
   ]
  },
  {
   "cell_type": "markdown",
   "metadata": {
    "colab_type": "text",
    "id": "IN6u89Rlv0Ar"
   },
   "source": [
    "Write your answer here."
   ]
  },
  {
   "cell_type": "markdown",
   "metadata": {
    "colab_type": "text",
    "id": "e3QVThLbwZhS"
   },
   "source": [
    "(d) Derive and plot the gradients of the sigmoid function for the same range. This is needed for gradient descent in logistic regression."
   ]
  },
  {
   "cell_type": "markdown",
   "metadata": {},
   "source": [
    "Write the gradient formula here"
   ]
  },
  {
   "cell_type": "code",
   "execution_count": 99,
   "metadata": {
    "colab": {},
    "colab_type": "code",
    "id": "7Ji0XTqUwiLi"
   },
   "outputs": [
    {
     "data": {
      "image/png": "[encoded data removed]",
      "text/plain": [
       "<Figure size 576x432 with 1 Axes>"
      ]
     },
     "metadata": {},
     "output_type": "display_data"
    }
   ],
   "source": [
    "import matplotlib.pyplot as plt\n",
    "import numpy as np\n",
    "\n",
    "\n",
    "x = np.linspace(-20,20,100)\n",
    "\n",
    "y = (1/(1+np.exp(-x)))*(1- (1/(1+np.exp(-x))))\n",
    "\n",
    "# setting the axes at the centre\n",
    "fig = plt.figure(figsize=(8, 6))\n",
    "ax = fig.add_subplot(1, 1, 1)\n",
    "ax.spines['left'].set_position('center')\n",
    "ax.spines['bottom'].set_position('zero')\n",
    "ax.spines['right'].set_color('none')\n",
    "ax.spines['top'].set_color('none')\n",
    "ax.xaxis.set_ticks_position('bottom')\n",
    "ax.yaxis.set_ticks_position('left')\n",
    "\n",
    "# plot the function\n",
    "plt.plot(x,y, 'r')\n",
    "\n",
    "# show the plot\n",
    "plt.show()\n"
   ]
  },
  {
   "cell_type": "markdown",
   "metadata": {
    "colab_type": "text",
    "id": "Ba6Q4mFsDg3Q"
   },
   "source": [
    "(d) Implement logistic regression (using only numpy) to predict whether the test datapoints belong to class 0 or 1. Gradient descent also has to be implemented using numpy. \n",
    "<br>(i)Choose the best learning rate parameter between 0.001, 0.01, 0.1 and the number of iterations between 20,50 and 100 by using validation dataset(for which loss is minimized). \n",
    "\n"
   ]
  },
  {
   "cell_type": "code",
   "execution_count": 112,
   "metadata": {},
   "outputs": [],
   "source": [
    "from sklearn.metrics import f1_score\n",
    "def g(z):\n",
    "    return 1 / (1 + np.exp(-z))\n",
    "\n",
    "def h(X, theta):    \n",
    "    return g(X @ theta)\n",
    "\n",
    "def J(preds, y):\n",
    "    return 1/m * (-y @ np.log(preds) - (1 - y) @ np.log(1 - preds))\n",
    "\n",
    "def compute_gradient(theta, X, y):\n",
    "    preds = h(X, theta)\n",
    "    gradient = 1/m * X.T @ (preds - y)\n",
    "    return gradient\n",
    "\n",
    "\n",
    "\n",
    "\n",
    "iterations = [50,100,1000]\n",
    "learning_rate = [0.001,0.01,0.1]\n",
    "\n",
    "\n",
    "def test_pred_logistic_regression(X_test,y_test,iterations,learning_rate,thetaBest):\n",
    "   \n",
    "    pred = h(X_test, thetaBest)\n",
    "\n",
    "    y_pred = np.zeros((len(y_test)))\n",
    "\n",
    "    y_pred = np.zeros((len(y_test)))\n",
    "    for j in range(len(y_test)):\n",
    "        if (pred[j] > 0.5):\n",
    "            y_pred[j] = 1\n",
    "\n",
    "    acc = accuracy_score(y_test, y_pred)   \n",
    "\n",
    "    \n",
    "    return acc\n",
    "\n",
    "\n",
    "def validation_pred_logistic_regression(X_train, y_train, X_valid,y_valid,iterations,learning_rate):\n",
    "    X = X_train\n",
    "    y = y_train\n",
    "    m, n = X.shape\n",
    "    K = 2\n",
    "    theta = np.zeros(n)\n",
    "\n",
    "    alpha = 0.1\n",
    "    lossMin = 10000;\n",
    "    bestalpha = 0\n",
    "    bestiter = 0\n",
    "    thetaBest = None\n",
    "    for alpha in learning_rate:\n",
    "        for it in iterations: \n",
    "            theta = np.zeros(n)\n",
    "            for i in range(it):\n",
    "                gradient = compute_gradient(theta, X, y)\n",
    "                theta -= alpha * gradient\n",
    "\n",
    "            preds = h(X_valid, theta)\n",
    "            loss = J(preds, y_valid)\n",
    "\n",
    "\n",
    "            if (loss < lossMin):\n",
    "                lossMin = loss\n",
    "                bestalpha = alpha\n",
    "                bestiter = it\n",
    "                thetaBest = theta\n",
    "\n",
    "    return [lossMin,bestalpha, bestiter,thetaBest];\n",
    "         \n",
    "\n",
    "lossMin,bestalpha,bestiter,thetaBest = validation_pred_logistic_regression(X_train, y_train, X_train,y_train, iterations,learning_rate)\n"
   ]
  },
  {
   "cell_type": "markdown",
   "metadata": {},
   "source": [
    "Report minimum loss, best learning rate and best total number of iterations used."
   ]
  },
  {
   "cell_type": "markdown",
   "metadata": {},
   "source": [
    "<br>(ii)Report the accuracy by running the algorithm on test data for the best weights obtained. "
   ]
  },
  {
   "cell_type": "code",
   "execution_count": 114,
   "metadata": {},
   "outputs": [
    {
     "data": {
      "text/plain": [
       "0.9"
      ]
     },
     "execution_count": 114,
     "metadata": {},
     "output_type": "execute_result"
    }
   ],
   "source": [
    "test_pred_logistic_regression(X_test,y_test,iterations,learning_rate,thetaBest)"
   ]
  },
  {
   "cell_type": "markdown",
   "metadata": {},
   "source": [
    "Report accuracy score here"
   ]
  },
  {
   "cell_type": "markdown",
   "metadata": {
    "colab_type": "text",
    "id": "CXxp4nzxH4qG"
   },
   "source": [
    "(e) Plot the logistic regression classifier on a 2d plot (for test datapoints: color the positively classified area dark green, and negatively classified area light red). Add the training data points (for train datapoints: color the positively classified area light green, and negatively classified area light red) also on the plot. "
   ]
  },
  {
   "cell_type": "code",
   "execution_count": 115,
   "metadata": {
    "colab": {},
    "colab_type": "code",
    "id": "Q34kJhC6O0zJ"
   },
   "outputs": [
    {
     "data": {
      "image/png": "[encoded data removed]",
      "text/plain": [
       "<Figure size 576x432 with 1 Axes>"
      ]
     },
     "metadata": {},
     "output_type": "display_data"
    }
   ],
   "source": [
    "colors_train = ['red' if y == 0 else 'green' for y in y_train]\n",
    "colors_test = ['red' if y == 0 else 'green' for y in y_pred]\n",
    "fig = plt.figure(figsize=(8, 6))\n",
    "plt.scatter(X_train[:,0], X_train[:,1], color = colors_train, s=15, alpha = 0.3)\n",
    "plt.scatter(X_test[:,0], X_test[:,1], color = colors_test, s=15)\n",
    "# plt.set_title(\"Dataset1 : Classifier 1a\")\n",
    "plt.show()"
   ]
  },
  {
   "cell_type": "markdown",
   "metadata": {},
   "source": []
  }
 ],
 "metadata": {
  "colab": {
   "collapsed_sections": [],
   "name": "Lab5_DataAnalytics.ipynb",
   "provenance": [],
   "version": "0.3.2"
  },
  "kernelspec": {
   "display_name": "Python 3",
   "language": "python",
   "name": "python3"
  },
  "language_info": {
   "codemirror_mode": {
    "name": "ipython",
    "version": 3
   },
   "file_extension": ".py",
   "mimetype": "text/x-python",
   "name": "python",
   "nbconvert_exporter": "python",
   "pygments_lexer": "ipython3",
   "version": "3.8.3"
  },
  "toc": {
   "nav_menu": {},
   "number_sections": true,
   "sideBar": true,
   "skip_h1_title": false,
   "title_cell": "Table of Contents",
   "title_sidebar": "Contents",
   "toc_cell": false,
   "toc_position": {},
   "toc_section_display": true,
   "toc_window_display": false
  }
 },
 "nbformat": 4,
 "nbformat_minor": 1
}
