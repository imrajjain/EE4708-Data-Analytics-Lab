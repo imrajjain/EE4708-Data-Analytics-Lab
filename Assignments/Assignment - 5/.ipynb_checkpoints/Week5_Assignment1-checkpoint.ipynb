{
 "cells": [
  {
   "cell_type": "markdown",
   "metadata": {},
   "source": [
    "#  Classification : Nearest Neighbors and Naive Bayes \n",
    "\n",
    "#### Assignment 5a | CH17B066"
   ]
  },
  {
   "cell_type": "markdown",
   "metadata": {},
   "source": [
    "## Classification using Nearest Neighbors"
   ]
  },
  {
   "cell_type": "markdown",
   "metadata": {},
   "source": [
    "(a) Perform k-Nearest neighbours on the given dataset($X_{knn}$ and $y_{knn}$: where $X_{knn}$ stores feature vectors representing the movies and  $y_{knn}$ stores the 0-1 labelling for each movie) for binary classification of movies, for classifiying whether a given movie is a comedy(label 1) or not a comedy(label 0) . Split the dataset into train(80%), validation(10%) and test sets(10%).Run k-Nearest neighbours for different k values (1,3,7,15,31,63). Select the k, using validation set, which returns the best accuracy score. \n",
    "\n",
    "(i)  Report all the validation accuracies for all the values of k. \n",
    "<br>(ii) Report accuracy score by performing k-NN on the test dataset using the best chosen k value. "
   ]
  },
  {
   "cell_type": "code",
   "execution_count": 1,
   "metadata": {},
   "outputs": [],
   "source": [
    "#Loading libraries\n",
    "import numpy as np\n",
    "import pandas as pd\n",
    "import matplotlib.pyplot as plt\n",
    "import seaborn as sns\n",
    "%matplotlib inline\n",
    "\n",
    "from sklearn.model_selection import train_test_split"
   ]
  },
  {
   "cell_type": "code",
   "execution_count": 2,
   "metadata": {},
   "outputs": [],
   "source": [
    "#Loading the data\n",
    "#xknn = pd.read_csv('X_knn.csv', delimiter=\" \", header=None)\n",
    "#yknn = pd.read_csv('y_knn.csv', header=None)\n",
    "\n",
    "xknn = np.loadtxt('X_knn.csv', delimiter=\" \")\n",
    "yknn = np.loadtxt('y_knn.csv')"
   ]
  },
  {
   "cell_type": "code",
   "execution_count": 3,
   "metadata": {},
   "outputs": [
    {
     "data": {
      "text/plain": [
       "(10000,)"
      ]
     },
     "execution_count": 3,
     "metadata": {},
     "output_type": "execute_result"
    }
   ],
   "source": [
    "yknn.shape"
   ]
  },
  {
   "cell_type": "code",
   "execution_count": 4,
   "metadata": {},
   "outputs": [
    {
     "name": "stdout",
     "output_type": "stream",
     "text": [
      "(8000,) (1000,) (1000,)\n"
     ]
    }
   ],
   "source": [
    "#Splitting data into training, validation and testing sets\n",
    "X_train, X_val, y_train, y_val = train_test_split(xknn, yknn, test_size=0.2, random_state=42)\n",
    "\n",
    "X_val, X_test, y_val, y_test = train_test_split(X_val, y_val, test_size=0.5, random_state=42)\n",
    "\n",
    "print(y_train.shape, y_val.shape, y_test.shape)"
   ]
  },
  {
   "cell_type": "code",
   "execution_count": 5,
   "metadata": {},
   "outputs": [],
   "source": [
    "#Applying K-NN\n",
    "from sklearn.neighbors import KNeighborsClassifier\n",
    "\n",
    "#k values: (1,3,7,15,31,63)\n",
    "k_vals = [1,3,7,15,31,63]\n",
    "scores=[]\n",
    "for k in k_vals:\n",
    "    Model = KNeighborsClassifier(n_neighbors = k)\n",
    "    Model.fit(X_train,y_train)\n",
    "    score = Model.score(X_val,y_val)\n",
    "    scores.append(score)"
   ]
  },
  {
   "cell_type": "code",
   "execution_count": 6,
   "metadata": {},
   "outputs": [
    {
     "name": "stdout",
     "output_type": "stream",
     "text": [
      "Value of k which performs best on validation set is 7\n"
     ]
    },
    {
     "data": {
      "image/png": "[encoded data removed]",
      "text/plain": [
       "<Figure size 432x288 with 1 Axes>"
      ]
     },
     "metadata": {
      "needs_background": "light"
     },
     "output_type": "display_data"
    }
   ],
   "source": [
    "#Plotting for different k:\n",
    "plt.plot(k_vals,scores, linestyle='-', marker='o', markerfacecolor ='r');\n",
    "plt.xlabel('k')\n",
    "plt.ylabel('Accuracy Score on Validation Set')\n",
    "\n",
    "bestK = k_vals[scores.index(max(scores))]\n",
    "print('Value of k which performs best on validation set is',bestK)"
   ]
  },
  {
   "cell_type": "code",
   "execution_count": 7,
   "metadata": {},
   "outputs": [
    {
     "name": "stdout",
     "output_type": "stream",
     "text": [
      "Test accuracy for k=7 is 0.863\n"
     ]
    }
   ],
   "source": [
    "#Test accuracy for k=7\n",
    "Model = KNeighborsClassifier(n_neighbors = 7)\n",
    "Model.fit(X_train,y_train)\n",
    "test_score = Model.score(X_test,y_test)\n",
    "print(\"Test accuracy for k=7 is\",test_score)"
   ]
  },
  {
   "cell_type": "markdown",
   "metadata": {},
   "source": [
    "Write the results here"
   ]
  },
  {
   "cell_type": "code",
   "execution_count": 8,
   "metadata": {},
   "outputs": [
    {
     "name": "stdout",
     "output_type": "stream",
     "text": [
      "Validation accuracy for each k is\n",
      "k = 1: Validation Accuracy = 0.849\n",
      "k = 3: Validation Accuracy = 0.863\n",
      "k = 7: Validation Accuracy = 0.864\n",
      "k = 15: Validation Accuracy = 0.859\n",
      "k = 31: Validation Accuracy = 0.856\n",
      "k = 63: Validation Accuracy = 0.848\n",
      "\n",
      "Value of k which performs best on validation set is 7\n",
      "Test accuracy for k=7 is 0.863\n"
     ]
    }
   ],
   "source": [
    "print(\"Validation accuracy for each k is\")\n",
    "for i in range(len(k_vals)):\n",
    "    print(\"k = %d: Validation Accuracy = %.3f\" %(k_vals[i],scores[i]))\n",
    "    i+=1\n",
    "print('\\nValue of k which performs best on validation set is',bestK)   \n",
    "print(\"Test accuracy for k=7 is\",test_score)"
   ]
  },
  {
   "cell_type": "markdown",
   "metadata": {},
   "source": [
    "(b) State why using an even value of k in k-NN should not be chosen"
   ]
  },
  {
   "cell_type": "markdown",
   "metadata": {},
   "source": [
    "Even values for k are not chosen mainly to avoid any ties with class label scores (distance) during classification."
   ]
  },
  {
   "cell_type": "markdown",
   "metadata": {},
   "source": [
    "## Learning Naive Bayes' classifier  "
   ]
  },
  {
   "cell_type": "markdown",
   "metadata": {},
   "source": [
    "### From Continuous Distribution of data"
   ]
  },
  {
   "cell_type": "markdown",
   "metadata": {},
   "source": [
    "Here, the distribution of the data( $X$ represents the datapoints and $Y$ represents the 0-1 binary-class label; where 0 being the negative class and 1 being the positive class) is already known.\n",
    "<br>Consider the following one-dimensional(1-D) Gaussian distributions where means and variances are unknown. You need to estimate means($\\mu_-$: for negative class and  $\\mu_+$: for positive class) and variances ($\\sigma^{2}_{-}$: for negative class and $\\sigma^{2}_+$: for positive class) from the given data : \n",
    "<br> (1) Assume $X|Y_{Y=0} \\sim \\mathcal{N}(\\mu_- , \\sigma^{2}_-)$ \n",
    "<br>(2) Assume $X|Y_{Y=1} \\sim \\mathcal{N}(\\mu_+ , \\sigma^{2}_+)$\n"
   ]
  },
  {
   "cell_type": "markdown",
   "metadata": {},
   "source": [
    "*Generating artificial datasets in the next cell *"
   ]
  },
  {
   "cell_type": "code",
   "execution_count": 9,
   "metadata": {},
   "outputs": [],
   "source": [
    "## This cell is for generating datasets. Students should not change anything in this cell. \n",
    "## You can compare your mean and variance estimates by the actual ones used to generate these datasets\n",
    "\n",
    "import numpy as np\n",
    "X_pos = np.random.randn(1000,1)+np.array([[2.]])\n",
    "X_neg = np.random.randn(1000,1)+np.array([[4.]])\n",
    "X_train_pos = X_pos[:900]\n",
    "X_train_neg = X_neg[:900]\n",
    "X_test_pos = X_pos[900:]\n",
    "X_test_neg = X_neg[900:]\n",
    "X_train = np.concatenate((X_train_pos, X_train_neg), axis=0)\n",
    "X_test = np.concatenate((X_test_pos, X_test_neg), axis=0)\n",
    "Y_train = np.concatenate(( np.ones(900),np.zeros(900) ))\n",
    "Y_test = np.concatenate(( np.ones(100), np.zeros(100) ))\n",
    "\n",
    "## X_train, X_test, Y_train, Y_test are your datasets to work with ####"
   ]
  },
  {
   "cell_type": "markdown",
   "metadata": {},
   "source": [
    "\n",
    "\n",
    "<br>**Instructions to follow for learning a Baeysian classifier:** *(Code the formulae for estimating the different parameters yourself)*\n",
    "<br> a)Utilize the training dataset to estimate the means($\\hat{\\mu_+}$,$\\hat{\\mu_-}$) and variances($\\hat{\\sigma^{2}_+}$, $\\hat{\\sigma^{2}_-}$) for both positive and negative classes  \n",
    "b)Estimate the prior probability: $P(Y=1)$  ⟶ which could be referred to as: $\\hat{a}$ \n",
    "<br>c)Estimate the classifier funtion/posterior probability:  $P(Y=1|X = x)$  ⟶ which could be referred to as $\\hat{\\eta(x)}$\n",
    "<br>d)Find out the threshold value($x^*$) for classification by equating the estimated classifier function($\\hat{\\eta(x)}$)  with threshold probability of 0.5\n",
    "<br>e)Classify the test dataset into the two classes using this threshold value($x^*$) and find out the **accuracy** of the prediction \n",
    "\n",
    "Return back:  $\\hat{\\mu_+}$, $\\hat{\\mu_-}$, $\\hat{\\sigma^{2}_+}$, $\\hat{\\sigma^{2}_-}$, $\\hat{a}$, $x^*$ and accuracy from the code written \n",
    "\n",
    "*Hint: $X|Y_{Y=0} \\sim \\mathcal{N}(\\mu_- , \\sigma^{2}_-)$ implies $P_{X|Y=0} = \\mathcal{N}(\\mu_- , \\sigma^{2}_-) $*\n"
   ]
  },
  {
   "cell_type": "code",
   "execution_count": 10,
   "metadata": {},
   "outputs": [
    {
     "name": "stdout",
     "output_type": "stream",
     "text": [
      "Mean for positive class = 2.027 \n",
      "Variance for positive class = 0.974 \n",
      "Mean for negative class = 3.967 \n",
      "Variance for negative class = 1.000\n"
     ]
    }
   ],
   "source": [
    "## write your code here.  \n",
    "#Finding mean and variance\n",
    "\n",
    "def mean(x):\n",
    "    mean = np.sum(x)/len(x)\n",
    "    return mean\n",
    "\n",
    "def variance(x):\n",
    "    mu = mean(x)\n",
    "    var=0\n",
    "    for i in x:\n",
    "        var = var + (((i - mu)**2)/(len(x)-1))\n",
    "    return var[0]\n",
    "\n",
    "\n",
    "\n",
    "mean_pos = mean(X_train[Y_train==1])\n",
    "var_pos = variance(X_train[Y_train==1])\n",
    "\n",
    "\n",
    "mean_neg = mean(X_train[Y_train==0])\n",
    "var_neg = variance(X_train[Y_train==0])\n",
    "\n",
    "print(\"Mean for positive class = %.3f \\nVariance for positive class = %.3f \\nMean for negative class = %.3f \\nVariance for negative class = %.3f\" %(mean_pos,var_pos,mean_neg,var_neg))\n"
   ]
  },
  {
   "cell_type": "code",
   "execution_count": 11,
   "metadata": {},
   "outputs": [
    {
     "data": {
      "text/plain": [
       "0.5"
      ]
     },
     "execution_count": 11,
     "metadata": {},
     "output_type": "execute_result"
    }
   ],
   "source": [
    "import math\n",
    "\n",
    "a_hat = len(X_train[Y_train==1])/len(X_train)\n",
    "a_hat "
   ]
  },
  {
   "cell_type": "code",
   "execution_count": 12,
   "metadata": {},
   "outputs": [],
   "source": [
    "#Posterior probability - eta_hat\n",
    "def eta_hat(x, mean_pos, var_pos, mean_neg, var_neg, a_hat):\n",
    "    pdf_pos = (1/(var_pos*(math.sqrt(2*math.pi))))*(math.exp((-1/2)*(((x-mean_pos)/var_pos)**2)))\n",
    "    pdf_neg = (1/(var_neg*(math.sqrt(2*math.pi))))*(math.exp((-1/2)*(((x-mean_neg)/var_neg)**2)))\n",
    "    \n",
    "    return a_hat*pdf_pos/(a_hat*pdf_pos + ((1-a_hat)*pdf_neg))"
   ]
  },
  {
   "cell_type": "code",
   "execution_count": 13,
   "metadata": {},
   "outputs": [
    {
     "name": "stdout",
     "output_type": "stream",
     "text": [
      "Threshold value of x: x* = 2.9963\n"
     ]
    }
   ],
   "source": [
    "probs={}\n",
    "for i in X_train:\n",
    "    probs[i[0]] = eta_hat(i, mean_pos, var_pos, mean_neg, var_neg, a_hat)\n",
    "    \n",
    "sort_probs = sorted(probs.items(), key=lambda x: x[1], reverse=False)\n",
    "for k in range(len(probs)):\n",
    "    if sort_probs[k][1]>=0.5:\n",
    "        threshold = sort_probs[k][0]\n",
    "        break\n",
    "        \n",
    "print('Threshold value of x: x* = %.4f' %threshold)\n"
   ]
  },
  {
   "cell_type": "code",
   "execution_count": 14,
   "metadata": {},
   "outputs": [
    {
     "name": "stdout",
     "output_type": "stream",
     "text": [
      "Confusion matrix:\n",
      " [[85 15]\n",
      " [13 87]]\n",
      "Test Accuracy: 0.86\n"
     ]
    }
   ],
   "source": [
    "y_pred_test=[]\n",
    "for x in X_test:\n",
    "    if x>=threshold:\n",
    "        y_pred_test.append(0)\n",
    "    else:\n",
    "        y_pred_test.append(1)\n",
    "\n",
    "from sklearn.metrics import confusion_matrix\n",
    "\n",
    "CM = confusion_matrix(Y_test,y_pred_test)\n",
    "print('Confusion matrix:\\n',CM)\n",
    "test_acc = (CM[1][1]+CM[0][0])/(CM[0][0]+CM[0][1]+CM[1][0]+CM[1][1])\n",
    "print(\"Test Accuracy: %.2f\" %test_acc)"
   ]
  },
  {
   "cell_type": "markdown",
   "metadata": {},
   "source": [
    "Write results here"
   ]
  },
  {
   "cell_type": "code",
   "execution_count": 15,
   "metadata": {
    "scrolled": true
   },
   "outputs": [
    {
     "name": "stdout",
     "output_type": "stream",
     "text": [
      "Mean for positive class = 2.027 \n",
      "Variance for positive class = 0.974 \n",
      "Mean for negative class = 3.967 \n",
      "Variance for negative class = 1.000\n",
      "Prior probability a_hat = 0.5\n",
      "Threshold value = 2.996\n",
      "Test Accuracy: 0.86\n"
     ]
    }
   ],
   "source": [
    "print(\"Mean for positive class = %.3f \\nVariance for positive class = %.3f \\nMean for negative class = %.3f \\nVariance for negative class = %.3f\" %(mean_pos,var_pos,mean_neg,var_neg))\n",
    "print('Prior probability a_hat =',a_hat)\n",
    "print('Threshold value = %.3f' %threshold)\n",
    "print(\"Test Accuracy: %.2f\" %test_acc)"
   ]
  },
  {
   "cell_type": "markdown",
   "metadata": {},
   "source": [
    "### From Discrete distribution of data"
   ]
  },
  {
   "cell_type": "markdown",
   "metadata": {},
   "source": [
    "Unlike the first exercise for learning the Naive Bayes' classifier where we dealt with continuous distribution of data, here you need to work with discrete data, which means finding Probability Mass Distribution(PMF). \n",
    "\n",
    "Age  | Income | Status  | Buy\n",
    "-----|--------|-------- |----\n",
    "<=20 |  low   | students| yes\n",
    "<=20 |  high  | students| yes\n",
    "<=20 | medium | students| no\n",
    "<=20 | medium | married | no\n",
    "<=20 |  high  | married | yes\n",
    "21-30|  low   | married | yes\n",
    "21-30|  low   | married | no \n",
    "21-30| medium | students| no\n",
    "21-30|  high  | students| yes\n",
    " >30 |  high  | married | no\n",
    " >30 |  high  | married | yes\n",
    " >30 | medium | married | yes\n",
    " >30 | medium | married | no\n",
    " >30 | medium | students| no\n",
    " \n",
    "Consider the train dataset above. Take any random datapoint ($X_{i}$) where $X_{i} = (X_{i,1} = Age,X_{i,2} = Income,X_{i,3} = Status)$ and its corresponding label \n",
    "\n",
    "($Y_{i} = Buy$). A \"yes\" in Buy corresponds to label-1 and a \"no\" in Buy corresponds to label-0.\n",
    "\n",
    "<br>**Instructions to follow for learning a Baeysian classifier:** *(Code the formulae for estimating the different parameters yourself)*\n",
    "<br> a)Estimate the prior probability: $P(Y=1)$  ⟶ which could be referred to as: $\\hat{a}$   \n",
    "b)Estimate the likelihood for each feature:  $P(X_{i,j} = x |Y = y_{i})$, where $ i$=datapoint counter, $j \\in \\{1,2,3\\}$ and $y_{i} \\in \\{0,1\\}$ \n",
    "<br>c)Estimate the total likelihood: $P(X_{i} = x |Y = y_{i})$  \n",
    "d)Calculate the posterior probability: $P(Y = 1|X_{i} = x_{test} )$ = $p_{test}$ where $x_{test} = (Age = 21-30, Income= medium, Status = married)$\n",
    "\n",
    "\n",
    "Return back: $\\hat{a}$, total likelihood and $p_{test}$ \n"
   ]
  },
  {
   "cell_type": "code",
   "execution_count": 16,
   "metadata": {},
   "outputs": [],
   "source": [
    "## write your code here.\n",
    "discrete_data = pd.DataFrame([['<=20' ,  'low'   , 'students', 'yes'],\n",
    "['<=20' ,  'high'  , 'students', 'yes'],\n",
    "['<=20' , 'medium' , 'students', 'no'],\n",
    "['<=20' , 'medium' , 'married' , 'no'],\n",
    "['<=20' ,  'high'  , 'married' , 'yes'],\n",
    "['21-30',  'low'   , 'married' , 'yes'],\n",
    "['21-30',  'low'   , 'married' , 'no'],\n",
    "['21-30', 'medium' , 'students', 'no'],\n",
    "['21-30',  'high'  , 'students', 'yes'],\n",
    "['>30' ,  'high'  , 'married' , 'no'],\n",
    "['>30' ,  'high'  , 'married' , 'yes'],\n",
    "['>30' , 'medium' , 'married' , 'yes'],\n",
    "['>30' , 'medium' , 'married' , 'no'],\n",
    "['>30' , 'medium' , 'students', 'no']], columns=['Age'  , 'Income' , 'Status'  , 'Buy'])"
   ]
  },
  {
   "cell_type": "markdown",
   "metadata": {},
   "source": [
    "Write results here"
   ]
  },
  {
   "cell_type": "code",
   "execution_count": 17,
   "metadata": {},
   "outputs": [
    {
     "data": {
      "text/plain": [
       "0.5"
      ]
     },
     "execution_count": 17,
     "metadata": {},
     "output_type": "execute_result"
    }
   ],
   "source": [
    "#Buy = yes ==> Y=1\n",
    "a_hat = len(discrete_data[discrete_data['Buy']=='yes'])/len(discrete_data)\n",
    "a_hat"
   ]
  },
  {
   "cell_type": "code",
   "execution_count": 33,
   "metadata": {},
   "outputs": [
    {
     "name": "stdout",
     "output_type": "stream",
     "text": [
      "P(Xi,1 = <=20 | Y=1) = 0.4286\n",
      "P(Xi,1 = 21-30 | Y=1) = 0.2857\n",
      "P(Xi,1 = >30 | Y=1) = 0.2857\n",
      "P(Xi,1 = <=20 | Y=0) = 0.2857\n",
      "P(Xi,1 = 21-30 | Y=0) = 0.2857\n",
      "P(Xi,1 = >30 | Y=0) = 0.4286\n",
      "\n",
      "P(Xi,2 = low | Y=1) = 0.2857\n",
      "P(Xi,2 = medium | Y=1) = 0.1429\n",
      "P(Xi,2 = high | Y=1) = 0.5714\n",
      "P(Xi,2 = low | Y=0) = 0.1429\n",
      "P(Xi,2 = medium | Y=0) = 0.7143\n",
      "P(Xi,2 = high | Y=0) = 0.1429\n",
      "\n",
      "P(Xi,3 = student | Y=1) = 0.4286\n",
      "P(Xi,3 = married | Y=1) = 0.5714\n",
      "P(Xi,3 = student | Y=0) = 0.4286\n",
      "P(Xi,3 = married | Y=0) = 0.5714\n"
     ]
    }
   ],
   "source": [
    "#𝑋𝑖,1=𝐴𝑔𝑒,𝑋𝑖,2=𝐼𝑛𝑐𝑜𝑚𝑒,𝑋𝑖,3=𝑆𝑡𝑎𝑡𝑢𝑠\n",
    "\n",
    "y1 = len(discrete_data[discrete_data['Buy']=='yes'])\n",
    "y0 = len(discrete_data[discrete_data['Buy']=='no'])\n",
    "\n",
    "#Age <=21 : 0; Age 21-30 : 1; Age>30: 2\n",
    "age_y1 = [0,0,0]\n",
    "age_y1[0] = len(discrete_data[(discrete_data['Age']=='<=20') & (discrete_data['Buy']=='yes')])\n",
    "age_y1[1] = len(discrete_data[(discrete_data['Age']=='21-30') & (discrete_data['Buy']=='yes')])\n",
    "age_y1[2] = len(discrete_data[(discrete_data['Age']=='>30') & (discrete_data['Buy']=='yes')])\n",
    "\n",
    "age_y0 = [0,0,0]\n",
    "age_y0[0] = len(discrete_data[(discrete_data['Age']=='<=20') & (discrete_data['Buy']=='no')])\n",
    "age_y0[1] = len(discrete_data[(discrete_data['Age']=='21-30') & (discrete_data['Buy']=='no')])\n",
    "age_y0[2] = len(discrete_data[(discrete_data['Age']=='>30') & (discrete_data['Buy']=='no')])\n",
    "\n",
    "print('P(Xi,1 = <=20 | Y=1) = %.4f' %(age_y1[0]/y1))\n",
    "print('P(Xi,1 = 21-30 | Y=1) = %.4f' %(age_y1[1]/y1))\n",
    "print('P(Xi,1 = >30 | Y=1) = %.4f' %(age_y1[2]/y1))\n",
    "print('P(Xi,1 = <=20 | Y=0) = %.4f' %(age_y0[0]/y0))\n",
    "print('P(Xi,1 = 21-30 | Y=0) = %.4f' %(age_y0[1]/y0))\n",
    "print('P(Xi,1 = >30 | Y=0) = %.4f' %(age_y0[2]/y0))\n",
    "\n",
    "\n",
    "#Income low:0, medium:1, high:2\n",
    "inc_y1 = [0,0,0]\n",
    "inc_y1[0] = len(discrete_data[(discrete_data['Income']=='low') & (discrete_data['Buy']=='yes')])\n",
    "inc_y1[1] = len(discrete_data[(discrete_data['Income']=='medium') & (discrete_data['Buy']=='yes')])\n",
    "inc_y1[2] = len(discrete_data[(discrete_data['Income']=='high') & (discrete_data['Buy']=='yes')])\n",
    "\n",
    "inc_y0 = [0,0,0]\n",
    "inc_y0[0] = len(discrete_data[(discrete_data['Income']=='low') & (discrete_data['Buy']=='no')])\n",
    "inc_y0[1] = len(discrete_data[(discrete_data['Income']=='medium') & (discrete_data['Buy']=='no')])\n",
    "inc_y0[2] = len(discrete_data[(discrete_data['Income']=='high') & (discrete_data['Buy']=='no')])\n",
    "\n",
    "print('\\nP(Xi,2 = low | Y=1) = %.4f' %(inc_y1[0]/y1))\n",
    "print('P(Xi,2 = medium | Y=1) = %.4f' %(inc_y1[1]/y1))\n",
    "print('P(Xi,2 = high | Y=1) = %.4f' %(inc_y1[2]/y1))\n",
    "print('P(Xi,2 = low | Y=0) = %.4f' %(inc_y0[0]/y0))\n",
    "print('P(Xi,2 = medium | Y=0) = %.4f' %(inc_y0[1]/y0))\n",
    "print('P(Xi,2 = high | Y=0) = %.4f' %(inc_y0[2]/y0))\n",
    "\n",
    "#Status students:0 ; married:1\n",
    "status_y1 = [0,0]\n",
    "status_y1[0] = len(discrete_data[(discrete_data['Status']=='students') & (discrete_data['Buy']=='yes')])\n",
    "status_y1[1] = len(discrete_data[(discrete_data['Status']=='married') & (discrete_data['Buy']=='yes')])\n",
    "\n",
    "status_y0 = [0,0]\n",
    "status_y0[0] = len(discrete_data[(discrete_data['Status']=='students') & (discrete_data['Buy']=='no')])\n",
    "status_y0[1] = len(discrete_data[(discrete_data['Status']=='married') & (discrete_data['Buy']=='no')])\n",
    "\n",
    "print('\\nP(Xi,3 = student | Y=1) = %.4f' %(status_y1[0]/y1))\n",
    "print('P(Xi,3 = married | Y=1) = %.4f' %(status_y1[1]/y1))\n",
    "print('P(Xi,3 = student | Y=0) = %.4f' %(status_y0[0]/y0))\n",
    "print('P(Xi,3 = married | Y=0) = %.4f' %(status_y0[1]/y0))"
   ]
  },
  {
   "cell_type": "code",
   "execution_count": 38,
   "metadata": {},
   "outputs": [
    {
     "name": "stdout",
     "output_type": "stream",
     "text": [
      "P(age = 0 , income = 0 , status = 0 | Y=1): 0.0525\n",
      "P(age = 0 , income = 0 , status = 0 | Y=0): 0.0175\n",
      "P(age = 0 , income = 0 , status = 1 | Y=1): 0.0700\n",
      "P(age = 0 , income = 0 , status = 1 | Y=0): 0.0233\n",
      "P(age = 0 , income = 1 , status = 0 | Y=1): 0.0262\n",
      "P(age = 0 , income = 1 , status = 0 | Y=0): 0.0875\n",
      "P(age = 0 , income = 1 , status = 1 | Y=1): 0.0350\n",
      "P(age = 0 , income = 1 , status = 1 | Y=0): 0.1166\n",
      "P(age = 0 , income = 2 , status = 0 | Y=1): 0.1050\n",
      "P(age = 0 , income = 2 , status = 0 | Y=0): 0.0175\n",
      "P(age = 0 , income = 2 , status = 1 | Y=1): 0.1399\n",
      "P(age = 0 , income = 2 , status = 1 | Y=0): 0.0233\n",
      "P(age = 1 , income = 0 , status = 0 | Y=1): 0.0350\n",
      "P(age = 1 , income = 0 , status = 0 | Y=0): 0.0175\n",
      "P(age = 1 , income = 0 , status = 1 | Y=1): 0.0466\n",
      "P(age = 1 , income = 0 , status = 1 | Y=0): 0.0233\n",
      "P(age = 1 , income = 1 , status = 0 | Y=1): 0.0175\n",
      "P(age = 1 , income = 1 , status = 0 | Y=0): 0.0875\n",
      "P(age = 1 , income = 1 , status = 1 | Y=1): 0.0233\n",
      "P(age = 1 , income = 1 , status = 1 | Y=0): 0.1166\n",
      "P(age = 1 , income = 2 , status = 0 | Y=1): 0.0700\n",
      "P(age = 1 , income = 2 , status = 0 | Y=0): 0.0175\n",
      "P(age = 1 , income = 2 , status = 1 | Y=1): 0.0933\n",
      "P(age = 1 , income = 2 , status = 1 | Y=0): 0.0233\n",
      "P(age = 2 , income = 0 , status = 0 | Y=1): 0.0350\n",
      "P(age = 2 , income = 0 , status = 0 | Y=0): 0.0262\n",
      "P(age = 2 , income = 0 , status = 1 | Y=1): 0.0466\n",
      "P(age = 2 , income = 0 , status = 1 | Y=0): 0.0350\n",
      "P(age = 2 , income = 1 , status = 0 | Y=1): 0.0175\n",
      "P(age = 2 , income = 1 , status = 0 | Y=0): 0.1312\n",
      "P(age = 2 , income = 1 , status = 1 | Y=1): 0.0233\n",
      "P(age = 2 , income = 1 , status = 1 | Y=0): 0.1749\n",
      "P(age = 2 , income = 2 , status = 0 | Y=1): 0.0700\n",
      "P(age = 2 , income = 2 , status = 0 | Y=0): 0.0262\n",
      "P(age = 2 , income = 2 , status = 1 | Y=1): 0.0933\n",
      "P(age = 2 , income = 2 , status = 1 | Y=0): 0.0350\n",
      "1.0000000000000002 0.9999999999999999\n"
     ]
    }
   ],
   "source": [
    "#Total likelihood\n",
    "prob1sum=0\n",
    "prob2sum=0\n",
    "for i in range(len(age_y0)):\n",
    "    for j in range(len(inc_y0)):\n",
    "        for k in range(len(status_y0)):\n",
    "            prob_1 = (age_y1[i]*inc_y1[j]*status_y1[k])/(y1**3)\n",
    "            prob_0 = (age_y0[i]*inc_y0[j]*status_y0[k])/(y1**3)\n",
    "            print('P(age =',i,', income =', j,', status =', k,'| Y=1): %.4f' %prob_1)\n",
    "            print('P(age =',i,', income =', j,', status =', k,'| Y=0): %.4f' %prob_0)\n",
    "\n",
    "            \n",
    "#Age <=21 : 0; Age 21-30 : 1; Age>30: 2\n",
    "#Income low:0, medium:1, high:2\n",
    "#Status students:0 ; married:1"
   ]
  },
  {
   "cell_type": "markdown",
   "metadata": {},
   "source": [
    "##### Age <=21 : 0; Age 21-30 : 1; Age>30: 2\n",
    "##### Income low:0, medium:1, high:2\n",
    "##### Status students:0 ; married:1"
   ]
  },
  {
   "cell_type": "code",
   "execution_count": 45,
   "metadata": {},
   "outputs": [
    {
     "name": "stdout",
     "output_type": "stream",
     "text": [
      "P(Y=1 | X=X_test): 0.1667\n",
      "P(Y=0 | X=X_test): 0.8333\n",
      "P(Y=1 | X=X_test): 0.1667 < P(Y=0 | X=X_test): 0.8333 => Our prediction is Y=0 or \"no\"\n"
     ]
    }
   ],
   "source": [
    "#Posterior Probability\n",
    "#𝑥𝑡𝑒𝑠𝑡=(𝐴𝑔𝑒=21−30,𝐼𝑛𝑐𝑜𝑚𝑒=𝑚𝑒𝑑𝑖𝑢𝑚,𝑆𝑡𝑎𝑡𝑢𝑠=𝑚𝑎𝑟𝑟𝑖𝑒𝑑)\n",
    "xtest = [1,1,1]\n",
    "#P(yes|xtest) = P(age=21−30|yes) x P(age=21−30|yes) x P(age=21−30|yes) x P(yes)\n",
    "numerator = ((age_y1[xtest[0]]/y1)*(inc_y1[xtest[1]]/y1)*(status_y1[xtest[2]]/y1)*(a_hat))\n",
    "denominator = (len(discrete_data[discrete_data['Age']=='21-30'])*len(discrete_data[discrete_data['Income']=='medium'])*len(discrete_data[discrete_data['Status']=='married']))/(len(discrete_data)**3)\n",
    "\n",
    "ptest = numerator/denominator\n",
    "\n",
    "\n",
    "print('P(Y=1 | X=X_test): %.4f' %ptest)\n",
    "print('P(Y=0 | X=X_test): %.4f' %ptest_y0)\n",
    "print('P(Y=1 | X=X_test): %.4f < P(Y=0 | X=X_test): %.4f => Our prediction is Y=0 or \"no\"' %(ptest, 1-ptest))"
   ]
  },
  {
   "cell_type": "markdown",
   "metadata": {},
   "source": [
    "##### p_test = 0.0117\n",
    "##### a_hat = 0.5"
   ]
  },
  {
   "cell_type": "code",
   "execution_count": null,
   "metadata": {},
   "outputs": [],
   "source": []
  }
 ],
 "metadata": {
  "kernelspec": {
   "display_name": "Python 3",
   "language": "python",
   "name": "python3"
  },
  "language_info": {
   "codemirror_mode": {
    "name": "ipython",
    "version": 3
   },
   "file_extension": ".py",
   "mimetype": "text/x-python",
   "name": "python",
   "nbconvert_exporter": "python",
   "pygments_lexer": "ipython3",
   "version": "3.8.3"
  },
  "toc": {
   "nav_menu": {},
   "number_sections": true,
   "sideBar": true,
   "skip_h1_title": false,
   "title_cell": "Table of Contents",
   "title_sidebar": "Contents",
   "toc_cell": false,
   "toc_position": {},
   "toc_section_display": true,
   "toc_window_display": false
  }
 },
 "nbformat": 4,
 "nbformat_minor": 2
}
