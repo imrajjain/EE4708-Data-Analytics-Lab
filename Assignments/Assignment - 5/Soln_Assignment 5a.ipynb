{
 "cells": [
  {
   "cell_type": "markdown",
   "metadata": {},
   "source": [
    "#  Classification : Nearest Neighbors and Naive Bayes "
   ]
  },
  {
   "cell_type": "markdown",
   "metadata": {},
   "source": [
    "## Classification using Nearest Neighbors"
   ]
  },
  {
   "cell_type": "markdown",
   "metadata": {},
   "source": [
    "(a) Perform k-Nearest neighbours on the given dataset($X_{knn}$ and $y_{knn}$: where $X_{knn}$ stores feature vectors representing the movies and  $y_{knn}$ stores the 0-1 labelling for each movie) for binary classification of movies, for classifiying whether a given movie is a comedy(label 1) or not a comedy(label 0) . Split the dataset into train(80%), validation(10%) and test sets(10%).Run k-Nearest neighbours for different k values (1,3,7,15,31,63). Select the k, using validation set, which returns the best accuracy score. \n",
    "\n",
    "(i)  Report all the validation accuracies for all the values of k. \n",
    "<br>(ii) Report accuracy score by performing k-NN on the test dataset using the best chosen k value. "
   ]
  },
  {
   "cell_type": "code",
   "execution_count": 1,
   "metadata": {},
   "outputs": [
    {
     "name": "stdout",
     "output_type": "stream",
     "text": [
      "Value of k: 1.000000, Accuracy on Validation set: 0.822000\n",
      "Value of k: 3.000000, Accuracy on Validation set: 0.845000\n",
      "Value of k: 7.000000, Accuracy on Validation set: 0.849000\n",
      "Value of k: 15.000000, Accuracy on Validation set: 0.841000\n",
      "Value of k: 31.000000, Accuracy on Validation set: 0.842000\n",
      "Value of k: 63.000000, Accuracy on Validation set: 0.833000\n"
     ]
    }
   ],
   "source": [
    "import pandas as pd\n",
    "import numpy as np\n",
    "from sklearn.model_selection import train_test_split\n",
    "from sklearn.neighbors import KNeighborsClassifier\n",
    "from sklearn.metrics import mean_squared_error\n",
    "import matplotlib.pyplot as plt\n",
    "import tqdm\n",
    "\n",
    "X = pd.read_csv('X_knn.csv', sep=' ', header=None)\n",
    "y = pd.read_csv('y_knn.csv', header=None)\n",
    "X_train, Xdash, y_train, ydash = train_test_split(X, y, train_size=0.8, random_state=0)\n",
    "X_val, X_test, y_val, y_test = train_test_split(Xdash, ydash, train_size=0.5, random_state=0)\n",
    "\n",
    "k = [1,3,7,15,31,63]\n",
    "acc = []\n",
    "for i in tqdm(range(len(k))):\n",
    "    clf = KNeighborsClassifier(n_neighbors=k[i])\n",
    "    clf.fit(X_train, np.array(y_train).reshape(-1))\n",
    "    acc.append(clf.score(X_val, y_val))\n",
    "    \n",
    "for i in range(len(k)):\n",
    "    print('Value of k: %f, Accuracy on Validation set: %f' %(k[i], acc[i]))"
   ]
  },
  {
   "cell_type": "code",
   "execution_count": 2,
   "metadata": {},
   "outputs": [
    {
     "name": "stdout",
     "output_type": "stream",
     "text": [
      "Accuracy on test set for k = 7:  0.848\n"
     ]
    }
   ],
   "source": [
    "\n",
    "clf = KNeighborsClassifier(n_neighbors=7)\n",
    "clf.fit(X_train, np.array(y_train).reshape(-1))\n",
    "acc = clf.score(X_test, y_test)\n",
    "print('Accuracy on test set for k = 7: ', acc)"
   ]
  },
  {
   "cell_type": "markdown",
   "metadata": {},
   "source": [
    "(b) State why using an even value of k in k-NN should not be chosen"
   ]
  },
  {
   "cell_type": "markdown",
   "metadata": {},
   "source": [
    "To prevent equal number of predictions for the two classes, we prefer odd value of k"
   ]
  },
  {
   "cell_type": "markdown",
   "metadata": {},
   "source": [
    "## Learning Naive Bayes' classifier  "
   ]
  },
  {
   "cell_type": "markdown",
   "metadata": {},
   "source": [
    "### From Continuous Distribution of data"
   ]
  },
  {
   "cell_type": "markdown",
   "metadata": {},
   "source": [
    "Here, the distribution of the data( $X$ represents the datapoints and $Y$ represents the 0-1 binary-class label; where 0 being the negative class and 1 being the positive class) is already known.\n",
    "<br>Consider the following one-dimensional(1-D) Gaussian distributions where means and variances are unknown. You need to estimate means($\\mu_-$: for negative class and  $\\mu_+$: for positive class) and variances ($\\sigma^{2}_{-}$: for negative class and $\\sigma^{2}_+$: for positive class) from the given data : \n",
    "<br> (1) Assume $X|Y_{Y=0} \\sim \\mathcal{N}(\\mu_- , \\sigma^{2}_-)$ \n",
    "<br>(2) Assume $X|Y_{Y=1} \\sim \\mathcal{N}(\\mu_+ , \\sigma^{2}_+)$\n"
   ]
  },
  {
   "cell_type": "markdown",
   "metadata": {},
   "source": [
    "*Generating artificial datasets in the next cell *"
   ]
  },
  {
   "cell_type": "code",
   "execution_count": 3,
   "metadata": {},
   "outputs": [],
   "source": [
    "## This cell is for generating datasets. Students should not change anything in this cell. \n",
    "## You can compare your mean and variance estimates by the actual ones used to generate these datasets\n",
    "\n",
    "import numpy as np\n",
    "X_pos = np.random.randn(1000,1)+np.array([[2.]])\n",
    "X_neg = np.random.randn(1000,1)+np.array([[4.]])\n",
    "X_train_pos = X_pos[:900]\n",
    "X_train_neg = X_neg[:900]\n",
    "X_test_pos = X_pos[900:]\n",
    "X_test_neg = X_neg[900:]\n",
    "X_train = np.concatenate((X_train_pos, X_train_neg), axis=0)\n",
    "X_test = np.concatenate((X_test_pos, X_test_neg), axis=0)\n",
    "Y_train = np.concatenate(( np.ones(900),np.zeros(900) ))\n",
    "Y_test = np.concatenate(( np.ones(100), np.zeros(100) ))\n",
    "\n",
    "## X_train, X_test, Y_train, Y_test are your datasets to work with ####"
   ]
  },
  {
   "cell_type": "markdown",
   "metadata": {},
   "source": [
    "\n",
    "\n",
    "<br>**Instructions to follow for learning a Baeysian classifier:** *(Code the formulae for estimating the different parameters yourself)*\n",
    "<br> a)Utilize the training dataset to estimate the means($\\hat{\\mu_+}$,$\\hat{\\mu_-}$) and variances($\\hat{\\sigma^{2}_+}$, $\\hat{\\sigma^{2}_-}$) for both positive and negative classes  \n",
    "b)Estimate the prior probability: $P(Y=1)$  ⟶ which could be referred to as: $\\hat{a}$ \n",
    "<br>c)Estimate the classifier funtion/posterior probability:  $P(Y=1|X = x)$  ⟶ which could be referred to as $\\hat{\\eta(x)}$\n",
    "<br>d)Find out the threshold value($x^*$) for classification by equating the estimated classifier function($\\hat{\\eta(x)}$)  with threshold probability of 0.5\n",
    "<br>e)Classify the test dataset into the two classes using this threshold value($x^*$) and find out the **accuracy** of the prediction \n",
    "\n",
    "Return back:  $\\hat{\\mu_+}$, $\\hat{\\mu_-}$, $\\hat{\\sigma^{2}_+}$, $\\hat{\\sigma^{2}_-}$, $\\hat{a}$, $x^*$ and accuracy from the code written \n",
    "\n",
    "*Hint: $X|Y_{Y=0} \\sim \\mathcal{N}(\\mu_- , \\sigma^{2}_-)$ implies $P_{X|Y=0} = \\mathcal{N}(\\mu_- , \\sigma^{2}_-) $*\n"
   ]
  },
  {
   "cell_type": "code",
   "execution_count": 4,
   "metadata": {},
   "outputs": [],
   "source": [
    "import scipy.stats\n",
    "from sklearn.metrics import accuracy_score\n",
    "\n",
    "mu_pos=X_train_pos.mean()\n",
    "mu_neg=X_train_neg.mean()\n",
    "mu_train=X_train.mean()\n",
    "\n",
    "sig_pos = (np.array([(x - mu_pos) ** 2 for x in X_train_pos]).sum()/(len(X_train_pos)-1))**0.5\n",
    "sig_neg = (np.array([(x - mu_neg) ** 2 for x in X_train_neg]).sum()/(len(X_train_neg)-1))**0.5\n",
    "sig_train = (np.array([(x - mu_train) ** 2 for x in X_train]).sum()/(len(X_train)-1))**0.5\n",
    "\n",
    "a = X_train[:900].shape[0]/(X_train.shape[0])    \n"
   ]
  },
  {
   "cell_type": "code",
   "execution_count": 5,
   "metadata": {},
   "outputs": [],
   "source": [
    "\n",
    "def post_prob(x):\n",
    "    return ((scipy.stats.norm(mu_pos, sig_pos).pdf(x)*a)/scipy.stats.norm(mu_train, sig_train).pdf(x))\n",
    "\n",
    "min_difference=100000\n",
    "x_threshold=100000\n",
    "for i in X_train:\n",
    "    difference=abs(post_prob(i)-.5)\n",
    "    if(difference <min_difference):\n",
    "        min_difference=difference\n",
    "        x_threshold=i\n",
    "\n",
    "Y_test_predicted=[]\n",
    "for i in range(len(X_test)):\n",
    "    if(X_test[i][0] < x_threshold):\n",
    "        Y_test_predicted.append(1)\n",
    "    else:\n",
    "        Y_test_predicted.append(0)"
   ]
  },
  {
   "cell_type": "code",
   "execution_count": 6,
   "metadata": {},
   "outputs": [
    {
     "name": "stdout",
     "output_type": "stream",
     "text": [
      "Estimated mean for positive class 1.9999833359784351\n",
      "Estimated mean for negative class 3.9677242071345944\n",
      "Estimated Standard Deviation for positive class 1.0521529162205658\n",
      "Estimated Standard Deviation for negative class 0.9881698804624363\n",
      "Threshold value for x:  [2.81996095]\n",
      "Accuracy : 0.84\n"
     ]
    }
   ],
   "source": [
    "print(\"Estimated mean for positive class\",mu_pos)       \n",
    "print(\"Estimated mean for negative class\",mu_neg)    \n",
    "print(\"Estimated Standard Deviation for positive class\",sig_pos)   \n",
    "print(\"Estimated Standard Deviation for negative class\",sig_neg)   \n",
    "print(\"Threshold value for x: \",x_threshold)   \n",
    "print(\"Accuracy :\", accuracy_score(Y_test,Y_test_predicted))"
   ]
  },
  {
   "cell_type": "markdown",
   "metadata": {},
   "source": [
    "### From Discrete distribution of data"
   ]
  },
  {
   "cell_type": "markdown",
   "metadata": {},
   "source": [
    "Unlike the first exercise for learning the Naive Bayes' classifier where we dealt with continuous distribution of data, here you need to work with discrete data, which means finding Probability Mass Distribution(PMF). \n",
    "\n",
    "Age  | Income | Status  | Buy\n",
    "-----|--------|-------- |----\n",
    "<=20 |  low   | students| yes\n",
    "<=20 |  high  | students| yes\n",
    "<=20 | medium | students| no\n",
    "<=20 | medium | married | no\n",
    "<=20 |  high  | married | yes\n",
    "21-30|  low   | married | yes\n",
    "21-30|  low   | married | no \n",
    "21-30| medium | students| no\n",
    "21-30|  high  | students| yes\n",
    " >30 |  high  | married | no\n",
    " >30 |  high  | married | yes\n",
    " >30 | medium | married | yes\n",
    " >30 | medium | married | no\n",
    " >30 | medium | students| no\n",
    " \n",
    "Consider the train dataset above. Take any random datapoint ($X_{i}$) where $X_{i} = (X_{i,1} = Age,X_{i,2} = Income,X_{i,3} = Status)$ and its corresponding label \n",
    "\n",
    "($Y_{i} = Buy$). A \"yes\" in Buy corresponds to label-1 and a \"no\" in Buy corresponds to label-0.\n",
    "\n",
    "<br>**Instructions to follow for learning a Baeysian classifier:** *(Code the formulae for estimating the different parameters yourself)*\n",
    "<br> a)Estimate the prior probability: $P(Y=1)$  ⟶ which could be referred to as: $\\hat{a}$   \n",
    "b)Estimate the likelihood for each feature:  $P(X_{i,j} = x |Y = y_{i})$, where $ i$=datapoint counter, $j \\in \\{1,2,3\\}$ and $y_{i} \\in \\{0,1\\}$ \n",
    "<br>c)Estimate the total likelihood: $P(X_{i} = x |Y = y_{i})$  \n",
    "d)Calculate the posterior probability: $P(Y = 1|X_{i} = x_{test} )$ = $p_{test}$ where $x_{test} = (Age = 21-30, Income= medium, Status = married)$\n",
    "\n",
    "\n",
    "Return back: $\\hat{a}$, total likelihood and $p_{test}$ \n"
   ]
  },
  {
   "cell_type": "code",
   "execution_count": 7,
   "metadata": {},
   "outputs": [],
   "source": [
    "\n",
    "data = {\n",
    "    \"Age\": [\"<=20\",\"<=20\",\"<=20\",\"<=20\",\"<=20\",\"21-30\",\"21-30\",\"21-30\",\"21-30\",\">30\",\">30\",\">30\",\">30\",\">30\"],\n",
    "    \"Income\": [ \"low\", \"high\", \"medium\", \"medium\", \"high\",  \"low\",  \"low\", \"medium\", \"high\", \"high\", \"high\", \"medium\", \"medium\", \"medium\"],\n",
    "    \"Status\": [\"students\", \"students\", \"students\", \"married\", \"married\", \"married\", \"married\", \"students\", \"students\", \"married\", \"married\", \"married\", \"married\", \"students\"],\n",
    "    \"Buy\": [\"yes\", \"yes\", \"no\", \"no\", \"yes\", \"yes\", \"no\", \"no\", \"yes\", \"no\", \"yes\", \"yes\", \"no\", \"no\"]\n",
    "}\n",
    "df = pd.DataFrame(data)\n",
    "\n",
    "prior = (df['Buy'] == 'yes').sum()/len(df)\n",
    "\n",
    "pos_df = df[df['Buy'] == 'yes']\n",
    "age_pos = dict(pos_df['Age'].value_counts()/len(pos_df))\n",
    "income_pos = dict(pos_df['Income'].value_counts()/len(pos_df))\n",
    "status_pos = dict(pos_df['Status'].value_counts()/len(pos_df))\n",
    "\n",
    "likelihoods = []\n",
    "\n",
    "for i in range(len(df)):\n",
    "    age = df.at[i, 'Age']\n",
    "    income = df.at[i, 'Income']\n",
    "    status = df.at[i, 'Status']\n",
    "    likelihoods.append(age_pos[age] * income_pos[income] * status_pos[status])\n",
    "\n",
    "p_test = age_pos['21-30'] * income_pos['medium'] * status_pos['married'] * prior\n",
    "df['Likelihood'] = likelihoods"
   ]
  },
  {
   "cell_type": "code",
   "execution_count": 8,
   "metadata": {},
   "outputs": [
    {
     "name": "stdout",
     "output_type": "stream",
     "text": [
      "Probability that x_test will buy: 0.011661807580174925\n",
      "Prior probability of buying:  0.5\n",
      "      Age  Income    Status  Buy  Likelihood\n",
      "0    <=20     low  students  yes    0.052478\n",
      "1    <=20    high  students  yes    0.104956\n",
      "2    <=20  medium  students   no    0.026239\n",
      "3    <=20  medium   married   no    0.034985\n",
      "4    <=20    high   married  yes    0.139942\n",
      "5   21-30     low   married  yes    0.046647\n",
      "6   21-30     low   married   no    0.046647\n",
      "7   21-30  medium  students   no    0.017493\n",
      "8   21-30    high  students  yes    0.069971\n",
      "9     >30    high   married   no    0.093294\n",
      "10    >30    high   married  yes    0.093294\n",
      "11    >30  medium   married  yes    0.023324\n",
      "12    >30  medium   married   no    0.023324\n",
      "13    >30  medium  students   no    0.017493\n"
     ]
    }
   ],
   "source": [
    "print(\"Probability that x_test will buy:\",p_test)\n",
    "print(\"Prior probability of buying: \",prior)\n",
    "print(df)"
   ]
  },
  {
   "cell_type": "code",
   "execution_count": null,
   "metadata": {},
   "outputs": [],
   "source": []
  }
 ],
 "metadata": {
  "kernelspec": {
   "display_name": "Python 3",
   "language": "python",
   "name": "python3"
  },
  "language_info": {
   "codemirror_mode": {
    "name": "ipython",
    "version": 3
   },
   "file_extension": ".py",
   "mimetype": "text/x-python",
   "name": "python",
   "nbconvert_exporter": "python",
   "pygments_lexer": "ipython3",
   "version": "3.8.3"
  },
  "toc": {
   "nav_menu": {},
   "number_sections": true,
   "sideBar": true,
   "skip_h1_title": false,
   "title_cell": "Table of Contents",
   "title_sidebar": "Contents",
   "toc_cell": false,
   "toc_position": {},
   "toc_section_display": true,
   "toc_window_display": false
  }
 },
 "nbformat": 4,
 "nbformat_minor": 2
}
