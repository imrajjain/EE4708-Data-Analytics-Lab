{
 "cells": [
  {
   "cell_type": "markdown",
   "metadata": {},
   "source": [
    "## Assignment - 1: EE4708 ('exercise_pandas.ipynb')\n",
    "Raj Jain | CH17B066"
   ]
  },
  {
   "cell_type": "markdown",
   "metadata": {},
   "source": [
    "# Pandas Exercises"
   ]
  },
  {
   "cell_type": "markdown",
   "metadata": {},
   "source": [
    "Assigments for Pandas skills\n"
   ]
  },
  {
   "cell_type": "markdown",
   "metadata": {},
   "source": [
    "** Import pandas and read in the banklist.csv file into a dataframe called banks. **"
   ]
  },
  {
   "cell_type": "code",
   "execution_count": 1,
   "metadata": {
    "collapsed": true
   },
   "outputs": [],
   "source": [
    "import numpy as np\n",
    "import pandas as pd"
   ]
  },
  {
   "cell_type": "code",
   "execution_count": 2,
   "metadata": {
    "collapsed": true
   },
   "outputs": [],
   "source": [
    "data = pd.read_csv(\"banklist.csv\")"
   ]
  },
  {
   "cell_type": "markdown",
   "metadata": {},
   "source": [
    "** Show the head of the dataframe **"
   ]
  },
  {
   "cell_type": "code",
   "execution_count": 26,
   "metadata": {
    "collapsed": true
   },
   "outputs": [],
   "source": [
    "# CODE HERE"
   ]
  },
  {
   "cell_type": "code",
   "execution_count": 5,
   "metadata": {},
   "outputs": [
    {
     "output_type": "execute_result",
     "data": {
      "text/plain": "                                           Bank Name                City  ST  \\\n0                                Fayette County Bank          Saint Elmo  IL   \n1  Guaranty Bank, (d/b/a BestBank in Georgia & Mi...           Milwaukee  WI   \n2                                     First NBC Bank         New Orleans  LA   \n3                                      Proficio Bank  Cottonwood Heights  UT   \n4                      Seaway Bank and Trust Company             Chicago  IL   \n\n    CERT                Acquiring Institution Closing Date Updated Date  \n0   1802            United Fidelity Bank, fsb    26-May-17     1-Jun-17  \n1  30003  First-Citizens Bank & Trust Company     5-May-17     1-Jun-17  \n2  58302                         Whitney Bank    28-Apr-17    23-May-17  \n3  35495                    Cache Valley Bank     3-Mar-17    18-May-17  \n4  19328                  State Bank of Texas    27-Jan-17    18-May-17  ",
      "text/html": "<div>\n<style scoped>\n    .dataframe tbody tr th:only-of-type {\n        vertical-align: middle;\n    }\n\n    .dataframe tbody tr th {\n        vertical-align: top;\n    }\n\n    .dataframe thead th {\n        text-align: right;\n    }\n</style>\n<table border=\"1\" class=\"dataframe\">\n  <thead>\n    <tr style=\"text-align: right;\">\n      <th></th>\n      <th>Bank Name</th>\n      <th>City</th>\n      <th>ST</th>\n      <th>CERT</th>\n      <th>Acquiring Institution</th>\n      <th>Closing Date</th>\n      <th>Updated Date</th>\n    </tr>\n  </thead>\n  <tbody>\n    <tr>\n      <th>0</th>\n      <td>Fayette County Bank</td>\n      <td>Saint Elmo</td>\n      <td>IL</td>\n      <td>1802</td>\n      <td>United Fidelity Bank, fsb</td>\n      <td>26-May-17</td>\n      <td>1-Jun-17</td>\n    </tr>\n    <tr>\n      <th>1</th>\n      <td>Guaranty Bank, (d/b/a BestBank in Georgia &amp; Mi...</td>\n      <td>Milwaukee</td>\n      <td>WI</td>\n      <td>30003</td>\n      <td>First-Citizens Bank &amp; Trust Company</td>\n      <td>5-May-17</td>\n      <td>1-Jun-17</td>\n    </tr>\n    <tr>\n      <th>2</th>\n      <td>First NBC Bank</td>\n      <td>New Orleans</td>\n      <td>LA</td>\n      <td>58302</td>\n      <td>Whitney Bank</td>\n      <td>28-Apr-17</td>\n      <td>23-May-17</td>\n    </tr>\n    <tr>\n      <th>3</th>\n      <td>Proficio Bank</td>\n      <td>Cottonwood Heights</td>\n      <td>UT</td>\n      <td>35495</td>\n      <td>Cache Valley Bank</td>\n      <td>3-Mar-17</td>\n      <td>18-May-17</td>\n    </tr>\n    <tr>\n      <th>4</th>\n      <td>Seaway Bank and Trust Company</td>\n      <td>Chicago</td>\n      <td>IL</td>\n      <td>19328</td>\n      <td>State Bank of Texas</td>\n      <td>27-Jan-17</td>\n      <td>18-May-17</td>\n    </tr>\n  </tbody>\n</table>\n</div>"
     },
     "metadata": {},
     "execution_count": 5
    }
   ],
   "source": [
    "data.head()"
   ]
  },
  {
   "cell_type": "markdown",
   "metadata": {},
   "source": [
    "** What are the column names? **"
   ]
  },
  {
   "cell_type": "code",
   "execution_count": 8,
   "metadata": {
    "collapsed": true,
    "tags": []
   },
   "outputs": [],
   "source": [
    "# CODE HERE"
   ]
  },
  {
   "cell_type": "code",
   "execution_count": 7,
   "metadata": {
    "tags": []
   },
   "outputs": [
    {
     "output_type": "stream",
     "name": "stdout",
     "text": "Index(['Bank Name', 'City', 'ST', 'CERT', 'Acquiring Institution',\n       'Closing Date', 'Updated Date'],\n      dtype='object')\n"
    }
   ],
   "source": [
    "print(data.columns)"
   ]
  },
  {
   "cell_type": "markdown",
   "metadata": {},
   "source": [
    "** How many States (ST) are represented in this data set? **"
   ]
  },
  {
   "cell_type": "code",
   "execution_count": null,
   "metadata": {
    "collapsed": true
   },
   "outputs": [],
   "source": [
    "# CODE HERE"
   ]
  },
  {
   "cell_type": "code",
   "execution_count": 40,
   "metadata": {
    "tags": []
   },
   "outputs": [
    {
     "output_type": "stream",
     "name": "stdout",
     "text": "The number of states represented in this dataset is 44 .\n"
    }
   ],
   "source": [
    "print(\"The number of states represented in this dataset is\",data.ST.nunique(),\".\")"
   ]
  },
  {
   "cell_type": "markdown",
   "metadata": {},
   "source": [
    "** Get a list or array of all the states in the data set. **"
   ]
  },
  {
   "cell_type": "code",
   "execution_count": null,
   "metadata": {
    "collapsed": true
   },
   "outputs": [],
   "source": [
    "# CODE HERE"
   ]
  },
  {
   "cell_type": "code",
   "execution_count": 38,
   "metadata": {
    "tags": []
   },
   "outputs": [
    {
     "output_type": "stream",
     "name": "stdout",
     "text": "The list of all the states in the data set:\n\n ['IL' 'WI' 'LA' 'UT' 'NJ' 'AR' 'GA' 'PA' 'TN' 'WA' 'CO' 'PR' 'FL' 'MN'\n 'CA' 'MD' 'OK' 'OH' 'SC' 'VA' 'ID' 'TX' 'CT' 'AZ' 'NV' 'NC' 'KY' 'MO'\n 'KS' 'AL' 'MI' 'IN' 'IA' 'NE' 'MS' 'NM' 'OR' 'NY' 'MA' 'SD' 'WY' 'WV'\n 'NH' 'HI']\n"
    }
   ],
   "source": [
    "print(\"The list of all the states in the data set:\\n\\n\",data.ST.unique())"
   ]
  },
  {
   "cell_type": "markdown",
   "metadata": {},
   "source": [
    "** What are the top 5 states with the most failed banks? **"
   ]
  },
  {
   "cell_type": "code",
   "execution_count": null,
   "metadata": {
    "collapsed": true,
    "scrolled": true
   },
   "outputs": [],
   "source": [
    "# CODE HERE"
   ]
  },
  {
   "cell_type": "code",
   "execution_count": 18,
   "metadata": {
    "tags": []
   },
   "outputs": [
    {
     "output_type": "stream",
     "name": "stdout",
     "text": "Top 5 states with the most failed banks:\n GA    93\nFL    75\nIL    67\nCA    41\nMN    23\nName: ST, dtype: int64\n"
    }
   ],
   "source": [
    "Top5FailStates = data['ST'].value_counts()[0:5]\n",
    "print(\"Top 5 states with the most failed banks:\\n\", Top5FailStates)"
   ]
  },
  {
   "cell_type": "markdown",
   "metadata": {},
   "source": [
    "** What are the top 5 acquiring institutions? **"
   ]
  },
  {
   "cell_type": "code",
   "execution_count": 21,
   "metadata": {
    "collapsed": true
   },
   "outputs": [],
   "source": [
    "# CODE HERE"
   ]
  },
  {
   "cell_type": "code",
   "execution_count": 17,
   "metadata": {
    "tags": []
   },
   "outputs": [
    {
     "output_type": "stream",
     "name": "stdout",
     "text": "Top 5 acquiring institutions:\n No Acquirer                            31\nState Bank and Trust Company           12\nFirst-Citizens Bank & Trust Company    11\nAmeris Bank                            10\nU.S. Bank N.A.                          9\nName: Acquiring Institution, dtype: int64\n"
    }
   ],
   "source": [
    "Top5Acquirers = data['Acquiring Institution'].value_counts()[0:5]\n",
    "print(\"Top 5 acquiring institutions:\\n\",Top5Acquirers)"
   ]
  },
  {
   "cell_type": "markdown",
   "metadata": {},
   "source": [
    "** How many banks has the State Bank of Texas acquired? How many of them were actually in Texas?**"
   ]
  },
  {
   "cell_type": "code",
   "execution_count": 24,
   "metadata": {
    "collapsed": true
   },
   "outputs": [],
   "source": [
    "# CODE HERE"
   ]
  },
  {
   "cell_type": "code",
   "execution_count": 33,
   "metadata": {
    "tags": []
   },
   "outputs": [
    {
     "output_type": "execute_result",
     "data": {
      "text/plain": "                                 Bank Name     City  ST   CERT  \\\n4            Seaway Bank and Trust Company  Chicago  IL  19328   \n21   The National Republic Bank of Chicago  Chicago  IL    916   \n450         Millennium State Bank of Texas   Dallas  TX  57667   \n\n    Acquiring Institution Closing Date Updated Date  \n4     State Bank of Texas    27-Jan-17    18-May-17  \n21    State Bank of Texas    24-Oct-14     6-Jan-16  \n450   State Bank of Texas     2-Jul-09    26-Oct-12  ",
      "text/html": "<div>\n<style scoped>\n    .dataframe tbody tr th:only-of-type {\n        vertical-align: middle;\n    }\n\n    .dataframe tbody tr th {\n        vertical-align: top;\n    }\n\n    .dataframe thead th {\n        text-align: right;\n    }\n</style>\n<table border=\"1\" class=\"dataframe\">\n  <thead>\n    <tr style=\"text-align: right;\">\n      <th></th>\n      <th>Bank Name</th>\n      <th>City</th>\n      <th>ST</th>\n      <th>CERT</th>\n      <th>Acquiring Institution</th>\n      <th>Closing Date</th>\n      <th>Updated Date</th>\n    </tr>\n  </thead>\n  <tbody>\n    <tr>\n      <th>4</th>\n      <td>Seaway Bank and Trust Company</td>\n      <td>Chicago</td>\n      <td>IL</td>\n      <td>19328</td>\n      <td>State Bank of Texas</td>\n      <td>27-Jan-17</td>\n      <td>18-May-17</td>\n    </tr>\n    <tr>\n      <th>21</th>\n      <td>The National Republic Bank of Chicago</td>\n      <td>Chicago</td>\n      <td>IL</td>\n      <td>916</td>\n      <td>State Bank of Texas</td>\n      <td>24-Oct-14</td>\n      <td>6-Jan-16</td>\n    </tr>\n    <tr>\n      <th>450</th>\n      <td>Millennium State Bank of Texas</td>\n      <td>Dallas</td>\n      <td>TX</td>\n      <td>57667</td>\n      <td>State Bank of Texas</td>\n      <td>2-Jul-09</td>\n      <td>26-Oct-12</td>\n    </tr>\n  </tbody>\n</table>\n</div>"
     },
     "metadata": {},
     "execution_count": 33
    }
   ],
   "source": [
    "data[data['Acquiring Institution']=='State Bank of Texas']"
   ]
  },
  {
   "cell_type": "markdown",
   "metadata": {},
   "source": [
    "There are three banks acquired by the State Bank of Texas, of which only one bank is actually in the state of Texas."
   ]
  },
  {
   "cell_type": "markdown",
   "metadata": {},
   "source": [
    "** What is the most common city in California for a bank to fail in?**"
   ]
  },
  {
   "cell_type": "code",
   "execution_count": 31,
   "metadata": {
    "collapsed": true
   },
   "outputs": [],
   "source": [
    "# CODE HERE"
   ]
  },
  {
   "cell_type": "code",
   "execution_count": 16,
   "metadata": {
    "tags": []
   },
   "outputs": [
    {
     "output_type": "stream",
     "name": "stdout",
     "text": "Los Angeles is the city with the most bank failures in California\n"
    }
   ],
   "source": [
    "MostCommonCityCA = data[data['ST']=='CA']['City'].value_counts().index[0]\n",
    "print(MostCommonCityCA, \"is the city with the most bank failures in California\")"
   ]
  },
  {
   "cell_type": "markdown",
   "metadata": {},
   "source": [
    "** How many failed banks don't have the word \"Bank\" in their name? **"
   ]
  },
  {
   "cell_type": "code",
   "execution_count": 46,
   "metadata": {
    "collapsed": true
   },
   "outputs": [
    {
     "output_type": "execute_result",
     "data": {
      "text/plain": "True"
     },
     "metadata": {},
     "execution_count": 46
    }
   ],
   "source": [
    "# CODE HERE"
   ]
  },
  {
   "cell_type": "code",
   "execution_count": 12,
   "metadata": {
    "tags": []
   },
   "outputs": [
    {
     "output_type": "stream",
     "name": "stdout",
     "text": "The number of banks which do not contain the word 'Bank' is 14\n"
    },
    {
     "output_type": "execute_result",
     "data": {
      "text/plain": "                                             Bank Name           City  ST  \\\n22                                      NBRS Financial     Rising Sun  MD   \n74   Second Federal Savings and Loan Association of...        Chicago  IL   \n101                            Home Savings of America   Little Falls  MN   \n222                       First Arizona Savings, A FSB     Scottsdale  AZ   \n248              Imperial Savings and Loan Association   Martinsville  VA   \n300                                         CF Bancorp     Port Huron  MI   \n301                            Westernbank Puerto Rico       Mayaguez  PR   \n303                                           Eurobank       San Juan  PR   \n423                                              ebank        Atlanta  GA   \n428        Dwelling House Savings and Loan Association     Pittsburgh  PA   \n496                                       Suburban FSB        Crofton  MD   \n505                              Downey Savings & Loan  Newport Beach  CA   \n514                                          Ameribank      Northfork  WV   \n523                                  ANB Financial, NA    Bentonville  AR   \n\n      CERT                              Acquiring Institution Closing Date  \\\n22    4862                                        Howard Bank    17-Oct-14   \n74   27986                      Hinsdale Bank & Trust Company    20-Jul-12   \n101  29178                                        No Acquirer    24-Feb-12   \n222  32582                                        No Acquirer    22-Oct-10   \n248  31623                         River Community Bank, N.A.    20-Aug-10   \n300  30005                                First Michigan Bank    30-Apr-10   \n301  31027                       Banco Popular de Puerto Rico    30-Apr-10   \n303  27150                            Oriental Bank and Trust    30-Apr-10   \n423  34682                                 Stearns Bank, N.A.    21-Aug-09   \n428  31559                                     PNC Bank, N.A.    14-Aug-09   \n496  30763                                      Bank of Essex    30-Jan-09   \n505  30968                                    U.S. Bank, N.A.    21-Nov-08   \n514   6782  The Citizens Savings Bank, Pioneer Community B...    19-Sep-08   \n523  33901                     Pulaski Bank and Trust Company     9-May-08   \n\n    Updated Date  \n22     26-Mar-15  \n74     14-Jan-13  \n101    17-Dec-12  \n222    20-Aug-12  \n248    24-Aug-12  \n300    13-Apr-16  \n301    21-Mar-14  \n303    21-Mar-14  \n423    21-Aug-12  \n428    15-Jan-13  \n496     4-Feb-16  \n505     4-Jan-13  \n514    21-Sep-15  \n523    28-Aug-12  ",
      "text/html": "<div>\n<style scoped>\n    .dataframe tbody tr th:only-of-type {\n        vertical-align: middle;\n    }\n\n    .dataframe tbody tr th {\n        vertical-align: top;\n    }\n\n    .dataframe thead th {\n        text-align: right;\n    }\n</style>\n<table border=\"1\" class=\"dataframe\">\n  <thead>\n    <tr style=\"text-align: right;\">\n      <th></th>\n      <th>Bank Name</th>\n      <th>City</th>\n      <th>ST</th>\n      <th>CERT</th>\n      <th>Acquiring Institution</th>\n      <th>Closing Date</th>\n      <th>Updated Date</th>\n    </tr>\n  </thead>\n  <tbody>\n    <tr>\n      <th>22</th>\n      <td>NBRS Financial</td>\n      <td>Rising Sun</td>\n      <td>MD</td>\n      <td>4862</td>\n      <td>Howard Bank</td>\n      <td>17-Oct-14</td>\n      <td>26-Mar-15</td>\n    </tr>\n    <tr>\n      <th>74</th>\n      <td>Second Federal Savings and Loan Association of...</td>\n      <td>Chicago</td>\n      <td>IL</td>\n      <td>27986</td>\n      <td>Hinsdale Bank &amp; Trust Company</td>\n      <td>20-Jul-12</td>\n      <td>14-Jan-13</td>\n    </tr>\n    <tr>\n      <th>101</th>\n      <td>Home Savings of America</td>\n      <td>Little Falls</td>\n      <td>MN</td>\n      <td>29178</td>\n      <td>No Acquirer</td>\n      <td>24-Feb-12</td>\n      <td>17-Dec-12</td>\n    </tr>\n    <tr>\n      <th>222</th>\n      <td>First Arizona Savings, A FSB</td>\n      <td>Scottsdale</td>\n      <td>AZ</td>\n      <td>32582</td>\n      <td>No Acquirer</td>\n      <td>22-Oct-10</td>\n      <td>20-Aug-12</td>\n    </tr>\n    <tr>\n      <th>248</th>\n      <td>Imperial Savings and Loan Association</td>\n      <td>Martinsville</td>\n      <td>VA</td>\n      <td>31623</td>\n      <td>River Community Bank, N.A.</td>\n      <td>20-Aug-10</td>\n      <td>24-Aug-12</td>\n    </tr>\n    <tr>\n      <th>300</th>\n      <td>CF Bancorp</td>\n      <td>Port Huron</td>\n      <td>MI</td>\n      <td>30005</td>\n      <td>First Michigan Bank</td>\n      <td>30-Apr-10</td>\n      <td>13-Apr-16</td>\n    </tr>\n    <tr>\n      <th>301</th>\n      <td>Westernbank Puerto Rico</td>\n      <td>Mayaguez</td>\n      <td>PR</td>\n      <td>31027</td>\n      <td>Banco Popular de Puerto Rico</td>\n      <td>30-Apr-10</td>\n      <td>21-Mar-14</td>\n    </tr>\n    <tr>\n      <th>303</th>\n      <td>Eurobank</td>\n      <td>San Juan</td>\n      <td>PR</td>\n      <td>27150</td>\n      <td>Oriental Bank and Trust</td>\n      <td>30-Apr-10</td>\n      <td>21-Mar-14</td>\n    </tr>\n    <tr>\n      <th>423</th>\n      <td>ebank</td>\n      <td>Atlanta</td>\n      <td>GA</td>\n      <td>34682</td>\n      <td>Stearns Bank, N.A.</td>\n      <td>21-Aug-09</td>\n      <td>21-Aug-12</td>\n    </tr>\n    <tr>\n      <th>428</th>\n      <td>Dwelling House Savings and Loan Association</td>\n      <td>Pittsburgh</td>\n      <td>PA</td>\n      <td>31559</td>\n      <td>PNC Bank, N.A.</td>\n      <td>14-Aug-09</td>\n      <td>15-Jan-13</td>\n    </tr>\n    <tr>\n      <th>496</th>\n      <td>Suburban FSB</td>\n      <td>Crofton</td>\n      <td>MD</td>\n      <td>30763</td>\n      <td>Bank of Essex</td>\n      <td>30-Jan-09</td>\n      <td>4-Feb-16</td>\n    </tr>\n    <tr>\n      <th>505</th>\n      <td>Downey Savings &amp; Loan</td>\n      <td>Newport Beach</td>\n      <td>CA</td>\n      <td>30968</td>\n      <td>U.S. Bank, N.A.</td>\n      <td>21-Nov-08</td>\n      <td>4-Jan-13</td>\n    </tr>\n    <tr>\n      <th>514</th>\n      <td>Ameribank</td>\n      <td>Northfork</td>\n      <td>WV</td>\n      <td>6782</td>\n      <td>The Citizens Savings Bank, Pioneer Community B...</td>\n      <td>19-Sep-08</td>\n      <td>21-Sep-15</td>\n    </tr>\n    <tr>\n      <th>523</th>\n      <td>ANB Financial, NA</td>\n      <td>Bentonville</td>\n      <td>AR</td>\n      <td>33901</td>\n      <td>Pulaski Bank and Trust Company</td>\n      <td>9-May-08</td>\n      <td>28-Aug-12</td>\n    </tr>\n  </tbody>\n</table>\n</div>"
     },
     "metadata": {},
     "execution_count": 12
    }
   ],
   "source": [
    "NumWithoutBank = data[~data[\"Bank Name\"].str.contains(\"Bank\")].shape[0]\n",
    "print(\"The number of banks which do not contain the word 'Bank' is\", NumWithoutBank)\n",
    "data[~data[\"Bank Name\"].str.contains(\"Bank\")]"
   ]
  },
  {
   "cell_type": "markdown",
   "metadata": {},
   "source": [
    "** How many bank names start with the letter 's' ? **"
   ]
  },
  {
   "cell_type": "code",
   "execution_count": null,
   "metadata": {
    "collapsed": true
   },
   "outputs": [],
   "source": [
    "# CODE HERE"
   ]
  },
  {
   "cell_type": "code",
   "execution_count": 11,
   "metadata": {
    "tags": []
   },
   "outputs": [
    {
     "output_type": "stream",
     "name": "stdout",
     "text": "The number of bank names starting with the letter 'S' is 53\n"
    }
   ],
   "source": [
    "NumBankStartS = data[data[\"Bank Name\"].str.startswith(\"S\")].shape[0]\n",
    "print(\"The number of bank names starting with the letter 'S' is\", NumBankStartS)"
   ]
  },
  {
   "cell_type": "markdown",
   "metadata": {},
   "source": [
    "** How many CERT values are above 20000 ? **"
   ]
  },
  {
   "cell_type": "code",
   "execution_count": 61,
   "metadata": {
    "collapsed": true
   },
   "outputs": [],
   "source": [
    "# CODE HERE"
   ]
  },
  {
   "cell_type": "code",
   "execution_count": 10,
   "metadata": {
    "tags": []
   },
   "outputs": [
    {
     "output_type": "stream",
     "name": "stdout",
     "text": "The number of CERT values above 20000 is 417\n"
    }
   ],
   "source": [
    "NumCERT2000 = data[data[\"CERT\"]>20000].shape[0]\n",
    "print(\"The number of CERT values above 20000 is\", NumCERT2000)"
   ]
  },
  {
   "cell_type": "markdown",
   "metadata": {},
   "source": [
    "** How many bank names consist of just two words? (e.g. \"First Bank\" , \"Bank Georgia\" )**"
   ]
  },
  {
   "cell_type": "code",
   "execution_count": 7,
   "metadata": {
    "collapsed": true
   },
   "outputs": [],
   "source": [
    "# CODE HERE"
   ]
  },
  {
   "cell_type": "code",
   "execution_count": 9,
   "metadata": {
    "tags": []
   },
   "outputs": [
    {
     "output_type": "stream",
     "name": "stdout",
     "text": "The number of banks which consist of just two words is: 114\n"
    }
   ],
   "source": [
    "NumBanksTwoWords = data[data['Bank Name'].str.split().str.len()==2].shape[0]\n",
    "print(\"The number of banks which consist of just two words is:\", NumBanksTwoWords)"
   ]
  },
  {
   "cell_type": "markdown",
   "metadata": {},
   "source": [
    "**Bonus: How many banks closed in the year 2008? (this is hard because we technically haven't learned about time series with pandas yet! Feel free to skip this one!**"
   ]
  },
  {
   "cell_type": "code",
   "execution_count": null,
   "metadata": {
    "collapsed": true
   },
   "outputs": [],
   "source": [
    "# CODE HERE"
   ]
  },
  {
   "cell_type": "code",
   "execution_count": 22,
   "metadata": {
    "tags": []
   },
   "outputs": [
    {
     "output_type": "stream",
     "name": "stdout",
     "text": "The number of banks closed in the year 2008 is: 25\n"
    }
   ],
   "source": [
    "NumBanksClosedIn2008 = data[pd.DatetimeIndex(data['Closing Date']).year == 2008].shape[0]\n",
    "print(\"The number of banks closed in the year 2008 is:\", NumBanksClosedIn2008)"
   ]
  },
  {
   "cell_type": "code",
   "execution_count": null,
   "metadata": {},
   "outputs": [],
   "source": []
  }
 ],
 "metadata": {
  "kernelspec": {
   "display_name": "Python 3",
   "language": "python",
   "name": "python3"
  },
  "language_info": {
   "codemirror_mode": {
    "name": "ipython",
    "version": 3
   },
   "file_extension": ".py",
   "mimetype": "text/x-python",
   "name": "python",
   "nbconvert_exporter": "python",
   "pygments_lexer": "ipython3",
   "version": "3.8.3"
  }
 },
 "nbformat": 4,
 "nbformat_minor": 2
}