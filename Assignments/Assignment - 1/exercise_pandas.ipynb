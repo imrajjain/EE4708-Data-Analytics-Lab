{
 "cells": [
  {
   "cell_type": "markdown",
   "metadata": {},
   "source": [
    "# Pandas Exercises"
   ]
  },
  {
   "cell_type": "markdown",
   "metadata": {},
   "source": [
    "Assigments for Pandas skills\n"
   ]
  },
  {
   "cell_type": "markdown",
   "metadata": {},
   "source": [
    "** Import pandas and read in the banklist.csv file into a dataframe called banks. **"
   ]
  },
  {
   "cell_type": "code",
   "execution_count": 2,
   "metadata": {
    "collapsed": true
   },
   "outputs": [],
   "source": [
    "import numpy as np\n",
    "import pandas as pd"
   ]
  },
  {
   "cell_type": "code",
   "execution_count": 3,
   "metadata": {
    "collapsed": true
   },
   "outputs": [],
   "source": [
    "data = pd.read_csv(\"banklist.csv\")"
   ]
  },
  {
   "cell_type": "markdown",
   "metadata": {},
   "source": [
    "** Show the head of the dataframe **"
   ]
  },
  {
   "cell_type": "code",
   "execution_count": 26,
   "metadata": {
    "collapsed": true
   },
   "outputs": [],
   "source": [
    "# CODE HERE"
   ]
  },
  {
   "cell_type": "code",
   "execution_count": 5,
   "metadata": {},
   "outputs": [
    {
     "output_type": "execute_result",
     "data": {
      "text/plain": "                                           Bank Name                City  ST  \\\n0                                Fayette County Bank          Saint Elmo  IL   \n1  Guaranty Bank, (d/b/a BestBank in Georgia & Mi...           Milwaukee  WI   \n2                                     First NBC Bank         New Orleans  LA   \n3                                      Proficio Bank  Cottonwood Heights  UT   \n4                      Seaway Bank and Trust Company             Chicago  IL   \n\n    CERT                Acquiring Institution Closing Date Updated Date  \n0   1802            United Fidelity Bank, fsb    26-May-17     1-Jun-17  \n1  30003  First-Citizens Bank & Trust Company     5-May-17     1-Jun-17  \n2  58302                         Whitney Bank    28-Apr-17    23-May-17  \n3  35495                    Cache Valley Bank     3-Mar-17    18-May-17  \n4  19328                  State Bank of Texas    27-Jan-17    18-May-17  ",
      "text/html": "<div>\n<style scoped>\n    .dataframe tbody tr th:only-of-type {\n        vertical-align: middle;\n    }\n\n    .dataframe tbody tr th {\n        vertical-align: top;\n    }\n\n    .dataframe thead th {\n        text-align: right;\n    }\n</style>\n<table border=\"1\" class=\"dataframe\">\n  <thead>\n    <tr style=\"text-align: right;\">\n      <th></th>\n      <th>Bank Name</th>\n      <th>City</th>\n      <th>ST</th>\n      <th>CERT</th>\n      <th>Acquiring Institution</th>\n      <th>Closing Date</th>\n      <th>Updated Date</th>\n    </tr>\n  </thead>\n  <tbody>\n    <tr>\n      <th>0</th>\n      <td>Fayette County Bank</td>\n      <td>Saint Elmo</td>\n      <td>IL</td>\n      <td>1802</td>\n      <td>United Fidelity Bank, fsb</td>\n      <td>26-May-17</td>\n      <td>1-Jun-17</td>\n    </tr>\n    <tr>\n      <th>1</th>\n      <td>Guaranty Bank, (d/b/a BestBank in Georgia &amp; Mi...</td>\n      <td>Milwaukee</td>\n      <td>WI</td>\n      <td>30003</td>\n      <td>First-Citizens Bank &amp; Trust Company</td>\n      <td>5-May-17</td>\n      <td>1-Jun-17</td>\n    </tr>\n    <tr>\n      <th>2</th>\n      <td>First NBC Bank</td>\n      <td>New Orleans</td>\n      <td>LA</td>\n      <td>58302</td>\n      <td>Whitney Bank</td>\n      <td>28-Apr-17</td>\n      <td>23-May-17</td>\n    </tr>\n    <tr>\n      <th>3</th>\n      <td>Proficio Bank</td>\n      <td>Cottonwood Heights</td>\n      <td>UT</td>\n      <td>35495</td>\n      <td>Cache Valley Bank</td>\n      <td>3-Mar-17</td>\n      <td>18-May-17</td>\n    </tr>\n    <tr>\n      <th>4</th>\n      <td>Seaway Bank and Trust Company</td>\n      <td>Chicago</td>\n      <td>IL</td>\n      <td>19328</td>\n      <td>State Bank of Texas</td>\n      <td>27-Jan-17</td>\n      <td>18-May-17</td>\n    </tr>\n  </tbody>\n</table>\n</div>"
     },
     "metadata": {},
     "execution_count": 5
    }
   ],
   "source": [
    "data.head()"
   ]
  },
  {
   "cell_type": "markdown",
   "metadata": {},
   "source": [
    "** What are the column names? **"
   ]
  },
  {
   "cell_type": "code",
   "execution_count": 8,
   "metadata": {
    "collapsed": true,
    "tags": []
   },
   "outputs": [],
   "source": [
    "# CODE HERE"
   ]
  },
  {
   "cell_type": "code",
   "execution_count": 7,
   "metadata": {
    "tags": []
   },
   "outputs": [
    {
     "output_type": "stream",
     "name": "stdout",
     "text": "Index(['Bank Name', 'City', 'ST', 'CERT', 'Acquiring Institution',\n       'Closing Date', 'Updated Date'],\n      dtype='object')\n"
    }
   ],
   "source": [
    "print(data.columns)"
   ]
  },
  {
   "cell_type": "markdown",
   "metadata": {},
   "source": [
    "** How many States (ST) are represented in this data set? **"
   ]
  },
  {
   "cell_type": "code",
   "execution_count": null,
   "metadata": {
    "collapsed": true
   },
   "outputs": [],
   "source": [
    "# CODE HERE"
   ]
  },
  {
   "cell_type": "code",
   "execution_count": 40,
   "metadata": {
    "tags": []
   },
   "outputs": [
    {
     "output_type": "stream",
     "name": "stdout",
     "text": "The number of states represented in this dataset is 44 .\n"
    }
   ],
   "source": [
    "print(\"The number of states represented in this dataset is\",data.ST.nunique(),\".\")"
   ]
  },
  {
   "cell_type": "markdown",
   "metadata": {},
   "source": [
    "** Get a list or array of all the states in the data set. **"
   ]
  },
  {
   "cell_type": "code",
   "execution_count": null,
   "metadata": {
    "collapsed": true
   },
   "outputs": [],
   "source": [
    "# CODE HERE"
   ]
  },
  {
   "cell_type": "code",
   "execution_count": 38,
   "metadata": {
    "tags": []
   },
   "outputs": [
    {
     "output_type": "stream",
     "name": "stdout",
     "text": "The list of all the states in the data set:\n\n ['IL' 'WI' 'LA' 'UT' 'NJ' 'AR' 'GA' 'PA' 'TN' 'WA' 'CO' 'PR' 'FL' 'MN'\n 'CA' 'MD' 'OK' 'OH' 'SC' 'VA' 'ID' 'TX' 'CT' 'AZ' 'NV' 'NC' 'KY' 'MO'\n 'KS' 'AL' 'MI' 'IN' 'IA' 'NE' 'MS' 'NM' 'OR' 'NY' 'MA' 'SD' 'WY' 'WV'\n 'NH' 'HI']\n"
    }
   ],
   "source": [
    "print(\"The list of all the states in the data set:\\n\\n\",data.ST.unique())"
   ]
  },
  {
   "cell_type": "markdown",
   "metadata": {},
   "source": [
    "** What are the top 5 states with the most failed banks? **"
   ]
  },
  {
   "cell_type": "code",
   "execution_count": null,
   "metadata": {
    "collapsed": true,
    "scrolled": true
   },
   "outputs": [],
   "source": [
    "# CODE HERE"
   ]
  },
  {
   "cell_type": "code",
   "execution_count": 41,
   "metadata": {
    "tags": []
   },
   "outputs": [
    {
     "output_type": "stream",
     "name": "stdout",
     "text": "Top 5 states with the most failed banks:\n GA    93\nFL    75\nIL    67\nCA    41\nMN    23\nName: ST, dtype: int64\n"
    }
   ],
   "source": [
    "print(\"Top 5 states with the most failed banks:\\n\",data['ST'].value_counts()[0:5])"
   ]
  },
  {
   "cell_type": "markdown",
   "metadata": {},
   "source": [
    "** What are the top 5 acquiring institutions? **"
   ]
  },
  {
   "cell_type": "code",
   "execution_count": 21,
   "metadata": {
    "collapsed": true
   },
   "outputs": [],
   "source": [
    "# CODE HERE"
   ]
  },
  {
   "cell_type": "code",
   "execution_count": 43,
   "metadata": {
    "tags": []
   },
   "outputs": [
    {
     "output_type": "stream",
     "name": "stdout",
     "text": "Top 5 acquiring institutions:\n No Acquirer                            31\nState Bank and Trust Company           12\nFirst-Citizens Bank & Trust Company    11\nAmeris Bank                            10\nU.S. Bank N.A.                          9\nName: Acquiring Institution, dtype: int64\n"
    }
   ],
   "source": [
    "print(\"Top 5 acquiring institutions:\\n\",data['Acquiring Institution'].value_counts()[0:5])"
   ]
  },
  {
   "cell_type": "markdown",
   "metadata": {},
   "source": [
    "** How many banks has the State Bank of Texas acquired? How many of them were actually in Texas?**"
   ]
  },
  {
   "cell_type": "code",
   "execution_count": 24,
   "metadata": {
    "collapsed": true
   },
   "outputs": [],
   "source": [
    "# CODE HERE"
   ]
  },
  {
   "cell_type": "code",
   "execution_count": 33,
   "metadata": {
    "tags": []
   },
   "outputs": [
    {
     "output_type": "execute_result",
     "data": {
      "text/plain": "                                 Bank Name     City  ST   CERT  \\\n4            Seaway Bank and Trust Company  Chicago  IL  19328   \n21   The National Republic Bank of Chicago  Chicago  IL    916   \n450         Millennium State Bank of Texas   Dallas  TX  57667   \n\n    Acquiring Institution Closing Date Updated Date  \n4     State Bank of Texas    27-Jan-17    18-May-17  \n21    State Bank of Texas    24-Oct-14     6-Jan-16  \n450   State Bank of Texas     2-Jul-09    26-Oct-12  ",
      "text/html": "<div>\n<style scoped>\n    .dataframe tbody tr th:only-of-type {\n        vertical-align: middle;\n    }\n\n    .dataframe tbody tr th {\n        vertical-align: top;\n    }\n\n    .dataframe thead th {\n        text-align: right;\n    }\n</style>\n<table border=\"1\" class=\"dataframe\">\n  <thead>\n    <tr style=\"text-align: right;\">\n      <th></th>\n      <th>Bank Name</th>\n      <th>City</th>\n      <th>ST</th>\n      <th>CERT</th>\n      <th>Acquiring Institution</th>\n      <th>Closing Date</th>\n      <th>Updated Date</th>\n    </tr>\n  </thead>\n  <tbody>\n    <tr>\n      <th>4</th>\n      <td>Seaway Bank and Trust Company</td>\n      <td>Chicago</td>\n      <td>IL</td>\n      <td>19328</td>\n      <td>State Bank of Texas</td>\n      <td>27-Jan-17</td>\n      <td>18-May-17</td>\n    </tr>\n    <tr>\n      <th>21</th>\n      <td>The National Republic Bank of Chicago</td>\n      <td>Chicago</td>\n      <td>IL</td>\n      <td>916</td>\n      <td>State Bank of Texas</td>\n      <td>24-Oct-14</td>\n      <td>6-Jan-16</td>\n    </tr>\n    <tr>\n      <th>450</th>\n      <td>Millennium State Bank of Texas</td>\n      <td>Dallas</td>\n      <td>TX</td>\n      <td>57667</td>\n      <td>State Bank of Texas</td>\n      <td>2-Jul-09</td>\n      <td>26-Oct-12</td>\n    </tr>\n  </tbody>\n</table>\n</div>"
     },
     "metadata": {},
     "execution_count": 33
    }
   ],
   "source": [
    "data[data['Acquiring Institution']=='State Bank of Texas']"
   ]
  },
  {
   "cell_type": "markdown",
   "metadata": {},
   "source": [
    "There are three banks acquired by the State Bank of Texas, of which only one bank is actually in the state of Texas."
   ]
  },
  {
   "cell_type": "markdown",
   "metadata": {},
   "source": [
    "** What is the most common city in California for a bank to fail in?**"
   ]
  },
  {
   "cell_type": "code",
   "execution_count": 31,
   "metadata": {
    "collapsed": true
   },
   "outputs": [],
   "source": [
    "# CODE HERE"
   ]
  },
  {
   "cell_type": "code",
   "execution_count": 30,
   "metadata": {
    "tags": []
   },
   "outputs": [
    {
     "output_type": "stream",
     "name": "stdout",
     "text": "Los Angeles         4\nSan Diego           2\nSan Francisco       2\nNewport Beach       2\nLa Jolla            2\nPalm Desert         2\nSanta Monica        1\nPalm Springs        1\nVentura             1\nNevada City         1\nMerced              1\nSonoma              1\nSan Rafael          1\nCalabasas           1\nWoodland Hills      1\nRancho Cucamonga    1\nSan Luis Obispo     1\nOakland             1\nPasadena            1\nWestminster         1\nIrvine              1\nNapa                1\nRedlands            1\nBakersfield         1\nTorrance            1\nGranite Bay         1\nStockton            1\nChico               1\nSolvang             1\nPomona              1\nTemecula            1\nSan Clemente        1\nCulver City         1\nName: City, dtype: int64\n"
    }
   ],
   "source": [
    "print(data[data['ST']=='CA']['City'].value_counts())"
   ]
  },
  {
   "cell_type": "markdown",
   "metadata": {},
   "source": [
    "Los Angeles is the city with the most bank failures in California"
   ]
  },
  {
   "cell_type": "markdown",
   "metadata": {},
   "source": [
    "** How many failed banks don't have the word \"Bank\" in their name? **"
   ]
  },
  {
   "cell_type": "code",
   "execution_count": null,
   "metadata": {
    "collapsed": true
   },
   "outputs": [],
   "source": [
    "# CODE HERE"
   ]
  },
  {
   "cell_type": "code",
   "execution_count": 55,
   "metadata": {},
   "outputs": [
    {
     "data": {
      "text/plain": [
       "14"
      ]
     },
     "execution_count": 55,
     "metadata": {},
     "output_type": "execute_result"
    }
   ],
   "source": []
  },
  {
   "cell_type": "markdown",
   "metadata": {},
   "source": [
    "** How many bank names start with the letter 's' ? **"
   ]
  },
  {
   "cell_type": "code",
   "execution_count": null,
   "metadata": {
    "collapsed": true
   },
   "outputs": [],
   "source": [
    "# CODE HERE"
   ]
  },
  {
   "cell_type": "code",
   "execution_count": 58,
   "metadata": {},
   "outputs": [
    {
     "data": {
      "text/plain": [
       "53"
      ]
     },
     "execution_count": 58,
     "metadata": {},
     "output_type": "execute_result"
    }
   ],
   "source": []
  },
  {
   "cell_type": "markdown",
   "metadata": {},
   "source": [
    "** How many CERT values are above 20000 ? **"
   ]
  },
  {
   "cell_type": "code",
   "execution_count": 61,
   "metadata": {
    "collapsed": true
   },
   "outputs": [],
   "source": [
    "# CODE HERE"
   ]
  },
  {
   "cell_type": "code",
   "execution_count": 64,
   "metadata": {},
   "outputs": [
    {
     "data": {
      "text/plain": [
       "417"
      ]
     },
     "execution_count": 64,
     "metadata": {},
     "output_type": "execute_result"
    }
   ],
   "source": []
  },
  {
   "cell_type": "markdown",
   "metadata": {},
   "source": [
    "** How many bank names consist of just two words? (e.g. \"First Bank\" , \"Bank Georgia\" )**"
   ]
  },
  {
   "cell_type": "code",
   "execution_count": 65,
   "metadata": {
    "collapsed": true
   },
   "outputs": [],
   "source": [
    "# CODE HERE"
   ]
  },
  {
   "cell_type": "code",
   "execution_count": 67,
   "metadata": {},
   "outputs": [
    {
     "data": {
      "text/plain": [
       "114"
      ]
     },
     "execution_count": 67,
     "metadata": {},
     "output_type": "execute_result"
    }
   ],
   "source": []
  },
  {
   "cell_type": "markdown",
   "metadata": {},
   "source": [
    "**Bonus: How many banks closed in the year 2008? (this is hard because we technically haven't learned about time series with pandas yet! Feel free to skip this one!**"
   ]
  },
  {
   "cell_type": "code",
   "execution_count": null,
   "metadata": {
    "collapsed": true
   },
   "outputs": [],
   "source": [
    "# CODE HERE"
   ]
  },
  {
   "cell_type": "code",
   "execution_count": 54,
   "metadata": {},
   "outputs": [
    {
     "data": {
      "text/plain": [
       "25"
      ]
     },
     "execution_count": 54,
     "metadata": {},
     "output_type": "execute_result"
    }
   ],
   "source": []
  }
 ],
 "metadata": {
  "kernelspec": {
   "display_name": "Python 3",
   "language": "python",
   "name": "python3"
  },
  "language_info": {
   "codemirror_mode": {
    "name": "ipython",
    "version": 3
   },
   "file_extension": ".py",
   "mimetype": "text/x-python",
   "name": "python",
   "nbconvert_exporter": "python",
   "pygments_lexer": "ipython3",
   "version": "3.8.3"
  }
 },
 "nbformat": 4,
 "nbformat_minor": 2
}