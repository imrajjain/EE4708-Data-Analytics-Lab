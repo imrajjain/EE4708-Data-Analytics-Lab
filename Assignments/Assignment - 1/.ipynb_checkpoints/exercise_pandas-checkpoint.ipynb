{
 "cells": [
  {
   "cell_type": "markdown",
   "metadata": {},
   "source": [
    "## Assignment - 1: EE4708 ('exercise_pandas.ipynb')\n",
    "Raj Jain | CH17B066"
   ]
  },
  {
   "cell_type": "markdown",
   "metadata": {},
   "source": [
    "# Pandas Exercises"
   ]
  },
  {
   "cell_type": "markdown",
   "metadata": {},
   "source": [
    "Assigments for Pandas skills\n"
   ]
  },
  {
   "cell_type": "markdown",
   "metadata": {},
   "source": [
    "** Import pandas and read in the banklist.csv file into a dataframe called banks. **"
   ]
  },
  {
   "cell_type": "code",
   "execution_count": 1,
   "metadata": {},
   "outputs": [],
   "source": [
    "import numpy as np\n",
    "import pandas as pd"
   ]
  },
  {
   "cell_type": "code",
   "execution_count": 2,
   "metadata": {},
   "outputs": [],
   "source": [
    "data = pd.read_csv(\"banklist.csv\")"
   ]
  },
  {
   "cell_type": "markdown",
   "metadata": {},
   "source": [
    "** Show the head of the dataframe **"
   ]
  },
  {
   "cell_type": "code",
   "execution_count": 3,
   "metadata": {},
   "outputs": [],
   "source": [
    "# CODE HERE"
   ]
  },
  {
   "cell_type": "code",
   "execution_count": 4,
   "metadata": {},
   "outputs": [
    {
     "data": {
      "text/html": [
       "<div>\n",
       "<style scoped>\n",
       "    .dataframe tbody tr th:only-of-type {\n",
       "        vertical-align: middle;\n",
       "    }\n",
       "\n",
       "    .dataframe tbody tr th {\n",
       "        vertical-align: top;\n",
       "    }\n",
       "\n",
       "    .dataframe thead th {\n",
       "        text-align: right;\n",
       "    }\n",
       "</style>\n",
       "<table border=\"1\" class=\"dataframe\">\n",
       "  <thead>\n",
       "    <tr style=\"text-align: right;\">\n",
       "      <th></th>\n",
       "      <th>Bank Name</th>\n",
       "      <th>City</th>\n",
       "      <th>ST</th>\n",
       "      <th>CERT</th>\n",
       "      <th>Acquiring Institution</th>\n",
       "      <th>Closing Date</th>\n",
       "      <th>Updated Date</th>\n",
       "    </tr>\n",
       "  </thead>\n",
       "  <tbody>\n",
       "    <tr>\n",
       "      <th>0</th>\n",
       "      <td>Fayette County Bank</td>\n",
       "      <td>Saint Elmo</td>\n",
       "      <td>IL</td>\n",
       "      <td>1802</td>\n",
       "      <td>United Fidelity Bank, fsb</td>\n",
       "      <td>26-May-17</td>\n",
       "      <td>1-Jun-17</td>\n",
       "    </tr>\n",
       "    <tr>\n",
       "      <th>1</th>\n",
       "      <td>Guaranty Bank, (d/b/a BestBank in Georgia &amp; Mi...</td>\n",
       "      <td>Milwaukee</td>\n",
       "      <td>WI</td>\n",
       "      <td>30003</td>\n",
       "      <td>First-Citizens Bank &amp; Trust Company</td>\n",
       "      <td>5-May-17</td>\n",
       "      <td>1-Jun-17</td>\n",
       "    </tr>\n",
       "    <tr>\n",
       "      <th>2</th>\n",
       "      <td>First NBC Bank</td>\n",
       "      <td>New Orleans</td>\n",
       "      <td>LA</td>\n",
       "      <td>58302</td>\n",
       "      <td>Whitney Bank</td>\n",
       "      <td>28-Apr-17</td>\n",
       "      <td>23-May-17</td>\n",
       "    </tr>\n",
       "    <tr>\n",
       "      <th>3</th>\n",
       "      <td>Proficio Bank</td>\n",
       "      <td>Cottonwood Heights</td>\n",
       "      <td>UT</td>\n",
       "      <td>35495</td>\n",
       "      <td>Cache Valley Bank</td>\n",
       "      <td>3-Mar-17</td>\n",
       "      <td>18-May-17</td>\n",
       "    </tr>\n",
       "    <tr>\n",
       "      <th>4</th>\n",
       "      <td>Seaway Bank and Trust Company</td>\n",
       "      <td>Chicago</td>\n",
       "      <td>IL</td>\n",
       "      <td>19328</td>\n",
       "      <td>State Bank of Texas</td>\n",
       "      <td>27-Jan-17</td>\n",
       "      <td>18-May-17</td>\n",
       "    </tr>\n",
       "  </tbody>\n",
       "</table>\n",
       "</div>"
      ],
      "text/plain": [
       "                                           Bank Name                City  ST  \\\n",
       "0                                Fayette County Bank          Saint Elmo  IL   \n",
       "1  Guaranty Bank, (d/b/a BestBank in Georgia & Mi...           Milwaukee  WI   \n",
       "2                                     First NBC Bank         New Orleans  LA   \n",
       "3                                      Proficio Bank  Cottonwood Heights  UT   \n",
       "4                      Seaway Bank and Trust Company             Chicago  IL   \n",
       "\n",
       "    CERT                Acquiring Institution Closing Date Updated Date  \n",
       "0   1802            United Fidelity Bank, fsb    26-May-17     1-Jun-17  \n",
       "1  30003  First-Citizens Bank & Trust Company     5-May-17     1-Jun-17  \n",
       "2  58302                         Whitney Bank    28-Apr-17    23-May-17  \n",
       "3  35495                    Cache Valley Bank     3-Mar-17    18-May-17  \n",
       "4  19328                  State Bank of Texas    27-Jan-17    18-May-17  "
      ]
     },
     "execution_count": 4,
     "metadata": {},
     "output_type": "execute_result"
    }
   ],
   "source": [
    "data.head()"
   ]
  },
  {
   "cell_type": "markdown",
   "metadata": {},
   "source": [
    "** What are the column names? **"
   ]
  },
  {
   "cell_type": "code",
   "execution_count": 5,
   "metadata": {
    "tags": []
   },
   "outputs": [],
   "source": [
    "# CODE HERE"
   ]
  },
  {
   "cell_type": "code",
   "execution_count": 6,
   "metadata": {
    "tags": []
   },
   "outputs": [
    {
     "name": "stdout",
     "output_type": "stream",
     "text": [
      "Index(['Bank Name', 'City', 'ST', 'CERT', 'Acquiring Institution',\n",
      "       'Closing Date', 'Updated Date'],\n",
      "      dtype='object')\n"
     ]
    }
   ],
   "source": [
    "print(data.columns)"
   ]
  },
  {
   "cell_type": "markdown",
   "metadata": {},
   "source": [
    "** How many States (ST) are represented in this data set? **"
   ]
  },
  {
   "cell_type": "code",
   "execution_count": 7,
   "metadata": {},
   "outputs": [],
   "source": [
    "# CODE HERE"
   ]
  },
  {
   "cell_type": "code",
   "execution_count": 8,
   "metadata": {
    "tags": []
   },
   "outputs": [
    {
     "name": "stdout",
     "output_type": "stream",
     "text": [
      "The number of states represented in this dataset is 44 .\n"
     ]
    }
   ],
   "source": [
    "print(\"The number of states represented in this dataset is\",data.ST.nunique(),\".\")"
   ]
  },
  {
   "cell_type": "markdown",
   "metadata": {},
   "source": [
    "** Get a list or array of all the states in the data set. **"
   ]
  },
  {
   "cell_type": "code",
   "execution_count": 9,
   "metadata": {},
   "outputs": [],
   "source": [
    "# CODE HERE"
   ]
  },
  {
   "cell_type": "code",
   "execution_count": 10,
   "metadata": {
    "tags": []
   },
   "outputs": [
    {
     "name": "stdout",
     "output_type": "stream",
     "text": [
      "The list of all the states in the data set:\n",
      "\n",
      " ['IL' 'WI' 'LA' 'UT' 'NJ' 'AR' 'GA' 'PA' 'TN' 'WA' 'CO' 'PR' 'FL' 'MN'\n",
      " 'CA' 'MD' 'OK' 'OH' 'SC' 'VA' 'ID' 'TX' 'CT' 'AZ' 'NV' 'NC' 'KY' 'MO'\n",
      " 'KS' 'AL' 'MI' 'IN' 'IA' 'NE' 'MS' 'NM' 'OR' 'NY' 'MA' 'SD' 'WY' 'WV'\n",
      " 'NH' 'HI']\n"
     ]
    }
   ],
   "source": [
    "print(\"The list of all the states in the data set:\\n\\n\",data.ST.unique())"
   ]
  },
  {
   "cell_type": "markdown",
   "metadata": {},
   "source": [
    "** What are the top 5 states with the most failed banks? **"
   ]
  },
  {
   "cell_type": "code",
   "execution_count": 11,
   "metadata": {
    "scrolled": true
   },
   "outputs": [],
   "source": [
    "# CODE HERE"
   ]
  },
  {
   "cell_type": "code",
   "execution_count": 13,
   "metadata": {
    "tags": []
   },
   "outputs": [
    {
     "name": "stdout",
     "output_type": "stream",
     "text": [
      "Top 5 states with the most failed banks: (Adjacent number to each state represents the number of failed banks in that state)\n",
      " GA    93\n",
      "FL    75\n",
      "IL    67\n",
      "CA    41\n",
      "MN    23\n",
      "Name: ST, dtype: int64\n"
     ]
    }
   ],
   "source": [
    "Top5FailStates = data['ST'].value_counts()[0:5]\n",
    "print(\"Top 5 states with the most failed banks: (Adjacent number to each state represents the number of failed banks in that state)\\n\", Top5FailStates)"
   ]
  },
  {
   "cell_type": "markdown",
   "metadata": {},
   "source": [
    "** What are the top 5 acquiring institutions? **"
   ]
  },
  {
   "cell_type": "code",
   "execution_count": 14,
   "metadata": {},
   "outputs": [],
   "source": [
    "# CODE HERE"
   ]
  },
  {
   "cell_type": "code",
   "execution_count": 15,
   "metadata": {
    "tags": []
   },
   "outputs": [
    {
     "name": "stdout",
     "output_type": "stream",
     "text": [
      "Top 5 acquiring institutions:\n",
      " No Acquirer                            31\n",
      "State Bank and Trust Company           12\n",
      "First-Citizens Bank & Trust Company    11\n",
      "Ameris Bank                            10\n",
      "U.S. Bank N.A.                          9\n",
      "Name: Acquiring Institution, dtype: int64\n"
     ]
    }
   ],
   "source": [
    "Top5Acquirers = data['Acquiring Institution'].value_counts()[0:5]\n",
    "print(\"Top 5 acquiring institutions:\\n\",Top5Acquirers)"
   ]
  },
  {
   "cell_type": "markdown",
   "metadata": {},
   "source": [
    "** How many banks has the State Bank of Texas acquired? How many of them were actually in Texas?**"
   ]
  },
  {
   "cell_type": "code",
   "execution_count": 16,
   "metadata": {},
   "outputs": [],
   "source": [
    "# CODE HERE"
   ]
  },
  {
   "cell_type": "code",
   "execution_count": null,
   "metadata": {
    "tags": []
   },
   "outputs": [],
   "source": [
    "data[data['Acquiring Institution']=='State Bank of Texas']"
   ]
  },
  {
   "cell_type": "markdown",
   "metadata": {},
   "source": [
    "There are three banks acquired by the State Bank of Texas, of which only one bank is actually in the state of Texas."
   ]
  },
  {
   "cell_type": "markdown",
   "metadata": {},
   "source": [
    "** What is the most common city in California for a bank to fail in?**"
   ]
  },
  {
   "cell_type": "code",
   "execution_count": 31,
   "metadata": {
    "collapsed": true
   },
   "outputs": [],
   "source": [
    "# CODE HERE"
   ]
  },
  {
   "cell_type": "code",
   "execution_count": 16,
   "metadata": {
    "tags": []
   },
   "outputs": [
    {
     "name": "stdout",
     "output_type": "stream",
     "text": [
      "Los Angeles is the city with the most bank failures in California\n"
     ]
    }
   ],
   "source": [
    "MostCommonCityCA = data[data['ST']=='CA']['City'].value_counts().index[0]\n",
    "print(MostCommonCityCA, \"is the city with the most bank failures in California\")"
   ]
  },
  {
   "cell_type": "markdown",
   "metadata": {},
   "source": [
    "** How many failed banks don't have the word \"Bank\" in their name? **"
   ]
  },
  {
   "cell_type": "code",
   "execution_count": 46,
   "metadata": {
    "collapsed": true
   },
   "outputs": [
    {
     "data": {
      "text/plain": [
       "True"
      ]
     },
     "execution_count": 46,
     "metadata": {},
     "output_type": "execute_result"
    }
   ],
   "source": [
    "# CODE HERE"
   ]
  },
  {
   "cell_type": "code",
   "execution_count": 12,
   "metadata": {
    "tags": []
   },
   "outputs": [
    {
     "name": "stdout",
     "output_type": "stream",
     "text": [
      "The number of banks which do not contain the word 'Bank' is 14\n"
     ]
    },
    {
     "data": {
      "text/html": [
       "<div>\n",
       "<style scoped>\n",
       "    .dataframe tbody tr th:only-of-type {\n",
       "        vertical-align: middle;\n",
       "    }\n",
       "\n",
       "    .dataframe tbody tr th {\n",
       "        vertical-align: top;\n",
       "    }\n",
       "\n",
       "    .dataframe thead th {\n",
       "        text-align: right;\n",
       "    }\n",
       "</style>\n",
       "<table border=\"1\" class=\"dataframe\">\n",
       "  <thead>\n",
       "    <tr style=\"text-align: right;\">\n",
       "      <th></th>\n",
       "      <th>Bank Name</th>\n",
       "      <th>City</th>\n",
       "      <th>ST</th>\n",
       "      <th>CERT</th>\n",
       "      <th>Acquiring Institution</th>\n",
       "      <th>Closing Date</th>\n",
       "      <th>Updated Date</th>\n",
       "    </tr>\n",
       "  </thead>\n",
       "  <tbody>\n",
       "    <tr>\n",
       "      <th>22</th>\n",
       "      <td>NBRS Financial</td>\n",
       "      <td>Rising Sun</td>\n",
       "      <td>MD</td>\n",
       "      <td>4862</td>\n",
       "      <td>Howard Bank</td>\n",
       "      <td>17-Oct-14</td>\n",
       "      <td>26-Mar-15</td>\n",
       "    </tr>\n",
       "    <tr>\n",
       "      <th>74</th>\n",
       "      <td>Second Federal Savings and Loan Association of...</td>\n",
       "      <td>Chicago</td>\n",
       "      <td>IL</td>\n",
       "      <td>27986</td>\n",
       "      <td>Hinsdale Bank &amp; Trust Company</td>\n",
       "      <td>20-Jul-12</td>\n",
       "      <td>14-Jan-13</td>\n",
       "    </tr>\n",
       "    <tr>\n",
       "      <th>101</th>\n",
       "      <td>Home Savings of America</td>\n",
       "      <td>Little Falls</td>\n",
       "      <td>MN</td>\n",
       "      <td>29178</td>\n",
       "      <td>No Acquirer</td>\n",
       "      <td>24-Feb-12</td>\n",
       "      <td>17-Dec-12</td>\n",
       "    </tr>\n",
       "    <tr>\n",
       "      <th>222</th>\n",
       "      <td>First Arizona Savings, A FSB</td>\n",
       "      <td>Scottsdale</td>\n",
       "      <td>AZ</td>\n",
       "      <td>32582</td>\n",
       "      <td>No Acquirer</td>\n",
       "      <td>22-Oct-10</td>\n",
       "      <td>20-Aug-12</td>\n",
       "    </tr>\n",
       "    <tr>\n",
       "      <th>248</th>\n",
       "      <td>Imperial Savings and Loan Association</td>\n",
       "      <td>Martinsville</td>\n",
       "      <td>VA</td>\n",
       "      <td>31623</td>\n",
       "      <td>River Community Bank, N.A.</td>\n",
       "      <td>20-Aug-10</td>\n",
       "      <td>24-Aug-12</td>\n",
       "    </tr>\n",
       "    <tr>\n",
       "      <th>300</th>\n",
       "      <td>CF Bancorp</td>\n",
       "      <td>Port Huron</td>\n",
       "      <td>MI</td>\n",
       "      <td>30005</td>\n",
       "      <td>First Michigan Bank</td>\n",
       "      <td>30-Apr-10</td>\n",
       "      <td>13-Apr-16</td>\n",
       "    </tr>\n",
       "    <tr>\n",
       "      <th>301</th>\n",
       "      <td>Westernbank Puerto Rico</td>\n",
       "      <td>Mayaguez</td>\n",
       "      <td>PR</td>\n",
       "      <td>31027</td>\n",
       "      <td>Banco Popular de Puerto Rico</td>\n",
       "      <td>30-Apr-10</td>\n",
       "      <td>21-Mar-14</td>\n",
       "    </tr>\n",
       "    <tr>\n",
       "      <th>303</th>\n",
       "      <td>Eurobank</td>\n",
       "      <td>San Juan</td>\n",
       "      <td>PR</td>\n",
       "      <td>27150</td>\n",
       "      <td>Oriental Bank and Trust</td>\n",
       "      <td>30-Apr-10</td>\n",
       "      <td>21-Mar-14</td>\n",
       "    </tr>\n",
       "    <tr>\n",
       "      <th>423</th>\n",
       "      <td>ebank</td>\n",
       "      <td>Atlanta</td>\n",
       "      <td>GA</td>\n",
       "      <td>34682</td>\n",
       "      <td>Stearns Bank, N.A.</td>\n",
       "      <td>21-Aug-09</td>\n",
       "      <td>21-Aug-12</td>\n",
       "    </tr>\n",
       "    <tr>\n",
       "      <th>428</th>\n",
       "      <td>Dwelling House Savings and Loan Association</td>\n",
       "      <td>Pittsburgh</td>\n",
       "      <td>PA</td>\n",
       "      <td>31559</td>\n",
       "      <td>PNC Bank, N.A.</td>\n",
       "      <td>14-Aug-09</td>\n",
       "      <td>15-Jan-13</td>\n",
       "    </tr>\n",
       "    <tr>\n",
       "      <th>496</th>\n",
       "      <td>Suburban FSB</td>\n",
       "      <td>Crofton</td>\n",
       "      <td>MD</td>\n",
       "      <td>30763</td>\n",
       "      <td>Bank of Essex</td>\n",
       "      <td>30-Jan-09</td>\n",
       "      <td>4-Feb-16</td>\n",
       "    </tr>\n",
       "    <tr>\n",
       "      <th>505</th>\n",
       "      <td>Downey Savings &amp; Loan</td>\n",
       "      <td>Newport Beach</td>\n",
       "      <td>CA</td>\n",
       "      <td>30968</td>\n",
       "      <td>U.S. Bank, N.A.</td>\n",
       "      <td>21-Nov-08</td>\n",
       "      <td>4-Jan-13</td>\n",
       "    </tr>\n",
       "    <tr>\n",
       "      <th>514</th>\n",
       "      <td>Ameribank</td>\n",
       "      <td>Northfork</td>\n",
       "      <td>WV</td>\n",
       "      <td>6782</td>\n",
       "      <td>The Citizens Savings Bank, Pioneer Community B...</td>\n",
       "      <td>19-Sep-08</td>\n",
       "      <td>21-Sep-15</td>\n",
       "    </tr>\n",
       "    <tr>\n",
       "      <th>523</th>\n",
       "      <td>ANB Financial, NA</td>\n",
       "      <td>Bentonville</td>\n",
       "      <td>AR</td>\n",
       "      <td>33901</td>\n",
       "      <td>Pulaski Bank and Trust Company</td>\n",
       "      <td>9-May-08</td>\n",
       "      <td>28-Aug-12</td>\n",
       "    </tr>\n",
       "  </tbody>\n",
       "</table>\n",
       "</div>"
      ],
      "text/plain": [
       "                                             Bank Name           City  ST  \\\n",
       "22                                      NBRS Financial     Rising Sun  MD   \n",
       "74   Second Federal Savings and Loan Association of...        Chicago  IL   \n",
       "101                            Home Savings of America   Little Falls  MN   \n",
       "222                       First Arizona Savings, A FSB     Scottsdale  AZ   \n",
       "248              Imperial Savings and Loan Association   Martinsville  VA   \n",
       "300                                         CF Bancorp     Port Huron  MI   \n",
       "301                            Westernbank Puerto Rico       Mayaguez  PR   \n",
       "303                                           Eurobank       San Juan  PR   \n",
       "423                                              ebank        Atlanta  GA   \n",
       "428        Dwelling House Savings and Loan Association     Pittsburgh  PA   \n",
       "496                                       Suburban FSB        Crofton  MD   \n",
       "505                              Downey Savings & Loan  Newport Beach  CA   \n",
       "514                                          Ameribank      Northfork  WV   \n",
       "523                                  ANB Financial, NA    Bentonville  AR   \n",
       "\n",
       "      CERT                              Acquiring Institution Closing Date  \\\n",
       "22    4862                                        Howard Bank    17-Oct-14   \n",
       "74   27986                      Hinsdale Bank & Trust Company    20-Jul-12   \n",
       "101  29178                                        No Acquirer    24-Feb-12   \n",
       "222  32582                                        No Acquirer    22-Oct-10   \n",
       "248  31623                         River Community Bank, N.A.    20-Aug-10   \n",
       "300  30005                                First Michigan Bank    30-Apr-10   \n",
       "301  31027                       Banco Popular de Puerto Rico    30-Apr-10   \n",
       "303  27150                            Oriental Bank and Trust    30-Apr-10   \n",
       "423  34682                                 Stearns Bank, N.A.    21-Aug-09   \n",
       "428  31559                                     PNC Bank, N.A.    14-Aug-09   \n",
       "496  30763                                      Bank of Essex    30-Jan-09   \n",
       "505  30968                                    U.S. Bank, N.A.    21-Nov-08   \n",
       "514   6782  The Citizens Savings Bank, Pioneer Community B...    19-Sep-08   \n",
       "523  33901                     Pulaski Bank and Trust Company     9-May-08   \n",
       "\n",
       "    Updated Date  \n",
       "22     26-Mar-15  \n",
       "74     14-Jan-13  \n",
       "101    17-Dec-12  \n",
       "222    20-Aug-12  \n",
       "248    24-Aug-12  \n",
       "300    13-Apr-16  \n",
       "301    21-Mar-14  \n",
       "303    21-Mar-14  \n",
       "423    21-Aug-12  \n",
       "428    15-Jan-13  \n",
       "496     4-Feb-16  \n",
       "505     4-Jan-13  \n",
       "514    21-Sep-15  \n",
       "523    28-Aug-12  "
      ]
     },
     "execution_count": 12,
     "metadata": {},
     "output_type": "execute_result"
    }
   ],
   "source": [
    "NumWithoutBank = data[~data[\"Bank Name\"].str.contains(\"Bank\")].shape[0]\n",
    "print(\"The number of banks which do not contain the word 'Bank' is\", NumWithoutBank)\n",
    "data[~data[\"Bank Name\"].str.contains(\"Bank\")]"
   ]
  },
  {
   "cell_type": "markdown",
   "metadata": {},
   "source": [
    "** How many bank names start with the letter 's' ? **"
   ]
  },
  {
   "cell_type": "code",
   "execution_count": null,
   "metadata": {
    "collapsed": true
   },
   "outputs": [],
   "source": [
    "# CODE HERE"
   ]
  },
  {
   "cell_type": "code",
   "execution_count": 11,
   "metadata": {
    "tags": []
   },
   "outputs": [
    {
     "name": "stdout",
     "output_type": "stream",
     "text": [
      "The number of bank names starting with the letter 'S' is 53\n"
     ]
    }
   ],
   "source": [
    "NumBankStartS = data[data[\"Bank Name\"].str.startswith(\"S\")].shape[0]\n",
    "print(\"The number of bank names starting with the letter 'S' is\", NumBankStartS)"
   ]
  },
  {
   "cell_type": "markdown",
   "metadata": {},
   "source": [
    "** How many CERT values are above 20000 ? **"
   ]
  },
  {
   "cell_type": "code",
   "execution_count": 61,
   "metadata": {
    "collapsed": true
   },
   "outputs": [],
   "source": [
    "# CODE HERE"
   ]
  },
  {
   "cell_type": "code",
   "execution_count": 10,
   "metadata": {
    "tags": []
   },
   "outputs": [
    {
     "name": "stdout",
     "output_type": "stream",
     "text": [
      "The number of CERT values above 20000 is 417\n"
     ]
    }
   ],
   "source": [
    "NumCERT2000 = data[data[\"CERT\"]>20000].shape[0]\n",
    "print(\"The number of CERT values above 20000 is\", NumCERT2000)"
   ]
  },
  {
   "cell_type": "markdown",
   "metadata": {},
   "source": [
    "** How many bank names consist of just two words? (e.g. \"First Bank\" , \"Bank Georgia\" )**"
   ]
  },
  {
   "cell_type": "code",
   "execution_count": 7,
   "metadata": {
    "collapsed": true
   },
   "outputs": [],
   "source": [
    "# CODE HERE"
   ]
  },
  {
   "cell_type": "code",
   "execution_count": 9,
   "metadata": {
    "tags": []
   },
   "outputs": [
    {
     "name": "stdout",
     "output_type": "stream",
     "text": [
      "The number of banks which consist of just two words is: 114\n"
     ]
    }
   ],
   "source": [
    "NumBanksTwoWords = data[data['Bank Name'].str.split().str.len()==2].shape[0]\n",
    "print(\"The number of banks which consist of just two words is:\", NumBanksTwoWords)"
   ]
  },
  {
   "cell_type": "markdown",
   "metadata": {},
   "source": [
    "**Bonus: How many banks closed in the year 2008? (this is hard because we technically haven't learned about time series with pandas yet! Feel free to skip this one!**"
   ]
  },
  {
   "cell_type": "code",
   "execution_count": null,
   "metadata": {
    "collapsed": true
   },
   "outputs": [],
   "source": [
    "# CODE HERE"
   ]
  },
  {
   "cell_type": "code",
   "execution_count": 22,
   "metadata": {
    "tags": []
   },
   "outputs": [
    {
     "name": "stdout",
     "output_type": "stream",
     "text": [
      "The number of banks closed in the year 2008 is: 25\n"
     ]
    }
   ],
   "source": [
    "NumBanksClosedIn2008 = data[pd.DatetimeIndex(data['Closing Date']).year == 2008].shape[0]\n",
    "print(\"The number of banks closed in the year 2008 is:\", NumBanksClosedIn2008)"
   ]
  },
  {
   "cell_type": "code",
   "execution_count": null,
   "metadata": {},
   "outputs": [],
   "source": []
  }
 ],
 "metadata": {
  "kernelspec": {
   "display_name": "Python 3",
   "language": "python",
   "name": "python3"
  },
  "language_info": {
   "codemirror_mode": {
    "name": "ipython",
    "version": 3
   },
   "file_extension": ".py",
   "mimetype": "text/x-python",
   "name": "python",
   "nbconvert_exporter": "python",
   "pygments_lexer": "ipython3",
   "version": "3.8.3"
  }
 },
 "nbformat": 4,
 "nbformat_minor": 2
}
