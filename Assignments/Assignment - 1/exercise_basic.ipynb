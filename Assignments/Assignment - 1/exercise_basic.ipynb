{
 "metadata": {
  "language_info": {
   "codemirror_mode": {
    "name": "ipython",
    "version": 3
   },
   "file_extension": ".py",
   "mimetype": "text/x-python",
   "name": "python",
   "nbconvert_exporter": "python",
   "pygments_lexer": "ipython3",
   "version": "3.7.6-final"
  },
  "orig_nbformat": 2,
  "kernelspec": {
   "name": "python_defaultSpec_1597011528601",
   "display_name": "Python 3.8.3 64-bit ('Anaconda': conda)"
  }
 },
 "nbformat": 4,
 "nbformat_minor": 2,
 "cells": [
  {
   "cell_type": "markdown",
   "metadata": {},
   "source": [
    "## Assignment - 1: EE4708 ('exercise_basic.ipynb')\n",
    "Raj Jain | CH17B066 "
   ]
  },
  {
   "cell_type": "markdown",
   "metadata": {},
   "source": [
    "1) Given the array split the array at the middle (if it is odd length consider next higher integer), add reverse the array.\n",
    "\n",
    "Ex:\n",
    "if input is [12,10,5,6,52,36] \n",
    "output should be [6,52,36,12,10,5]\n",
    "\n",
    "if input is  [12,10,5,6,52,36,34]\n",
    "output should be [6,52,36,34,12,10,5]"
   ]
  },
  {
   "cell_type": "code",
   "execution_count": 23,
   "metadata": {},
   "outputs": [],
   "source": [
    "import math\n",
    "# Complete this function to get the desired result\n",
    "def reverseatCenter(arr):\n",
    "    arr2 = arr[math.floor(len(arr)/2):] + arr[:math.floor(len(arr)/2)]\n",
    "    return arr2"
   ]
  },
  {
   "cell_type": "code",
   "execution_count": 24,
   "metadata": {
    "tags": []
   },
   "outputs": [
    {
     "output_type": "stream",
     "name": "stdout",
     "text": "[6, 52, 36, 12, 10, 5]\n"
    },
    {
     "output_type": "execute_result",
     "data": {
      "text/plain": "[6, 52, 36, 34, 12, 10, 5]"
     },
     "metadata": {},
     "execution_count": 24
    }
   ],
   "source": [
    "# Print wroking examples\n",
    "print(reverseatCenter([12,10,5,6,52,36]))\n",
    "arr = [12,10,5,6,52,36,34]\n",
    "reverseatCenter(arr)"
   ]
  },
  {
   "cell_type": "markdown",
   "metadata": {},
   "source": [
    "2) Given a list of numbers, return a list where all adjacent duplicate elements have been removed.\n",
    "\n",
    "Ex:\n",
    "\n",
    "2, 2, 2, 3, 2 returns 2, 3, 2."
   ]
  },
  {
   "cell_type": "code",
   "execution_count": 16,
   "metadata": {},
   "outputs": [],
   "source": [
    "# Complete the function to get the desired result\n",
    "\n",
    "def remove_adjacent(b):\n",
    "    b2 = []\n",
    "    for i in range(1,len(b)):\n",
    "        if b[i]!=b[i-1]:\n",
    "            b2.append(b[i])\n",
    "    return [b[0]]+b2"
   ]
  },
  {
   "cell_type": "code",
   "execution_count": 19,
   "metadata": {
    "tags": []
   },
   "outputs": [
    {
     "output_type": "stream",
     "name": "stdout",
     "text": "[2, 3, 2]\n[2, 3, 2, 5, 6, 2, 3]\n"
    }
   ],
   "source": [
    "print(remove_adjacent([2, 2, 2, 3, 2]))\n",
    "print(remove_adjacent([2, 2, 2, 3, 2,2,2,2,5,5,5,5,6,6,2,3,3,3]))"
   ]
  },
  {
   "cell_type": "markdown",
   "metadata": {},
   "source": [
    "3) given matrix of 7x7 full of ones, create a square with given side length (center same as original square(7x7)) replace ones with zeors at the edges for example,\n",
    "\n"
   ]
  },
  {
   "cell_type": "markdown",
   "metadata": {},
   "source": [
    "$$\n",
    "\\begin{align}\n",
    "A = \\begin{bmatrix}\n",
    "1 & 1 & 1 & 1 & 1 & 1 & 1\\\\\n",
    "1 & 1 & 1 & 1 & 1 & 1 & 1\\\\\n",
    "1 & 1 & 1 & 1 & 1 & 1 & 1\\\\\n",
    "1 & 1 & 1 & 1 & 1 & 1 & 1\\\\\n",
    "1 & 1 & 1 & 1 & 1 & 1 & 1\\\\\n",
    "1 & 1 & 1 & 1 & 1 & 1 & 1\\\\\n",
    "1 & 1 & 1 & 1 & 1 & 1 & 1\\\\\n",
    "\\end{bmatrix}\n",
    "\\end{align}\n",
    "$$\n",
    "After modification\n",
    "$$\n",
    "\\begin{align}\n",
    "A = \\begin{bmatrix}\n",
    "1 & 1 & 1 & 1 & 1 & 1 & 1\\\\\n",
    "1 & 1 & 1 & 1 & 1 & 1 & 1\\\\\n",
    "1 & 1 & 0 & 0 & 0 & 1 & 1\\\\\n",
    "1 & 1 & 0 & 1 & 0 & 1 & 1\\\\\n",
    "1 & 1 & 0 & 0 & 0 & 1 & 1\\\\\n",
    "1 & 1 & 1 & 1 & 1 & 1 & 1\\\\\n",
    "1 & 1 & 1 & 1 & 1 & 1 & 1\\\\\n",
    "\\end{bmatrix}\n",
    "\\end{align}\n",
    "$$"
   ]
  },
  {
   "cell_type": "code",
   "execution_count": 30,
   "metadata": {},
   "outputs": [],
   "source": [
    "import numpy as np\n",
    "def matSquare(l):\n",
    "    #l: given side length\n",
    "    #A: matrix of ones of size (7,7)\n",
    "    #A2: ouptut matrix with centre at (4,4), of length 'l'\n",
    "    A=np.ones((7,7))\n",
    "    A2=A\n",
    "    A2[3-int((l-1)/2):3+int((l-1)/2),3-int((l-1)/2)]=0\n",
    "    A2[3-int((l-1)/2):3+int((l-1)/2),3+int((l-1)/2)]=0\n",
    "    A2[3-int((l-1)/2),3-int((l-1)/2):3+int((l-1)/2)]=0\n",
    "    A2[3+int((l-1)/2),3-int((l-1)/2):3+int((l-1)/2)+1]=0\n",
    "    return A2\n",
    "\n",
    "# write programm to get the desired result"
   ]
  },
  {
   "cell_type": "code",
   "execution_count": 33,
   "metadata": {
    "tags": []
   },
   "outputs": [
    {
     "output_type": "stream",
     "name": "stdout",
     "text": "[[1. 1. 1. 1. 1. 1. 1.]\n [1. 1. 1. 1. 1. 1. 1.]\n [1. 1. 0. 0. 0. 1. 1.]\n [1. 1. 0. 1. 0. 1. 1.]\n [1. 1. 0. 0. 0. 1. 1.]\n [1. 1. 1. 1. 1. 1. 1.]\n [1. 1. 1. 1. 1. 1. 1.]]\n[[1. 1. 1. 1. 1. 1. 1.]\n [1. 0. 0. 0. 0. 0. 1.]\n [1. 0. 1. 1. 1. 0. 1.]\n [1. 0. 1. 1. 1. 0. 1.]\n [1. 0. 1. 1. 1. 0. 1.]\n [1. 0. 0. 0. 0. 0. 1.]\n [1. 1. 1. 1. 1. 1. 1.]]\n[[0. 0. 0. 0. 0. 0. 0.]\n [0. 1. 1. 1. 1. 1. 0.]\n [0. 1. 1. 1. 1. 1. 0.]\n [0. 1. 1. 1. 1. 1. 0.]\n [0. 1. 1. 1. 1. 1. 0.]\n [0. 1. 1. 1. 1. 1. 0.]\n [0. 0. 0. 0. 0. 0. 0.]]\n"
    }
   ],
   "source": [
    "#Print working examples\n",
    "print(matSquare(3))\n",
    "print(matSquare(5))\n",
    "print(matSquare(7))"
   ]
  },
  {
   "cell_type": "markdown",
   "metadata": {},
   "source": [
    "4) Paragraph present in data.txt is encoded such that each alphabet in word is incremented to next ascii value. Decode the paragraph present in the data_encoded.txt (Hint: decrease the ascii value of each character in the word)\n"
   ]
  },
  {
   "cell_type": "code",
   "execution_count": 15,
   "metadata": {},
   "outputs": [],
   "source": [
    "def sentence_decode(str):\n",
    "    # write the code here\n",
    "    dec_words = \"\".join([chr(i) for i in [ord(c)-1 for c in str]]).replace(chr(ord(\" \")-1),\" \")\n",
    "    return dec_words"
   ]
  },
  {
   "cell_type": "code",
   "execution_count": 16,
   "metadata": {
    "tags": []
   },
   "outputs": [
    {
     "output_type": "stream",
     "name": "stdout",
     "text": "ebub bobmztjt jt b qspdftt pg jotqfdujoh- dmfbotjoh- usbotgpsnjoh boe npefmjoh ebub xjui uif hpbm pg ejtdpwfsjoh vtfgvm jogpsnbujpo- jogpsnjoh dpodmvtjpot boe tvqqpsujoh efdjtjpo.nbljoh/ ebub bobmztjt ibt nvmujqmf gbdfut boe bqqspbdift- fodpnqbttjoh ejwfstf ufdiojrvft voefs b wbsjfuz pg obnft- boe jt vtfe jo ejggfsfou cvtjoftt- tdjfodf- boe tpdjbm tdjfodf epnbjot/ jo upebz(t cvtjoftt xpsme- ebub bobmztjt qmbzt b spmf jo nbljoh efdjtjpot npsf tdjfoujgjd boe ifmqjoh cvtjofttft pqfsbuf npsf fggfdujwfmz/\n \ndata analysis is a process of inspecting, cleansing, transforming and modeling data with the goal of discovering useful information, informing conclusions and supporting decision-making. data analysis has multiple facets and approaches, encompassing diverse techniques under a variety of names, and is used in different business, science, and social science domains. in today's business world, data analysis plays a role in making decisions more scientific and helping businesses operate more effectively.\n"
    }
   ],
   "source": [
    "with open (\"data_encoded.txt\", \"r\") as myfile:\n",
    "    data=myfile.read()\n",
    "    print(data)\n",
    "    print(\" \")\n",
    "    print(sentence_decode(data))"
   ]
  },
  {
   "cell_type": "code",
   "execution_count": 14,
   "metadata": {},
   "outputs": [],
   "source": [
    "# Has to print the decoded paragraph."
   ]
  }
 ]
}