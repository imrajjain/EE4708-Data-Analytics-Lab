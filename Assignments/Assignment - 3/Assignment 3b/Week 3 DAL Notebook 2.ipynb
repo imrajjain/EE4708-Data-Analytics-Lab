{
 "cells": [
  {
   "cell_type": "code",
   "execution_count": 1,
   "metadata": {},
   "outputs": [],
   "source": [
    "# Import required packages here\n",
    "import numpy as np\n",
    "import pandas as pd\n",
    "import matplotlib.pyplot as plt\n",
    "import warnings\n",
    "warnings.filterwarnings(\"ignore\")"
   ]
  },
  {
   "cell_type": "markdown",
   "metadata": {},
   "source": [
    "# Section 6 : Regression by Grid Search"
   ]
  },
  {
   "cell_type": "markdown",
   "metadata": {},
   "source": [
    "Consider the function , $$f(\\textbf{x},\\Theta) = \\theta_1 x_1^2 + \\theta_2 x_2$$\n",
    "to be fitted to the \"dataset3.npz\". Assume that an initial solution to this function is already obtained by Gradient descent, it is found to $\\Theta_0 = (1, 4)^T$. Perform grid search in a suitable neighbourhood of this point and precisely estimate $\\Theta$."
   ]
  },
  {
   "cell_type": "code",
   "execution_count": null,
   "metadata": {},
   "outputs": [],
   "source": [
    "x1 = np.load('.\\dataset3.npz')['x1']\n",
    "x2 = np.load('.\\dataset3.npz')['x2']\n",
    "y = np.load('.\\dataset3.npz')['y']\n",
    "\n",
    "#Construct a uniform grid\n",
    "\n",
    "\n",
    "# Perform search"
   ]
  },
  {
   "cell_type": "markdown",
   "metadata": {},
   "source": [
    "# Section 7 : Linear Regression with Sklearn\n",
    "\n",
    "Four Main Assumptions:\n",
    "1. Linear relationship between features and target,\n",
    "2. Homoscedasticity: The variance of residual is the same for any value of X,\n",
    "3. Independence: Observations are independent of each other,\n",
    "3. No multi-collinearity among features i.e features are indepent\n",
    "\n",
    "**General Note : Attributes and parameters should be chosen according to the question asked** "
   ]
  },
  {
   "cell_type": "code",
   "execution_count": null,
   "metadata": {},
   "outputs": [],
   "source": [
    "# For performing regression operations\n",
    "from sklearn.linear_model import LinearRegression # Fitting the linear regression\n",
    "from sklearn.preprocessing import PolynomialFeatures # To convert the features into polynomial features\n",
    "from sklearn.metrics import mean_squared_error # This is our cost function a.k.a loss function"
   ]
  },
  {
   "cell_type": "markdown",
   "metadata": {},
   "source": [
    "### 7.1. Importing Dataset and Visualisation\n",
    "\n",
    "1) Import the data X and y from the **\"dataset2.npz\"** \n",
    "\n",
    "2) Print the the top 10 rows of X and y. and Scattter plot of X and y"
   ]
  },
  {
   "cell_type": "code",
   "execution_count": null,
   "metadata": {},
   "outputs": [],
   "source": []
  },
  {
   "cell_type": "markdown",
   "metadata": {},
   "source": [
    "Fit a polynomial model (for the suggested degree) to the data. Comment on the fit (as a function of the model) in terms of the mean square error.\n",
    "\n",
    "(Hint: Use in-built libraries from Scikit-learn for the exercise.)"
   ]
  },
  {
   "cell_type": "markdown",
   "metadata": {},
   "source": [
    "### 7.2. Degree 1 (Linear)\n",
    "\n",
    "3) Using linear regression, find a relation between $Y$ and $X$. Plot the regrssion function(vs $X$) and report the mean square error."
   ]
  },
  {
   "cell_type": "code",
   "execution_count": null,
   "metadata": {},
   "outputs": [],
   "source": []
  },
  {
   "cell_type": "markdown",
   "metadata": {},
   "source": [
    "### 7.3. Degree 2 (Quadratic)\n",
    "\n",
    "3) Using polynomial regression of degree 2, Find a relation between $Y$ and $X$. Plot the regression function (vs $X$) and report the mean square error."
   ]
  },
  {
   "cell_type": "code",
   "execution_count": null,
   "metadata": {},
   "outputs": [],
   "source": []
  },
  {
   "cell_type": "markdown",
   "metadata": {},
   "source": [
    "### 7.4. Degree 3 (Cubic)\n",
    "\n",
    "4) Using polynomial regression of degree 3, find a relation between $Y$ and $X$. Plot the regression function (vs $X$) and report the mean square error"
   ]
  },
  {
   "cell_type": "code",
   "execution_count": null,
   "metadata": {},
   "outputs": [],
   "source": []
  },
  {
   "cell_type": "markdown",
   "metadata": {},
   "source": [
    "### 7.5. Degree 9\n",
    "\n",
    "5) Using polynomial regression of degree 9, find a relation between $Y$ and $X$. Plot the regression function (vs $X$) and report the mean square error."
   ]
  },
  {
   "cell_type": "code",
   "execution_count": null,
   "metadata": {},
   "outputs": [],
   "source": []
  },
  {
   "cell_type": "markdown",
   "metadata": {},
   "source": [
    "### 7.6. Training Error\n",
    "\n",
    "6) Plot the mean square error versus the degree of the polynomial fit (for degree = 0,1, ..., 9). Comment on the best model for the data based on MSE of training error\n",
    "\n",
    "**Note** : Degree 0 means just the intercept"
   ]
  },
  {
   "cell_type": "code",
   "execution_count": null,
   "metadata": {},
   "outputs": [],
   "source": []
  },
  {
   "cell_type": "markdown",
   "metadata": {},
   "source": [
    "### 7.7. Test error\n",
    "\n",
    "Load **'dataset2_test.npz'**. The data points in the file are from the same distribution as the ones in 'dataset2.npz'.\n",
    "\n",
    "7) Plot the mean square error by predicting outputs on the test dataset using the trained models of degrees 0,1,...9 obtained with the training data set **dataset2.npz**. Now, comment on the best model for data based on MSE on both training and test datasets.\n",
    "\n",
    "(Hint: Plot Training error and Testing error in the same plot.) Use Matplotlib for plotting"
   ]
  },
  {
   "cell_type": "code",
   "execution_count": null,
   "metadata": {},
   "outputs": [],
   "source": []
  },
  {
   "cell_type": "markdown",
   "metadata": {},
   "source": [
    "### 7.8. Best Degree of polynomial\n",
    "\n",
    "8)Hint : Based on Test error."
   ]
  },
  {
   "cell_type": "code",
   "execution_count": null,
   "metadata": {},
   "outputs": [],
   "source": []
  },
  {
   "cell_type": "markdown",
   "metadata": {},
   "source": [
    "# Section 8 : Multiple Linear Regression on Boston Housing Price Data\n",
    "Import data from **\"dataset3.csv\"**. This is one among the sklearn standard datasets which can be used to develop a model for house price prediction \"load_boston\". Description of the features can be found in the sklearn documentation if you want to explore."
   ]
  },
  {
   "cell_type": "markdown",
   "metadata": {},
   "source": [
    "## 8.1. Describe the data\n",
    "Hint :  Categorical features = ['RAD', 'CHAS', 'ZN'], Non-categorical features = Except categorical all the other features\n",
    "1. Find Mean, Median for Non-categorical features and Price, Mode only for Categorical feaures\n",
    "2. Find Quantiles at 25th, 50th, 75th for Non-categorical features and Price\n",
    "3. Find Maximum and Minimum, Range of the data (max -min) for Non-categorical features and Price\n",
    "4. Find Distributions (Histogram) for Non-categorical features and Price (Using Seaborn is suggested)\n",
    "\n",
    "**Note** - Dont use pandas.describe here. You may use inbuilt functions from numpy package. You can store the above descriptive statistics in a dataframe and print that dataframe."
   ]
  },
  {
   "cell_type": "code",
   "execution_count": null,
   "metadata": {},
   "outputs": [],
   "source": []
  },
  {
   "cell_type": "markdown",
   "metadata": {},
   "source": [
    "## 8.2. Correlation Heatmap for all the features and target\n",
    "**Hint** : Use Seaborn library to plot, note keep annotate = True"
   ]
  },
  {
   "cell_type": "code",
   "execution_count": null,
   "metadata": {},
   "outputs": [],
   "source": []
  },
  {
   "cell_type": "markdown",
   "metadata": {},
   "source": [
    "## 8.3. Highly Correlated features\n",
    "Find and print the highly correlated features with respect to \"Price\". "
   ]
  },
  {
   "cell_type": "code",
   "execution_count": null,
   "metadata": {},
   "outputs": [],
   "source": []
  },
  {
   "cell_type": "markdown",
   "metadata": {},
   "source": [
    "## 8.4. Split the Dataset\n",
    "**Hint** : Use sklearn train_test_split to split the data into train and test data, keep random state = 2020 and test_size = 0.33"
   ]
  },
  {
   "cell_type": "code",
   "execution_count": null,
   "metadata": {},
   "outputs": [],
   "source": []
  },
  {
   "cell_type": "markdown",
   "metadata": {},
   "source": [
    "## 8.5. Train the model on only train data using linear_regression\n",
    "Report Train MSE"
   ]
  },
  {
   "cell_type": "code",
   "execution_count": null,
   "metadata": {},
   "outputs": [],
   "source": []
  },
  {
   "cell_type": "markdown",
   "metadata": {},
   "source": [
    "## 8.6. Predict Outputs for Test Data\n",
    "Report test MSE"
   ]
  },
  {
   "cell_type": "code",
   "execution_count": null,
   "metadata": {},
   "outputs": [],
   "source": []
  },
  {
   "cell_type": "markdown",
   "metadata": {},
   "source": [
    "## 8.7. Important Features\n",
    "Find and print the featuers in order of their importance based on trained regression model."
   ]
  },
  {
   "cell_type": "code",
   "execution_count": null,
   "metadata": {},
   "outputs": [],
   "source": []
  },
  {
   "cell_type": "markdown",
   "metadata": {},
   "source": [
    "# Q&A Section :\n",
    "1. Comment on assumptions validity discussed in Section 7 with this dataset? Whether we satisfied assumptions or not.\n",
    "2. Is there any relation between highly important features(from Section 8.7) and highly correlated features with price?Only give descriptive observation.\n",
    "3. Why usually test error is higher than training error?\n",
    "4. Will Analytical solution discussed in the Notebook 1 Section 2 be valid on this dataset? Why or Why not?"
   ]
  },
  {
   "cell_type": "code",
   "execution_count": null,
   "metadata": {},
   "outputs": [],
   "source": []
  }
 ],
 "metadata": {
  "kernelspec": {
   "display_name": "Python 3",
   "language": "python",
   "name": "python3"
  },
  "language_info": {
   "codemirror_mode": {
    "name": "ipython",
    "version": 3
   },
   "file_extension": ".py",
   "mimetype": "text/x-python",
   "name": "python",
   "nbconvert_exporter": "python",
   "pygments_lexer": "ipython3",
   "version": "3.6.4"
  }
 },
 "nbformat": 4,
 "nbformat_minor": 2
}
