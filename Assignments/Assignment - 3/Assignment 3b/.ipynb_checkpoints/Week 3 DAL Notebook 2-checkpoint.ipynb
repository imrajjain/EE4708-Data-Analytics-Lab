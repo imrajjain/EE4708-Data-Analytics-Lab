{
 "cells": [
  {
   "cell_type": "code",
   "execution_count": 1,
   "metadata": {},
   "outputs": [],
   "source": [
    "# Import required packages here\n",
    "import numpy as np\n",
    "import pandas as pd\n",
    "import matplotlib.pyplot as plt\n",
    "import warnings\n",
    "warnings.filterwarnings(\"ignore\")"
   ]
  },
  {
   "cell_type": "markdown",
   "metadata": {},
   "source": [
    "# Section 6 : Regression by Grid Search"
   ]
  },
  {
   "cell_type": "markdown",
   "metadata": {},
   "source": [
    "Consider the function , $$f(\\textbf{x},\\Theta) = \\theta_1 x_1^2 + \\theta_2 x_2$$\n",
    "to be fitted to the \"dataset3.npz\". Assume that an initial solution to this function is already obtained by Gradient descent, it is found to $\\Theta_0 = (1, 4)^T$. Perform grid search in a suitable neighbourhood of this point and precisely estimate $\\Theta$."
   ]
  },
  {
   "cell_type": "code",
   "execution_count": 22,
   "metadata": {},
   "outputs": [
    {
     "name": "stdout",
     "output_type": "stream",
     "text": [
      "theta1 = 1.567 \n",
      "theta2 = 3.790 \n",
      "Cost(J) = 1.79e-05\n"
     ]
    }
   ],
   "source": [
    "x1 = np.load('dataset4.npz')['x1']\n",
    "x2 = np.load('dataset4.npz')['x2']\n",
    "y = np.load('dataset4.npz')['y']\n",
    "\n",
    "interval = 1\n",
    "steps = 500\n",
    "theta1=1\n",
    "theta2=4\n",
    "m = len(x1)\n",
    "#Construct a uniform grid\n",
    "theta1_range = np.linspace(1-interval,1+interval,steps)\n",
    "theta2_range = np.linspace(4-interval,4+interval,steps)\n",
    "Jmin = (1/2/m)*np.sum((y-(np.square(x1)*theta1)+x2*theta2)**2)\n",
    "Jinit = Jmin\n",
    "# Perform search\n",
    "for i in theta1_range:\n",
    "    for j in theta2_range:\n",
    "        J = (1/2/m)*np.sum((y-(np.square(x1)*i)-x2*j)**2)\n",
    "        if J<Jmin:\n",
    "            Jmin = J\n",
    "            theta1 = i\n",
    "            theta2 = j\n",
    "\n",
    "print(\"theta1 = %.3f \\ntheta2 = %.3f \\nCost(J) = %.2e\" %(theta1,theta2,Jmin))\n",
    "        "
   ]
  },
  {
   "cell_type": "markdown",
   "metadata": {},
   "source": [
    "# Section 7 : Linear Regression with Sklearn\n",
    "\n",
    "Four Main Assumptions:\n",
    "1. Linear relationship between features and target,\n",
    "2. Homoscedasticity: The variance of residual is the same for any value of X,\n",
    "3. Independence: Observations are independent of each other,\n",
    "3. No multi-collinearity among features i.e features are indepent\n",
    "\n",
    "**General Note : Attributes and parameters should be chosen according to the question asked** "
   ]
  },
  {
   "cell_type": "code",
   "execution_count": 68,
   "metadata": {},
   "outputs": [],
   "source": [
    "# For performing regression operations\n",
    "from sklearn.linear_model import LinearRegression # Fitting the linear regression\n",
    "from sklearn.preprocessing import PolynomialFeatures # To convert the features into polynomial features\n",
    "from sklearn.metrics import mean_squared_error # This is our cost function a.k.a loss function"
   ]
  },
  {
   "cell_type": "markdown",
   "metadata": {},
   "source": [
    "### 7.1. Importing Dataset and Visualisation\n",
    "\n",
    "1) Import the data X and y from the **\"dataset2.npz\"** \n",
    "\n",
    "2) Print the the top 10 rows of X and y. and Scattter plot of X and y"
   ]
  },
  {
   "cell_type": "code",
   "execution_count": 7,
   "metadata": {},
   "outputs": [
    {
     "data": {
      "text/html": [
       "<div>\n",
       "<style scoped>\n",
       "    .dataframe tbody tr th:only-of-type {\n",
       "        vertical-align: middle;\n",
       "    }\n",
       "\n",
       "    .dataframe tbody tr th {\n",
       "        vertical-align: top;\n",
       "    }\n",
       "\n",
       "    .dataframe thead th {\n",
       "        text-align: right;\n",
       "    }\n",
       "</style>\n",
       "<table border=\"1\" class=\"dataframe\">\n",
       "  <thead>\n",
       "    <tr style=\"text-align: right;\">\n",
       "      <th></th>\n",
       "      <th>x</th>\n",
       "      <th>y</th>\n",
       "    </tr>\n",
       "  </thead>\n",
       "  <tbody>\n",
       "    <tr>\n",
       "      <th>0</th>\n",
       "      <td>10.0</td>\n",
       "      <td>137.301045</td>\n",
       "    </tr>\n",
       "    <tr>\n",
       "      <th>1</th>\n",
       "      <td>-4.0</td>\n",
       "      <td>30.271964</td>\n",
       "    </tr>\n",
       "    <tr>\n",
       "      <th>2</th>\n",
       "      <td>4.0</td>\n",
       "      <td>41.390876</td>\n",
       "    </tr>\n",
       "    <tr>\n",
       "      <th>3</th>\n",
       "      <td>8.0</td>\n",
       "      <td>100.522686</td>\n",
       "    </tr>\n",
       "    <tr>\n",
       "      <th>4</th>\n",
       "      <td>-8.0</td>\n",
       "      <td>73.172712</td>\n",
       "    </tr>\n",
       "    <tr>\n",
       "      <th>5</th>\n",
       "      <td>6.0</td>\n",
       "      <td>70.655139</td>\n",
       "    </tr>\n",
       "    <tr>\n",
       "      <th>6</th>\n",
       "      <td>0.0</td>\n",
       "      <td>12.588404</td>\n",
       "    </tr>\n",
       "    <tr>\n",
       "      <th>7</th>\n",
       "      <td>-6.0</td>\n",
       "      <td>40.188202</td>\n",
       "    </tr>\n",
       "    <tr>\n",
       "      <th>8</th>\n",
       "      <td>-2.0</td>\n",
       "      <td>7.038657</td>\n",
       "    </tr>\n",
       "    <tr>\n",
       "      <th>9</th>\n",
       "      <td>2.0</td>\n",
       "      <td>31.625718</td>\n",
       "    </tr>\n",
       "  </tbody>\n",
       "</table>\n",
       "</div>"
      ],
      "text/plain": [
       "      x           y\n",
       "0  10.0  137.301045\n",
       "1  -4.0   30.271964\n",
       "2   4.0   41.390876\n",
       "3   8.0  100.522686\n",
       "4  -8.0   73.172712\n",
       "5   6.0   70.655139\n",
       "6   0.0   12.588404\n",
       "7  -6.0   40.188202\n",
       "8  -2.0    7.038657\n",
       "9   2.0   31.625718"
      ]
     },
     "execution_count": 7,
     "metadata": {},
     "output_type": "execute_result"
    }
   ],
   "source": [
    "#dataset2 = np.load('.\\dataset2.npz')\n",
    "\n",
    "#x = dataset2['x']\n",
    "#y = dataset2['y']\n",
    "\n",
    "npz = np.load('.\\dataset2.npz')\n",
    "dataset2= pd.DataFrame.from_dict({item: npz[item] for item in npz.files})\n",
    "x = dataset2['x'].to_numpy().reshape(-1, 1)\n",
    "y = dataset2['y'].to_numpy().reshape(-1, 1)\n",
    "\n",
    "dataset2"
   ]
  },
  {
   "cell_type": "code",
   "execution_count": 6,
   "metadata": {},
   "outputs": [
    {
     "data": {
      "image/png": "[encoded data removed]",
      "text/plain": [
       "<Figure size 432x288 with 1 Axes>"
      ]
     },
     "metadata": {
      "needs_background": "light"
     },
     "output_type": "display_data"
    }
   ],
   "source": [
    "#Scatter plot of y vs x\n",
    "plt.scatter(x,y)\n",
    "plt.show();"
   ]
  },
  {
   "cell_type": "markdown",
   "metadata": {},
   "source": [
    "Fit a polynomial model (for the suggested degree) to the data. Comment on the fit (as a function of the model) in terms of the mean square error.\n",
    "\n",
    "(Hint: Use in-built libraries from Scikit-learn for the exercise.)"
   ]
  },
  {
   "cell_type": "markdown",
   "metadata": {},
   "source": [
    "### 7.2. Degree 1 (Linear)\n",
    "\n",
    "3) Using linear regression, find a relation between $Y$ and $X$. Plot the regrssion function(vs $X$) and report the mean square error."
   ]
  },
  {
   "cell_type": "code",
   "execution_count": 8,
   "metadata": {},
   "outputs": [
    {
     "data": {
      "image/png": "[encoded data removed]",
      "text/plain": [
       "<Figure size 432x288 with 1 Axes>"
      ]
     },
     "metadata": {
      "needs_background": "light"
     },
     "output_type": "display_data"
    }
   ],
   "source": [
    "Deg1Model = LinearRegression().fit(x,y)\n",
    "y_pred1 = Deg1Model.predict(x)\n",
    "MSE1 = mean_squared_error(y,y_pred1)\n",
    "\n",
    "plt.plot(x,y_pred1)\n",
    "plt.scatter(x,y)\n",
    "plt.title('MSE = %.2f' %MSE1)\n",
    "plt.show();"
   ]
  },
  {
   "cell_type": "markdown",
   "metadata": {},
   "source": [
    "### 7.3. Degree 2 (Quadratic)\n",
    "\n",
    "3) Using polynomial regression of degree 2, Find a relation between $Y$ and $X$. Plot the regression function (vs $X$) and report the mean square error."
   ]
  },
  {
   "cell_type": "code",
   "execution_count": 9,
   "metadata": {},
   "outputs": [
    {
     "data": {
      "image/png": "[encoded data removed]",
      "text/plain": [
       "<Figure size 432x288 with 1 Axes>"
      ]
     },
     "metadata": {
      "needs_background": "light"
     },
     "output_type": "display_data"
    }
   ],
   "source": [
    "poly = PolynomialFeatures(2)\n",
    "x2 = poly.fit_transform(x)\n",
    "\n",
    "Deg2Model = LinearRegression().fit(x2,y)\n",
    "y_pred2 = Deg2Model.predict(x2)\n",
    "MSE2 = mean_squared_error(y,y_pred2)\n",
    "\n",
    "\n",
    "xs, y_pred2 = zip(*sorted(zip(x, y_pred2)))\n",
    "plt.plot(xs,y_pred2)\n",
    "plt.scatter(x,y)\n",
    "plt.xlabel('x')\n",
    "plt.ylabel('y')\n",
    "plt.title('MSE = %.2f' %MSE2)\n",
    "plt.show();\n",
    "\n"
   ]
  },
  {
   "cell_type": "markdown",
   "metadata": {},
   "source": [
    "### 7.4. Degree 3 (Cubic)\n",
    "\n",
    "4) Using polynomial regression of degree 3, find a relation between $Y$ and $X$. Plot the regression function (vs $X$) and report the mean square error"
   ]
  },
  {
   "cell_type": "code",
   "execution_count": 11,
   "metadata": {},
   "outputs": [
    {
     "data": {
      "image/png": "[encoded data removed]",
      "text/plain": [
       "<Figure size 432x288 with 1 Axes>"
      ]
     },
     "metadata": {
      "needs_background": "light"
     },
     "output_type": "display_data"
    }
   ],
   "source": [
    "poly = PolynomialFeatures(3)\n",
    "x3 = poly.fit_transform(x)\n",
    "\n",
    "Deg3Model = LinearRegression().fit(x3,y)\n",
    "y_pred3 = Deg3Model.predict(x3)\n",
    "MSE3 = mean_squared_error(y,y_pred3)\n",
    "\n",
    "\n",
    "xs, ys = zip(*sorted(zip(x, y_pred3)))\n",
    "plt.plot(xs,ys)\n",
    "plt.scatter(x,y)\n",
    "plt.xlabel('x')\n",
    "plt.ylabel('y')\n",
    "plt.title('MSE = %.2f, Degree 3 polynomial fit' %MSE3)\n",
    "plt.show();"
   ]
  },
  {
   "cell_type": "markdown",
   "metadata": {},
   "source": [
    "### 7.5. Degree 9\n",
    "\n",
    "5) Using polynomial regression of degree 9, find a relation between $Y$ and $X$. Plot the regression function (vs $X$) and report the mean square error."
   ]
  },
  {
   "cell_type": "code",
   "execution_count": 12,
   "metadata": {},
   "outputs": [
    {
     "data": {
      "image/png": "[encoded data removed]",
      "text/plain": [
       "<Figure size 432x288 with 1 Axes>"
      ]
     },
     "metadata": {
      "needs_background": "light"
     },
     "output_type": "display_data"
    }
   ],
   "source": [
    "poly = PolynomialFeatures(9)\n",
    "x9 = poly.fit_transform(x)\n",
    "\n",
    "Deg9Model = LinearRegression().fit(x9,y)\n",
    "y_pred9 = Deg9Model.predict(x9)\n",
    "MSE9 = mean_squared_error(y,y_pred9)\n",
    "\n",
    "\n",
    "xs, ys = zip(*sorted(zip(x, y_pred9)))\n",
    "plt.plot(xs,ys)\n",
    "plt.scatter(x,y)\n",
    "plt.xlabel('x')\n",
    "plt.ylabel('y')\n",
    "plt.title('MSE = %.2f, Degree 9 polynomial fit' %MSE9)\n",
    "plt.show();"
   ]
  },
  {
   "cell_type": "markdown",
   "metadata": {},
   "source": [
    "### 7.6. Training Error\n",
    "\n",
    "6) Plot the mean square error versus the degree of the polynomial fit (for degree = 0,1, ..., 9). Comment on the best model for the data based on MSE of training error\n",
    "\n",
    "**Note** : Degree 0 means just the intercept"
   ]
  },
  {
   "cell_type": "code",
   "execution_count": 13,
   "metadata": {},
   "outputs": [
    {
     "data": {
      "image/png": "[encoded data removed]",
      "text/plain": [
       "<Figure size 432x288 with 1 Axes>"
      ]
     },
     "metadata": {
      "needs_background": "light"
     },
     "output_type": "display_data"
    }
   ],
   "source": [
    "plt.plot([1,2,3,9],[MSE1,MSE2,MSE3,MSE9],color='b', marker='o', linestyle='dashed')\n",
    "plt.grid()\n",
    "plt.xlabel('Degree of the polynomial fit')\n",
    "plt.ylabel('Mean Squared Error')\n",
    "plt.title('Training Error vs Degree of Polynomial')\n",
    "plt.show();"
   ]
  },
  {
   "cell_type": "markdown",
   "metadata": {},
   "source": [
    "### 7.7. Test error\n",
    "\n",
    "Load **'dataset2_test.npz'**. The data points in the file are from the same distribution as the ones in 'dataset2.npz'.\n",
    "\n",
    "7) Plot the mean square error by predicting outputs on the test dataset using the trained models of degrees 0,1,...9 obtained with the training data set **dataset2.npz**. Now, comment on the best model for data based on MSE on both training and test datasets.\n",
    "\n",
    "(Hint: Plot Training error and Testing error in the same plot.) Use Matplotlib for plotting"
   ]
  },
  {
   "cell_type": "code",
   "execution_count": 14,
   "metadata": {},
   "outputs": [
    {
     "data": {
      "image/png": "[encoded data removed]",
      "text/plain": [
       "<Figure size 432x288 with 1 Axes>"
      ]
     },
     "metadata": {
      "needs_background": "light"
     },
     "output_type": "display_data"
    }
   ],
   "source": [
    "npz = np.load('.\\dataset2_test.npz')\n",
    "dataset2_test= pd.DataFrame.from_dict({item: npz[item] for item in npz.files})\n",
    "x_test = dataset2_test['x'].to_numpy().reshape(-1, 1)\n",
    "y_test = dataset2_test['y'].to_numpy().reshape(-1, 1)\n",
    "\n",
    "y_pred_test1 = Deg1Model.predict(x_test)\n",
    "y_pred_test2 = Deg2Model.predict(PolynomialFeatures(2).fit_transform(x_test))\n",
    "y_pred_test3 = Deg3Model.predict(PolynomialFeatures(3).fit_transform(x_test))\n",
    "y_pred_test9 = Deg9Model.predict(PolynomialFeatures(9).fit_transform(x_test))\n",
    "\n",
    "MSE_test1 = mean_squared_error(y_test,y_pred_test1)\n",
    "MSE_test2 = mean_squared_error(y_test,y_pred_test2)\n",
    "MSE_test3 = mean_squared_error(y_test,y_pred_test3)\n",
    "MSE_test9 = mean_squared_error(y_test,y_pred_test9)\n",
    "\n",
    "\n",
    "plt.plot([1,2,3,9],np.log([MSE1,MSE2,MSE3,MSE9]),color='#2d4059', marker='o', linestyle='-', label = 'Training MSE')\n",
    "plt.plot([1,2,3,9],np.log([MSE_test1,MSE_test2,MSE_test3,MSE_test9]),color='#ea5455', marker='o', linestyle='-', label = 'Test MSE')\n",
    "ax = plt.gca()\n",
    "ax.set_facecolor('#f3f3f3')\n",
    "ax.grid(color='#decdc3')\n",
    "plt.xlabel('Degree of the polynomial fit')\n",
    "plt.ylabel('Log Mean Squared Error')\n",
    "plt.legend()\n",
    "plt.show();"
   ]
  },
  {
   "cell_type": "markdown",
   "metadata": {},
   "source": [
    "### 7.8. Best Degree of polynomial\n",
    "\n",
    "8)Hint : Based on Test error."
   ]
  },
  {
   "cell_type": "code",
   "execution_count": 15,
   "metadata": {},
   "outputs": [
    {
     "name": "stdout",
     "output_type": "stream",
     "text": [
      "Best Degree of Polynomial is 2\n"
     ]
    }
   ],
   "source": [
    "print('Best Degree of Polynomial is 2')"
   ]
  },
  {
   "cell_type": "markdown",
   "metadata": {},
   "source": [
    "# Section 8 : Multiple Linear Regression on Boston Housing Price Data\n",
    "Import data from **\"dataset3.csv\"**. This is one among the sklearn standard datasets which can be used to develop a model for house price prediction \"load_boston\". Description of the features can be found in the sklearn documentation if you want to explore."
   ]
  },
  {
   "cell_type": "markdown",
   "metadata": {},
   "source": [
    "## 8.1. Describe the data\n",
    "Hint :  Categorical features = ['RAD', 'CHAS', 'ZN'], Non-categorical features = Except categorical all the other features\n",
    "1. Find Mean, Median for Non-categorical features and Price, Mode only for Categorical feaures\n",
    "2. Find Quantiles at 25th, 50th, 75th for Non-categorical features and Price\n",
    "3. Find Maximum and Minimum, Range of the data (max -min) for Non-categorical features and Price\n",
    "4. Find Distributions (Histogram) for Non-categorical features and Price (Using Seaborn is suggested)\n",
    "\n",
    "**Note** - Dont use pandas.describe here. You may use inbuilt functions from numpy package. You can store the above descriptive statistics in a dataframe and print that dataframe."
   ]
  },
  {
   "cell_type": "code",
   "execution_count": 54,
   "metadata": {},
   "outputs": [
    {
     "data": {
      "text/html": [
       "<div>\n",
       "<style scoped>\n",
       "    .dataframe tbody tr th:only-of-type {\n",
       "        vertical-align: middle;\n",
       "    }\n",
       "\n",
       "    .dataframe tbody tr th {\n",
       "        vertical-align: top;\n",
       "    }\n",
       "\n",
       "    .dataframe thead th {\n",
       "        text-align: right;\n",
       "    }\n",
       "</style>\n",
       "<table border=\"1\" class=\"dataframe\">\n",
       "  <thead>\n",
       "    <tr style=\"text-align: right;\">\n",
       "      <th></th>\n",
       "      <th>CRIM</th>\n",
       "      <th>ZN</th>\n",
       "      <th>INDUS</th>\n",
       "      <th>CHAS</th>\n",
       "      <th>NOX</th>\n",
       "      <th>RM</th>\n",
       "      <th>AGE</th>\n",
       "      <th>DIS</th>\n",
       "      <th>RAD</th>\n",
       "      <th>TAX</th>\n",
       "      <th>PTRATIO</th>\n",
       "      <th>B</th>\n",
       "      <th>LSTAT</th>\n",
       "      <th>Price</th>\n",
       "    </tr>\n",
       "  </thead>\n",
       "  <tbody>\n",
       "    <tr>\n",
       "      <th>0</th>\n",
       "      <td>0.00632</td>\n",
       "      <td>18.0</td>\n",
       "      <td>2.31</td>\n",
       "      <td>0.0</td>\n",
       "      <td>0.538</td>\n",
       "      <td>6.575</td>\n",
       "      <td>65.2</td>\n",
       "      <td>4.0900</td>\n",
       "      <td>1.0</td>\n",
       "      <td>296.0</td>\n",
       "      <td>15.3</td>\n",
       "      <td>396.90</td>\n",
       "      <td>4.98</td>\n",
       "      <td>24.0</td>\n",
       "    </tr>\n",
       "    <tr>\n",
       "      <th>1</th>\n",
       "      <td>0.02731</td>\n",
       "      <td>0.0</td>\n",
       "      <td>7.07</td>\n",
       "      <td>0.0</td>\n",
       "      <td>0.469</td>\n",
       "      <td>6.421</td>\n",
       "      <td>78.9</td>\n",
       "      <td>4.9671</td>\n",
       "      <td>2.0</td>\n",
       "      <td>242.0</td>\n",
       "      <td>17.8</td>\n",
       "      <td>396.90</td>\n",
       "      <td>9.14</td>\n",
       "      <td>21.6</td>\n",
       "    </tr>\n",
       "    <tr>\n",
       "      <th>2</th>\n",
       "      <td>0.02729</td>\n",
       "      <td>0.0</td>\n",
       "      <td>7.07</td>\n",
       "      <td>0.0</td>\n",
       "      <td>0.469</td>\n",
       "      <td>7.185</td>\n",
       "      <td>61.1</td>\n",
       "      <td>4.9671</td>\n",
       "      <td>2.0</td>\n",
       "      <td>242.0</td>\n",
       "      <td>17.8</td>\n",
       "      <td>392.83</td>\n",
       "      <td>4.03</td>\n",
       "      <td>34.7</td>\n",
       "    </tr>\n",
       "    <tr>\n",
       "      <th>3</th>\n",
       "      <td>0.03237</td>\n",
       "      <td>0.0</td>\n",
       "      <td>2.18</td>\n",
       "      <td>0.0</td>\n",
       "      <td>0.458</td>\n",
       "      <td>6.998</td>\n",
       "      <td>45.8</td>\n",
       "      <td>6.0622</td>\n",
       "      <td>3.0</td>\n",
       "      <td>222.0</td>\n",
       "      <td>18.7</td>\n",
       "      <td>394.63</td>\n",
       "      <td>2.94</td>\n",
       "      <td>33.4</td>\n",
       "    </tr>\n",
       "    <tr>\n",
       "      <th>4</th>\n",
       "      <td>0.06905</td>\n",
       "      <td>0.0</td>\n",
       "      <td>2.18</td>\n",
       "      <td>0.0</td>\n",
       "      <td>0.458</td>\n",
       "      <td>7.147</td>\n",
       "      <td>54.2</td>\n",
       "      <td>6.0622</td>\n",
       "      <td>3.0</td>\n",
       "      <td>222.0</td>\n",
       "      <td>18.7</td>\n",
       "      <td>396.90</td>\n",
       "      <td>5.33</td>\n",
       "      <td>36.2</td>\n",
       "    </tr>\n",
       "  </tbody>\n",
       "</table>\n",
       "</div>"
      ],
      "text/plain": [
       "      CRIM    ZN  INDUS  CHAS    NOX     RM   AGE     DIS  RAD    TAX  \\\n",
       "0  0.00632  18.0   2.31   0.0  0.538  6.575  65.2  4.0900  1.0  296.0   \n",
       "1  0.02731   0.0   7.07   0.0  0.469  6.421  78.9  4.9671  2.0  242.0   \n",
       "2  0.02729   0.0   7.07   0.0  0.469  7.185  61.1  4.9671  2.0  242.0   \n",
       "3  0.03237   0.0   2.18   0.0  0.458  6.998  45.8  6.0622  3.0  222.0   \n",
       "4  0.06905   0.0   2.18   0.0  0.458  7.147  54.2  6.0622  3.0  222.0   \n",
       "\n",
       "   PTRATIO       B  LSTAT  Price  \n",
       "0     15.3  396.90   4.98   24.0  \n",
       "1     17.8  396.90   9.14   21.6  \n",
       "2     17.8  392.83   4.03   34.7  \n",
       "3     18.7  394.63   2.94   33.4  \n",
       "4     18.7  396.90   5.33   36.2  "
      ]
     },
     "execution_count": 54,
     "metadata": {},
     "output_type": "execute_result"
    }
   ],
   "source": [
    "dataset3 = pd.read_csv('./dataset3.csv')\n",
    "dataset3.head()"
   ]
  },
  {
   "cell_type": "code",
   "execution_count": 105,
   "metadata": {},
   "outputs": [
    {
     "data": {
      "text/plain": [
       "array([0., 0., 0., 0., 0., 0., 0., 0., 0., 0., 0., 0., 0., 0., 0., 0., 0.,\n",
       "       0., 0., 0., 0., 0., 0., 0., 0., 0., 0., 0., 0., 0., 0., 0., 0., 0.,\n",
       "       0., 0., 0., 0., 0., 0., 0., 0., 0., 0., 0., 0., 0., 0., 0., 0., 0.,\n",
       "       0., 0., 0., 0., 0., 0., 0., 0., 0., 0., 0., 0., 0., 0., 0., 0., 0.,\n",
       "       0., 0., 0., 0., 0., 0., 0., 0., 0., 0., 0., 0., 0., 0., 0., 0., 0.,\n",
       "       0., 0., 0., 0., 0., 0., 0., 0., 0., 0., 0., 0., 0., 0., 0., 0., 0.,\n",
       "       0., 0., 0., 0., 0., 0., 0., 0., 0., 0., 0., 0., 0., 0., 0., 0., 0.,\n",
       "       0., 0., 0., 0., 0., 0., 0., 0., 0., 0., 0., 0., 0., 0., 0., 0., 0.,\n",
       "       0., 0., 0., 0., 0., 0., 1., 0., 0., 0., 0., 0., 0., 0., 0., 0., 1.,\n",
       "       0., 1., 1., 0., 0., 0., 0., 1., 0., 1., 1., 0., 0., 0., 0., 0., 0.,\n",
       "       0., 0., 0., 0., 0., 0., 0., 0., 0., 0., 0., 0., 0., 0., 0., 0., 0.,\n",
       "       0., 0., 0., 0., 0., 0., 0., 0., 0., 0., 0., 0., 0., 0., 0., 0., 0.,\n",
       "       0., 0., 0., 0., 1., 1., 1., 1., 1., 0., 0., 0., 1., 0., 1., 1., 1.,\n",
       "       1., 1., 0., 0., 0., 0., 0., 0., 0., 0., 0., 0., 0., 1., 0., 1., 0.,\n",
       "       0., 0., 0., 0., 0., 0., 0., 0., 0., 0., 0., 0., 0., 0., 0., 0., 0.,\n",
       "       0., 0., 0., 0., 0., 0., 0., 0., 0., 0., 0., 0., 0., 0., 1., 0., 0.,\n",
       "       0., 1., 1., 0., 1., 1., 0., 0., 0., 0., 1., 1., 0., 0., 0., 0., 0.,\n",
       "       0., 0., 0., 0., 0., 0., 0., 0., 0., 0., 0., 0., 0., 0., 0., 0., 0.,\n",
       "       0., 0., 0., 0., 0., 0., 0., 0., 0., 0., 0., 0., 0., 0., 0., 0., 0.,\n",
       "       0., 0., 0., 0., 0., 0., 0., 0., 0., 0., 0., 0., 0., 0., 0., 0., 0.,\n",
       "       0., 0., 0., 0., 0., 0., 0., 0., 0., 0., 0., 0., 0., 0., 0., 0., 1.,\n",
       "       1., 1., 0., 0., 0., 0., 1., 1., 0., 0., 0., 0., 1., 1., 0., 1., 0.,\n",
       "       0., 0., 0., 0., 0., 0., 0., 0., 0., 0., 0., 0., 0., 0., 0., 0., 0.,\n",
       "       0., 0., 0., 0., 0., 0., 0., 0., 0., 0., 0., 0., 0., 0., 0., 0., 0.,\n",
       "       0., 0., 0., 0., 0., 0., 0., 0., 0., 0., 0., 0., 0., 0., 0., 0., 0.,\n",
       "       0., 0., 0., 0., 0., 0., 0., 0., 0., 0., 0., 0., 0., 0., 0., 0., 0.,\n",
       "       0., 0., 0., 0., 0., 0., 0., 0., 0., 0., 0., 0., 0., 0., 0., 0., 0.,\n",
       "       0., 0., 0., 0., 0., 0., 0., 0., 0., 0., 0., 0., 0., 0., 0., 0., 0.,\n",
       "       0., 0., 0., 0., 0., 0., 0., 0., 0., 0., 0., 0., 0., 0., 0., 0., 0.,\n",
       "       0., 0., 0., 0., 0., 0., 0., 0., 0., 0., 0., 0., 0.])"
      ]
     },
     "execution_count": 105,
     "metadata": {},
     "output_type": "execute_result"
    }
   ],
   "source": []
  },
  {
   "cell_type": "code",
   "execution_count": 103,
   "metadata": {},
   "outputs": [
    {
     "data": {
      "text/html": [
       "<div>\n",
       "<style scoped>\n",
       "    .dataframe tbody tr th:only-of-type {\n",
       "        vertical-align: middle;\n",
       "    }\n",
       "\n",
       "    .dataframe tbody tr th {\n",
       "        vertical-align: top;\n",
       "    }\n",
       "\n",
       "    .dataframe thead th {\n",
       "        text-align: right;\n",
       "    }\n",
       "</style>\n",
       "<table border=\"1\" class=\"dataframe\">\n",
       "  <thead>\n",
       "    <tr style=\"text-align: right;\">\n",
       "      <th></th>\n",
       "      <th>CRIM</th>\n",
       "      <th>ZN</th>\n",
       "      <th>INDUS</th>\n",
       "      <th>CHAS</th>\n",
       "      <th>NOX</th>\n",
       "      <th>RM</th>\n",
       "      <th>AGE</th>\n",
       "      <th>DIS</th>\n",
       "      <th>RAD</th>\n",
       "      <th>TAX</th>\n",
       "      <th>PTRATIO</th>\n",
       "      <th>B</th>\n",
       "      <th>LSTAT</th>\n",
       "      <th>Price</th>\n",
       "    </tr>\n",
       "  </thead>\n",
       "  <tbody>\n",
       "    <tr>\n",
       "      <th>mean</th>\n",
       "      <td>3.613524</td>\n",
       "      <td>11.363636</td>\n",
       "      <td>11.136779</td>\n",
       "      <td>0.06917</td>\n",
       "      <td>0.554695</td>\n",
       "      <td>6.284634</td>\n",
       "      <td>68.574901</td>\n",
       "      <td>3.795043</td>\n",
       "      <td>9.549407</td>\n",
       "      <td>408.237154</td>\n",
       "      <td>18.455534</td>\n",
       "      <td>356.674032</td>\n",
       "      <td>12.653063</td>\n",
       "      <td>22.532806</td>\n",
       "    </tr>\n",
       "    <tr>\n",
       "      <th>median</th>\n",
       "      <td>0.256510</td>\n",
       "      <td>0.000000</td>\n",
       "      <td>9.690000</td>\n",
       "      <td>0.00000</td>\n",
       "      <td>0.538000</td>\n",
       "      <td>6.208500</td>\n",
       "      <td>77.500000</td>\n",
       "      <td>3.207450</td>\n",
       "      <td>5.000000</td>\n",
       "      <td>330.000000</td>\n",
       "      <td>19.050000</td>\n",
       "      <td>391.440000</td>\n",
       "      <td>11.360000</td>\n",
       "      <td>21.200000</td>\n",
       "    </tr>\n",
       "    <tr>\n",
       "      <th>max</th>\n",
       "      <td>88.976200</td>\n",
       "      <td>100.000000</td>\n",
       "      <td>27.740000</td>\n",
       "      <td>1.00000</td>\n",
       "      <td>0.871000</td>\n",
       "      <td>8.780000</td>\n",
       "      <td>100.000000</td>\n",
       "      <td>12.126500</td>\n",
       "      <td>24.000000</td>\n",
       "      <td>711.000000</td>\n",
       "      <td>22.000000</td>\n",
       "      <td>396.900000</td>\n",
       "      <td>37.970000</td>\n",
       "      <td>50.000000</td>\n",
       "    </tr>\n",
       "    <tr>\n",
       "      <th>min</th>\n",
       "      <td>0.006320</td>\n",
       "      <td>0.000000</td>\n",
       "      <td>0.460000</td>\n",
       "      <td>0.00000</td>\n",
       "      <td>0.385000</td>\n",
       "      <td>3.561000</td>\n",
       "      <td>2.900000</td>\n",
       "      <td>1.129600</td>\n",
       "      <td>1.000000</td>\n",
       "      <td>187.000000</td>\n",
       "      <td>12.600000</td>\n",
       "      <td>0.320000</td>\n",
       "      <td>1.730000</td>\n",
       "      <td>5.000000</td>\n",
       "    </tr>\n",
       "    <tr>\n",
       "      <th>range</th>\n",
       "      <td>88.969880</td>\n",
       "      <td>100.000000</td>\n",
       "      <td>27.280000</td>\n",
       "      <td>1.00000</td>\n",
       "      <td>0.486000</td>\n",
       "      <td>5.219000</td>\n",
       "      <td>97.100000</td>\n",
       "      <td>10.996900</td>\n",
       "      <td>23.000000</td>\n",
       "      <td>524.000000</td>\n",
       "      <td>9.400000</td>\n",
       "      <td>396.580000</td>\n",
       "      <td>36.240000</td>\n",
       "      <td>45.000000</td>\n",
       "    </tr>\n",
       "    <tr>\n",
       "      <th>0.25 quantile</th>\n",
       "      <td>0.082045</td>\n",
       "      <td>0.000000</td>\n",
       "      <td>5.190000</td>\n",
       "      <td>0.00000</td>\n",
       "      <td>0.449000</td>\n",
       "      <td>5.885500</td>\n",
       "      <td>45.025000</td>\n",
       "      <td>2.100175</td>\n",
       "      <td>4.000000</td>\n",
       "      <td>279.000000</td>\n",
       "      <td>17.400000</td>\n",
       "      <td>375.377500</td>\n",
       "      <td>6.950000</td>\n",
       "      <td>17.025000</td>\n",
       "    </tr>\n",
       "    <tr>\n",
       "      <th>0.75 quantile</th>\n",
       "      <td>3.677083</td>\n",
       "      <td>12.500000</td>\n",
       "      <td>18.100000</td>\n",
       "      <td>0.00000</td>\n",
       "      <td>0.624000</td>\n",
       "      <td>6.623500</td>\n",
       "      <td>94.075000</td>\n",
       "      <td>5.188425</td>\n",
       "      <td>24.000000</td>\n",
       "      <td>666.000000</td>\n",
       "      <td>20.200000</td>\n",
       "      <td>396.225000</td>\n",
       "      <td>16.955000</td>\n",
       "      <td>25.000000</td>\n",
       "    </tr>\n",
       "  </tbody>\n",
       "</table>\n",
       "</div>"
      ],
      "text/plain": [
       "                    CRIM          ZN      INDUS     CHAS       NOX        RM  \\\n",
       "mean            3.613524   11.363636  11.136779  0.06917  0.554695  6.284634   \n",
       "median          0.256510    0.000000   9.690000  0.00000  0.538000  6.208500   \n",
       "max            88.976200  100.000000  27.740000  1.00000  0.871000  8.780000   \n",
       "min             0.006320    0.000000   0.460000  0.00000  0.385000  3.561000   \n",
       "range          88.969880  100.000000  27.280000  1.00000  0.486000  5.219000   \n",
       "0.25 quantile   0.082045    0.000000   5.190000  0.00000  0.449000  5.885500   \n",
       "0.75 quantile   3.677083   12.500000  18.100000  0.00000  0.624000  6.623500   \n",
       "\n",
       "                      AGE        DIS        RAD         TAX    PTRATIO  \\\n",
       "mean            68.574901   3.795043   9.549407  408.237154  18.455534   \n",
       "median          77.500000   3.207450   5.000000  330.000000  19.050000   \n",
       "max            100.000000  12.126500  24.000000  711.000000  22.000000   \n",
       "min              2.900000   1.129600   1.000000  187.000000  12.600000   \n",
       "range           97.100000  10.996900  23.000000  524.000000   9.400000   \n",
       "0.25 quantile   45.025000   2.100175   4.000000  279.000000  17.400000   \n",
       "0.75 quantile   94.075000   5.188425  24.000000  666.000000  20.200000   \n",
       "\n",
       "                        B      LSTAT      Price  \n",
       "mean           356.674032  12.653063  22.532806  \n",
       "median         391.440000  11.360000  21.200000  \n",
       "max            396.900000  37.970000  50.000000  \n",
       "min              0.320000   1.730000   5.000000  \n",
       "range          396.580000  36.240000  45.000000  \n",
       "0.25 quantile  375.377500   6.950000  17.025000  \n",
       "0.75 quantile  396.225000  16.955000  25.000000  "
      ]
     },
     "execution_count": 103,
     "metadata": {},
     "output_type": "execute_result"
    }
   ],
   "source": [
    "from scipy import stats\n",
    "\n",
    "avgs = np.mean(dataset3)\n",
    "medians = np.median(dataset3,axis=0)\n",
    "df = pd.DataFrame(avgs).transpose()\n",
    "\n",
    "df.loc[1] = medians\n",
    "df.loc[2] = np.max(dataset3,axis=0)\n",
    "df.loc[3] = np.min(dataset3,axis=0)\n",
    "df.loc[4] = np.max(dataset3,axis=0)-np.min(dataset3,axis=0)\n",
    "df.loc[5] = np.quantile(dataset3,0.25,axis=0)\n",
    "df.loc[6] = np.quantile(dataset3,0.75,axis=0)\n",
    "\n",
    "df.index = ['mean','median','max','min','range','0.25 quantile', '0.75 quantile']\n",
    "df"
   ]
  },
  {
   "cell_type": "code",
   "execution_count": 111,
   "metadata": {},
   "outputs": [
    {
     "data": {
      "image/png": "[encoded data removed]",
      "text/plain": [
       "<Figure size 1080x360 with 3 Axes>"
      ]
     },
     "metadata": {
      "needs_background": "light"
     },
     "output_type": "display_data"
    }
   ],
   "source": [
    "import seaborn as sns\n",
    "fig,axes=plt.subplots(1,3,figsize=(15,5))\n",
    "sns.distplot(dataset3['RAD'],kde=False,ax=axes[0],label='RAD')\n",
    "sns.distplot(dataset3['CHAS'],kde=False,ax=axes[1],label='CHAS')\n",
    "sns.distplot(dataset3['ZN'],kde=False,ax=axes[2],label='ZN')\n",
    "ax.legend()\n",
    "plt.show()"
   ]
  },
  {
   "cell_type": "markdown",
   "metadata": {},
   "source": [
    "## 8.2. Correlation Heatmap for all the features and target\n",
    "**Hint** : Use Seaborn library to plot, note keep annotate = True"
   ]
  },
  {
   "cell_type": "code",
   "execution_count": 62,
   "metadata": {},
   "outputs": [
    {
     "data": {
      "text/plain": [
       "<matplotlib.axes._subplots.AxesSubplot at 0x1ec7e639f40>"
      ]
     },
     "execution_count": 62,
     "metadata": {},
     "output_type": "execute_result"
    },
    {
     "data": {
      "image/png": "[encoded data removed]",
      "text/plain": [
       "<Figure size 1080x720 with 2 Axes>"
      ]
     },
     "metadata": {
      "needs_background": "light"
     },
     "output_type": "display_data"
    }
   ],
   "source": [
    "import seaborn as sns\n",
    "fig = plt.figure(figsize=(15,10))\n",
    "sns.heatmap(abs(dataset3.corr()),cmap='GnBu')"
   ]
  },
  {
   "cell_type": "markdown",
   "metadata": {},
   "source": [
    "## 8.3. Highly Correlated features\n",
    "Find and print the highly correlated features with respect to \"Price\". "
   ]
  },
  {
   "cell_type": "code",
   "execution_count": 64,
   "metadata": {},
   "outputs": [
    {
     "name": "stdout",
     "output_type": "stream",
     "text": [
      "Highly correlated features with price are: LSTAT, RM, INDUS, and PTRATIO\n"
     ]
    }
   ],
   "source": [
    "print('Highly correlated features with price are: LSTAT, RM, INDUS, and PTRATIO')"
   ]
  },
  {
   "cell_type": "markdown",
   "metadata": {},
   "source": [
    "## 8.4. Split the Dataset\n",
    "**Hint** : Use sklearn train_test_split to split the data into train and test data, keep random state = 2020 and test_size = 0.33"
   ]
  },
  {
   "cell_type": "code",
   "execution_count": 66,
   "metadata": {},
   "outputs": [],
   "source": [
    "from sklearn.model_selection import train_test_split\n",
    "X_train, X_test, y_train, y_test = train_test_split(dataset3.iloc[:,:-1],dataset3.iloc[:,-1],\n",
    "                                                    test_size=0.33, random_state = 2020)"
   ]
  },
  {
   "cell_type": "markdown",
   "metadata": {},
   "source": [
    "## 8.5. Train the model on only train data using linear_regression\n",
    "Report Train MSE"
   ]
  },
  {
   "cell_type": "code",
   "execution_count": 69,
   "metadata": {},
   "outputs": [
    {
     "data": {
      "text/plain": [
       "22.16642322415018"
      ]
     },
     "execution_count": 69,
     "metadata": {},
     "output_type": "execute_result"
    }
   ],
   "source": [
    "HousePriceModel = LinearRegression().fit(X_train,y_train)\n",
    "y_train_pred = HousePriceModel.predict(X_train)\n",
    "Train_MSE = mean_squared_error(y_train,y_train_pred)\n",
    "Train_MSE"
   ]
  },
  {
   "cell_type": "markdown",
   "metadata": {},
   "source": [
    "## 8.6. Predict Outputs for Test Data\n",
    "Report test MSE"
   ]
  },
  {
   "cell_type": "code",
   "execution_count": 70,
   "metadata": {},
   "outputs": [
    {
     "data": {
      "text/plain": [
       "22.00486155535462"
      ]
     },
     "execution_count": 70,
     "metadata": {},
     "output_type": "execute_result"
    }
   ],
   "source": [
    "y_test_pred = HousePriceModel.predict(X_test)\n",
    "Test_MSE = mean_squared_error(y_test,y_test_pred)\n",
    "Test_MSE"
   ]
  },
  {
   "cell_type": "markdown",
   "metadata": {},
   "source": [
    "## 8.7. Important Features\n",
    "Find and print the featuers in order of their importance based on trained regression model."
   ]
  },
  {
   "cell_type": "code",
   "execution_count": 90,
   "metadata": {},
   "outputs": [
    {
     "data": {
      "image/png": "[encoded data removed]",
      "text/plain": [
       "<Figure size 720x360 with 1 Axes>"
      ]
     },
     "metadata": {
      "needs_background": "light"
     },
     "output_type": "display_data"
    }
   ],
   "source": [
    "\n",
    "coeff = list(HousePriceModel.coef_)\n",
    "scores = dict(zip(dataset3.columns,coeff))\n",
    "fig,ax = plt.subplots(figsize=(10,5))\n",
    "ax.bar(scores.keys(),coeff)\n",
    "plt.show()\n"
   ]
  },
  {
   "cell_type": "code",
   "execution_count": 92,
   "metadata": {},
   "outputs": [
    {
     "name": "stdout",
     "output_type": "stream",
     "text": [
      "Features ranked in importance are:\n",
      "\n",
      "Rank 1: NOX\n",
      "Rank 2: RM\n",
      "Rank 3: CHAS\n",
      "Rank 4: DIS\n",
      "Rank 5: PTRATIO\n",
      "Rank 6: LSTAT\n",
      "Rank 7: RAD\n",
      "Rank 8: CRIM\n",
      "Rank 9: ZN\n",
      "Rank 10: INDUS\n",
      "Rank 11: TAX\n",
      "Rank 12: AGE\n",
      "Rank 13: B\n"
     ]
    }
   ],
   "source": [
    "ranked_features = {k: v for k, v in sorted(scores.items(), key=lambda item: abs(item[1]))}\n",
    "print('Features ranked in importance are:\\n')\n",
    "\n",
    "for i in range(len(dataset3.columns)-1):\n",
    "    print('Rank %d: %s' %(i+1,list(ranked_features.keys())[12-i]))\n",
    "    \n"
   ]
  },
  {
   "cell_type": "markdown",
   "metadata": {},
   "source": [
    "# Q&A Section :\n",
    "1. Comment on assumptions validity discussed in Section 7 with this dataset? Whether we satisfied assumptions or not.\n",
    "2. Is there any relation between highly important features(from Section 8.7) and highly correlated features with price?Only give descriptive observation.\n",
    "3. Why usually test error is higher than training error?\n",
    "4. Will Analytical solution discussed in the Notebook 1 Section 2 be valid on this dataset? Why or Why not?"
   ]
  },
  {
   "cell_type": "markdown",
   "metadata": {},
   "source": [
    "### 1. Comment on assumptions validity discussed in Section 7 with this dataset? Whether we satisfied assumptions or not.\n",
    "The dataset may not be homoscedastic. Also, for a model with 2 degree polynomial, linear relationship does not  hold.\n",
    "\n",
    "### 2. Is there any relation between highly important features(from Section 8.7) and highly correlated features with price?Only give descriptive observation.\n",
    "Not neccesarily. Features may have higher coefficients due to differing scales than other features. Whereas correlation is a measure of relationship trend between price and the feature.\n",
    "\n",
    "### 3. Why usually test error is higher than training error?\n",
    "The cost function tries to minimise loss on training dataset, and often adjusts itself according to that. So usually test error is slightly higher than training error. In the case when test error is significantly higher than training error, it is probably an indication that your model is overfitting. Introducing regularization to your modelling could help, or possibly just reducing the number of free parameters. Another possibility is that your test and training sets differ on some more fundamental level.\n",
    "\n",
    "### 4. Will Analytical solution discussed in the Notebook 1 Section 2 be valid on this dataset? Why or Why not?\n",
    "Here we have categorical features as well, hence analytical solution may not work. Also the features might be correlated."
   ]
  },
  {
   "cell_type": "code",
   "execution_count": null,
   "metadata": {},
   "outputs": [],
   "source": []
  }
 ],
 "metadata": {
  "kernelspec": {
   "display_name": "Python 3",
   "language": "python",
   "name": "python3"
  },
  "language_info": {
   "codemirror_mode": {
    "name": "ipython",
    "version": 3
   },
   "file_extension": ".py",
   "mimetype": "text/x-python",
   "name": "python",
   "nbconvert_exporter": "python",
   "pygments_lexer": "ipython3",
   "version": "3.8.3"
  }
 },
 "nbformat": 4,
 "nbformat_minor": 2
}
